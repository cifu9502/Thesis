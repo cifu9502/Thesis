{
 "metadata": {
  "name": ""
 },
 "nbformat": 3,
 "nbformat_minor": 0,
 "worksheets": [
  {
   "cells": [
    {
     "cell_type": "code",
     "collapsed": false,
     "input": [
      "from __future__ import division \n",
      "%pylab inline\n",
      "#N-- Number of spaces in the chain\n",
      "N = 50\n",
      "k = linspace(0,pi, 10000)\n",
      "#l-- lambda\n",
      "l = 2\n",
      "fh = open('results.txt', 'w')\n",
      "\n",
      "#l = 0.999 + 0.1\n",
      "#l = N/(N+1) \n",
      "\n",
      "#len(resp)"
     ],
     "language": "python",
     "metadata": {},
     "outputs": [
      {
       "output_type": "stream",
       "stream": "stdout",
       "text": [
        "Populating the interactive namespace from numpy and matplotlib\n"
       ]
      }
     ],
     "prompt_number": 1
    },
    {
     "cell_type": "code",
     "collapsed": false,
     "input": [
      "# the following method will solve the trascendental equation for a given lambda l \n",
      "def espectrum(l):\n",
      "    #R--- Trascendental function\n",
      "    R = sin(k*N)-l*sin(k*(N+1))\n",
      "        #plot(k, abs(R))\n",
      "    sum = []\n",
      "    for i in range(1,len(R)-1):\n",
      "        #This condition determines if there is a 0 between R(i) and R(i+1)\n",
      "        if R[i]*R[i+1] <= 0:\n",
      "            sum.append(i)\n",
      "    sum = array(sum)        \n",
      "    k1 = k[sum]\n",
      "    for i in range(0,100):\n",
      "        #we apply newton's method to increase the acuracy of the algorithm\n",
      "        k1 =  k1 - ((sin(k1*N)-l*sin(k1*(N+1)))/(N*cos(k1*N)-(N+1)*l*cos(k1*(N+1))))\n",
      "            \n",
      "    resp = k[sum]/pi  \n",
      "    resp = k1/(pi)\n",
      "    \n",
      "    print repr(len(resp)) + ', ' +repr(resp[0]) + ','  + repr(l) \n",
      "    \n",
      "    if resp[-1] == 1:\n",
      "        resp = resp[:-1]\n",
      "        print 'pum : ' + repr(l)\n",
      "    esp = ((-cos(resp*pi)*2*l+ l**2 +1)*4)**(0.5)\n",
      "           \n",
      "    \n",
      "        #If there are only N-1 solutions, it means there is an edge state in the system. \n",
      "        #This methon find the energy for this state\n",
      "        #If there are only N-1 solutions, it means there is an edge state in the system. \n",
      "        #This methon find the energy for this state\n",
      "    if len(resp) == N-1 :\n",
      "        #func = lambda k : sinh(k*N)-l*sinh(k*(N+1)) \n",
      "        #from scipy.optimize import fsolve\n",
      "        sols = linspace(0, 20, 1000)\n",
      "        R1 = sinh(sols*N)-l*sinh(sols*(N+1))\n",
      "        sum = []\n",
      "        for i in range(1,len(R1)-1):\n",
      "            #This condition determines if there is a 0 between R(i) and R(i+1)\n",
      "            if R1[i]*R1[i+1] <= 0:\n",
      "                sum.append(i)     \n",
      "        sum = array(sum)  \n",
      "        edge = [0]\n",
      "        if len(sum)>0:\n",
      "            edge = sols[sum]\n",
      "            for i in range(0,100):\n",
      "                #we apply newton's method to increase the acuracy of the algorithm\n",
      "                edge =  edge- ((sinh(edge*N)-l*sinh(edge*(N+1)))/(N*cosh(edge*N)-(N+1)*l*cosh(edge*(N+1))))               \n",
      "                \n",
      "        resp2 = resp\n",
      "        resp = zeros(N)\n",
      "        resp[0] = edge[0]/pi\n",
      "        resp[1:] = resp2\n",
      "        esp2 = esp\n",
      "        esp = zeros(N)\n",
      "        \n",
      "        if  ((-cosh(resp[0]*pi)*2*l+ l**2 +1)*4 > -0.01) & ((-cosh(resp[0]*pi)*2*l+ l**2 +1)*4 <0):\n",
      "            esp[0] = 0\n",
      "        else:\n",
      "            esp[0] = ((-cosh(resp[0]*pi)*2*l+ l**2 +1)*4)**(0.5)    \n",
      "        esp[1:] = esp2\n",
      "    \n",
      "    str1 = '\\t'.join(str(e) for e in esp)\n",
      "    fh.write(str1)\n",
      "    fh.write('\\n')\n",
      "    "
     ],
     "language": "python",
     "metadata": {},
     "outputs": [],
     "prompt_number": 2
    },
    {
     "cell_type": "code",
     "collapsed": false,
     "input": [
      "#ls = linspace(0.11, 2,200)\n",
      "#for l in ls:\n",
      "#    espectrum(l)\n",
      "    \n",
      "\n",
      "#fh.close()    "
     ],
     "language": "python",
     "metadata": {},
     "outputs": [],
     "prompt_number": 3
    },
    {
     "cell_type": "code",
     "collapsed": false,
     "input": [
      "#R--- Trascendental function\n",
      "\n",
      "R = sin(k*N)-l*sin(k*(N+1))\n",
      "    #plot(k, abs(R))\n",
      "sum = []\n",
      "for i in range(1,len(R)-1):\n",
      "    #This condition determines if there is a 0 between R(i) and R(i+1)\n",
      "    if R[i]*R[i+1] <= 0:\n",
      "        sum.append(i)\n",
      "sum = array(sum)        \n",
      "\n",
      "k1 = k[sum]\n",
      "for i in range(0,100):\n",
      "    #we apply newton's method to increase the acuracy of the algorithm\n",
      "    k1 =  k1 - ((sin(k1*N)-l*sin(k1*(N+1)))/(N*cos(k1*N)-(N+1)*l*cos(k1*(N+1))))\n",
      "resp = k1/(pi)\n",
      "        \n",
      "esp = ((-cos(resp*pi)*2*l+ l**2 +1)*4)**(0.5)\n",
      "len(resp)\n",
      "resp"
     ],
     "language": "python",
     "metadata": {},
     "outputs": [
      {
       "metadata": {},
       "output_type": "pyout",
       "prompt_number": 4,
       "text": [
        "array([ 0.01923211,  0.03847215,  0.05772739,  0.0770039 ,  0.09630628,\n",
        "        0.11563753,  0.13499917,  0.15439149,  0.17381384,  0.19326489,\n",
        "        0.2127429 ,  0.23224587,  0.25177178,  0.27131858,  0.29088433,\n",
        "        0.31046721,  0.33006555,  0.34967782,  0.36930262,  0.38893873,\n",
        "        0.40858502,  0.42824049,  0.44790425,  0.4675755 ,  0.48725352,\n",
        "        0.50693768,  0.52662741,  0.54632217,  0.56602152,  0.58572503,\n",
        "        0.60543233,  0.62514306,  0.64485692,  0.66457363,  0.68429291,\n",
        "        0.70401454,  0.7237383 ,  0.74346397,  0.76319137,  0.78292033,\n",
        "        0.80265067,  0.82238226,  0.84211493,  0.86184855,  0.88158299,\n",
        "        0.90131812,  0.92105382,  0.94078997,  0.96052646,  0.98026318])"
       ]
      }
     ],
     "prompt_number": 4
    },
    {
     "cell_type": "code",
     "collapsed": false,
     "input": [
      "#If there are only N-1 solutions, it means there is an edge state in the system. \n",
      "    #This methon find the energy for this state\n",
      "if len(resp) == N-1 :\n",
      "    #func = lambda k : sinh(k*N)-l*sinh(k*(N+1)) \n",
      "    #from scipy.optimize import fsolve\n",
      "    sols = linspace(0, 20, 1000)\n",
      "    R1 = sinh(sols*N)-l*sinh(sols*(N+1))\n",
      "    sum = []\n",
      "    for i in range(1,len(R1)-1):\n",
      "        #This condition determines if there is a 0 between R(i) and R(i+1)\n",
      "        if R1[i]*R1[i+1] <= 0:\n",
      "            sum.append(i)     \n",
      "    sum = array(sum)        \n",
      "    edge = sols[sum]\n",
      "    for i in range(0,100):\n",
      "        #we apply newton's method to increase the acuracy of the algorithm\n",
      "        edge =  edge- ((sinh(edge*N)-l*sinh(edge*(N+1)))/(N*cosh(edge*N)-(N+1)*l*cosh(edge*(N+1))))               \n",
      "            \n",
      "    resp2 = resp\n",
      "    resp = zeros(N)\n",
      "    resp[0] = edge[0]/pi\n",
      "    resp[1:] = resp2\n",
      "    esp2 = esp\n",
      "    esp = zeros(N)\n",
      "    \n",
      "    if  ((-cosh(resp[0]*pi)*2*l+ l**2 +1)*4 > -0.01) & ((-cosh(resp[0]*pi)*2*l+ l**2 +1)*4 <0):\n",
      "        esp[0] = 0\n",
      "    else:\n",
      "        esp[0] = ((-cosh(resp[0]*pi)*2*l+ l**2 +1)*4)**(0.5)    \n",
      "    esp[1:] = esp2\n",
      "        \n",
      "    #sinh(resp[0]*pi*N)-l*sinh(resp[0]*pi*(N+1)) \n",
      "    print edge\n",
      "    #sinh(edge*N)-l*sinh(edge*(N+1)) \n",
      "    print (-cosh(edge)*2*l+ l**2 +1)*4\n",
      "esp"
     ],
     "language": "python",
     "metadata": {},
     "outputs": [
      {
       "metadata": {},
       "output_type": "pyout",
       "prompt_number": 5,
       "text": [
        "array([ 2.00728553,  2.02897076,  2.06455793,  2.11326849,  2.17410843,\n",
        "        2.24594142,  2.32755888,  2.41773928,  2.5152931 ,  2.61909329,\n",
        "        2.728093  ,  2.84133357,  2.95794537,  3.07714435,  3.1982258 ,\n",
        "        3.32055708,  3.44356989,  3.56675288,  3.68964471,  3.8118279 ,\n",
        "        3.93292333,  4.05258549,  4.17049835,  4.28637188,  4.39993902,\n",
        "        4.51095316,  4.61918596,  4.72442554,  4.82647493,  4.92515078,\n",
        "        5.02028219,  5.11170988,  5.19928528,  5.28286997,  5.36233504,\n",
        "        5.43756064,  5.50843555,  5.57485688,  5.63672974,  5.693967  ,\n",
        "        5.74648912,  5.7942239 ,  5.8371064 ,  5.87507882,  5.90809032,\n",
        "        5.93609703,  5.95906192,  5.97695476,  5.9897521 ,  5.99743719])"
       ]
      }
     ],
     "prompt_number": 5
    },
    {
     "cell_type": "code",
     "collapsed": false,
     "input": [
      "plot(k,R)\n",
      "resp"
     ],
     "language": "python",
     "metadata": {},
     "outputs": [
      {
       "metadata": {},
       "output_type": "pyout",
       "prompt_number": 6,
       "text": [
        "array([ 0.01923211,  0.03847215,  0.05772739,  0.0770039 ,  0.09630628,\n",
        "        0.11563753,  0.13499917,  0.15439149,  0.17381384,  0.19326489,\n",
        "        0.2127429 ,  0.23224587,  0.25177178,  0.27131858,  0.29088433,\n",
        "        0.31046721,  0.33006555,  0.34967782,  0.36930262,  0.38893873,\n",
        "        0.40858502,  0.42824049,  0.44790425,  0.4675755 ,  0.48725352,\n",
        "        0.50693768,  0.52662741,  0.54632217,  0.56602152,  0.58572503,\n",
        "        0.60543233,  0.62514306,  0.64485692,  0.66457363,  0.68429291,\n",
        "        0.70401454,  0.7237383 ,  0.74346397,  0.76319137,  0.78292033,\n",
        "        0.80265067,  0.82238226,  0.84211493,  0.86184855,  0.88158299,\n",
        "        0.90131812,  0.92105382,  0.94078997,  0.96052646,  0.98026318])"
       ]
      },
      {
       "metadata": {},
       "output_type": "display_data",
       "png": "[encoded data removed]",
       "text": [
        "<matplotlib.figure.Figure at 0x7f12218b1210>"
       ]
      }
     ],
     "prompt_number": 6
    },
    {
     "cell_type": "code",
     "collapsed": false,
     "input": [
      "ylim([0,2*(l+1)])\n",
      "plot(zeros(len(esp)),esp , '.')"
     ],
     "language": "python",
     "metadata": {},
     "outputs": [
      {
       "metadata": {},
       "output_type": "pyout",
       "prompt_number": 7,
       "text": [
        "[<matplotlib.lines.Line2D at 0x7f122183dc90>]"
       ]
      },
      {
       "metadata": {},
       "output_type": "display_data",
       "png": "[encoded data removed]",
       "text": [
        "<matplotlib.figure.Figure at 0x7f12217e70d0>"
       ]
      }
     ],
     "prompt_number": 7
    },
    {
     "cell_type": "code",
     "collapsed": false,
     "input": [
      "#graphic of the band structure for the value l \n",
      "ylim([-2*(l+1),2*(l+1)])\n",
      "plot(resp,esp , 'b.', resp,-esp , 'r.')\n",
      "plot(-resp,esp , 'b.', -resp,-esp , 'r.')\n",
      "plt.xlabel('k')\n",
      "plt.ylabel('E')\n",
      "plt.title('$\\lambda = 0.5$ ')\n"
     ],
     "language": "python",
     "metadata": {},
     "outputs": [
      {
       "metadata": {},
       "output_type": "pyout",
       "prompt_number": 8,
       "text": [
        "<matplotlib.text.Text at 0x7f1221811f50>"
       ]
      },
      {
       "metadata": {},
       "output_type": "display_data",
       "png": "[encoded data removed]",
       "text": [
        "<matplotlib.figure.Figure at 0x7f12216fbbd0>"
       ]
      }
     ],
     "prompt_number": 8
    },
    {
     "cell_type": "code",
     "collapsed": false,
     "input": [
      "plot(resp, esp)\n"
     ],
     "language": "python",
     "metadata": {},
     "outputs": [
      {
       "metadata": {},
       "output_type": "pyout",
       "prompt_number": 9,
       "text": [
        "[<matplotlib.lines.Line2D at 0x7f122155ab90>]"
       ]
      },
      {
       "metadata": {},
       "output_type": "display_data",
       "png": "[encoded data removed]",
       "text": [
        "<matplotlib.figure.Figure at 0x7f1221725110>"
       ]
      }
     ],
     "prompt_number": 9
    },
    {
     "cell_type": "code",
     "collapsed": false,
     "input": [
      "if l < 1 :\n",
      "    resp2 = resp\n",
      "    resp = zeros(N,dtype=np.complex_)\n",
      "    resp[0] = 1j * resp2[0]\n",
      "    resp[1:] = resp2[1:]\n",
      "resp"
     ],
     "language": "python",
     "metadata": {},
     "outputs": [
      {
       "metadata": {},
       "output_type": "pyout",
       "prompt_number": 10,
       "text": [
        "array([ 0.01923211,  0.03847215,  0.05772739,  0.0770039 ,  0.09630628,\n",
        "        0.11563753,  0.13499917,  0.15439149,  0.17381384,  0.19326489,\n",
        "        0.2127429 ,  0.23224587,  0.25177178,  0.27131858,  0.29088433,\n",
        "        0.31046721,  0.33006555,  0.34967782,  0.36930262,  0.38893873,\n",
        "        0.40858502,  0.42824049,  0.44790425,  0.4675755 ,  0.48725352,\n",
        "        0.50693768,  0.52662741,  0.54632217,  0.56602152,  0.58572503,\n",
        "        0.60543233,  0.62514306,  0.64485692,  0.66457363,  0.68429291,\n",
        "        0.70401454,  0.7237383 ,  0.74346397,  0.76319137,  0.78292033,\n",
        "        0.80265067,  0.82238226,  0.84211493,  0.86184855,  0.88158299,\n",
        "        0.90131812,  0.92105382,  0.94078997,  0.96052646,  0.98026318])"
       ]
      }
     ],
     "prompt_number": 10
    },
    {
     "cell_type": "code",
     "collapsed": false,
     "input": [],
     "language": "python",
     "metadata": {},
     "outputs": [],
     "prompt_number": 10
    },
    {
     "cell_type": "code",
     "collapsed": false,
     "input": [
      "#We define the matrix A+B \n",
      "#a1b1 = array([[2*l,-2,0 ,0 ,0], [0, 2*l,-2,0 ,0 ],[0,0, 2*l,-2,0 ],[0,0,0 ,2*l,-2],[0,0,0,0,2*l]])\n",
      "#a2b2--- matrix A+B\n",
      "#a2b2 = zeros((N,N))\n",
      "#for i in range(0, 100):\n",
      "#    a2b2[5*i:5*(i+1) ,5*i:5*(i+1) ] = a1b1\n",
      "#    a2b2[5*i-1, 5*i] = -2\n",
      "\n",
      "#dot(a2b2, transpose(a2b2))\n"
     ],
     "language": "python",
     "metadata": {},
     "outputs": [],
     "prompt_number": 11
    },
    {
     "cell_type": "code",
     "collapsed": false,
     "input": [
      "#from sympy import *"
     ],
     "language": "python",
     "metadata": {},
     "outputs": [],
     "prompt_number": 12
    },
    {
     "cell_type": "code",
     "collapsed": false,
     "input": [
      "#The row vectors in psi are the eigenvectors of the matrix (A+B)(A-B)\n",
      "#psi = zeros((N,N))\n",
      "psi = zeros((N,N),dtype=np.complex_)\n",
      "\n",
      "for i in range(0,N):\n",
      "    psi[:,i] = sin(resp *pi* (i+1))\n",
      "    \n",
      "\n",
      "#phi is defined as phi(A+B) = Lambda_k psi   \n",
      "#phi = zeros((N,N))\n",
      "phi = zeros((N,N),dtype=np.complex_)\n",
      "\n",
      "for i in range(0,N):\n",
      "    #phi[:,i] = dot( transpose(a2b2), psi[:,i])/esp \n",
      "    phi[:,i] = 2*(-sin(resp *pi* (i)) + l*sin(resp *pi* (i+1)))/esp\n",
      "\n",
      "    \n",
      "#With phi and psi defined we can get the matrices g and h\n",
      "g = (phi + psi)/2\n",
      "h = (phi - psi)/2\n",
      "\n",
      "#Result and result2 probe that the conditions for the  bogoliuvov trans\n",
      "result = dot(g,conjugate(transpose(g))) + dot(h,conjugate(transpose(h))) \n",
      "result2 = dot(g,transpose(h)) + dot(h,transpose(g)) \n",
      "\n",
      "#g = g/(result[0,0])**(1/2)\n",
      "#h = h/(result[0,0])**(1/2)\n",
      "\n",
      "#result = dot(g,transpose(g)) + dot(h,transpose(h)) \n",
      "#result2 = dot(g,transpose(h)) + dot(h,transpose(g))\n",
      "\n",
      "result/result[0,0]\n"
     ],
     "language": "python",
     "metadata": {},
     "outputs": [
      {
       "metadata": {},
       "output_type": "pyout",
       "prompt_number": 13,
       "text": [
        "array([[  1.00000000e+00+0.j,  -2.15284149e-16+0.j,  -1.39474232e-17+0.j,\n",
        "        ...,  -1.50856564e-16+0.j,  -2.42824471e-16+0.j,\n",
        "         -4.44088207e-16+0.j],\n",
        "       [ -2.15284149e-16+0.j,   9.99391008e-01+0.j,   6.36743246e-16+0.j,\n",
        "        ...,   3.15318539e-18+0.j,   1.21497738e-16+0.j,\n",
        "          6.92245148e-16+0.j],\n",
        "       [ -1.39474232e-17+0.j,   6.36743246e-16+0.j,   9.98432879e-01+0.j,\n",
        "        ...,   3.01437849e-16+0.j,   2.06975756e-16+0.j,\n",
        "         -1.09900189e-15+0.j],\n",
        "       ..., \n",
        "       [ -1.50856564e-16+0.j,   3.15318539e-18+0.j,   3.01437849e-16+0.j,\n",
        "        ...,   9.74587443e-01+0.j,  -7.56964695e-16+0.j,\n",
        "         -1.75102307e-15+0.j],\n",
        "       [ -2.42824471e-16+0.j,   1.21497738e-16+0.j,   2.06975756e-16+0.j,\n",
        "        ...,  -7.56964695e-16+0.j,   9.74573653e-01+0.j,\n",
        "          1.82570059e-15+0.j],\n",
        "       [ -4.44088207e-16+0.j,   6.92245148e-16+0.j,  -1.09900189e-15+0.j,\n",
        "        ...,  -1.75102307e-15+0.j,   1.82570059e-15+0.j,\n",
        "          9.74565415e-01+0.j]])"
       ]
      }
     ],
     "prompt_number": 13
    },
    {
     "cell_type": "code",
     "collapsed": false,
     "input": [
      "g"
     ],
     "language": "python",
     "metadata": {},
     "outputs": [
      {
       "metadata": {},
       "output_type": "pyout",
       "prompt_number": 14,
       "text": [
        "array([[ 0.09035491+0.j,  0.15029830+0.j,  0.20969319+0.j, ...,\n",
        "         0.20969319+0.j,  0.15029830+0.j,  0.09035491+0.j],\n",
        "       [ 0.17913311+0.j,  0.29622851+0.j,  0.40900185+0.j, ...,\n",
        "        -0.40900185+0.j, -0.29622851+0.j, -0.17913311+0.j],\n",
        "       [ 0.26490527+0.j,  0.43375989+0.j,  0.58838721+0.j, ...,\n",
        "         0.58838721+0.j,  0.43375989+0.j,  0.26490527+0.j],\n",
        "       ..., \n",
        "       [ 0.15435680+0.j, -0.33433072+0.j,  0.50276974+0.j, ...,\n",
        "        -0.50276974+0.j,  0.33433072+0.j, -0.15435680+0.j],\n",
        "       [ 0.10314735+0.j, -0.22536112+0.j,  0.34411363+0.j, ...,\n",
        "         0.34411363+0.j, -0.22536112+0.j,  0.10314735+0.j],\n",
        "       [ 0.05164661+0.j, -0.11342668+0.j,  0.17477082+0.j, ...,\n",
        "        -0.17477082+0.j,  0.11342668+0.j, -0.05164661+0.j]])"
       ]
      }
     ],
     "prompt_number": 14
    },
    {
     "cell_type": "code",
     "collapsed": false,
     "input": [
      "conjugate(transpose(psi))"
     ],
     "language": "python",
     "metadata": {},
     "outputs": [
      {
       "metadata": {},
       "output_type": "pyout",
       "prompt_number": 15,
       "text": [
        "array([[ 0.06038271-0.j,  0.12056978-0.j,  0.18036344-0.j, ...,\n",
        "         0.18494292-0.j,  0.12369217-0.j,  0.06196534-0.j],\n",
        "       [ 0.12054506-0.j,  0.23938042-0.j,  0.35481098-0.j, ...,\n",
        "        -0.36350504-0.j, -0.24548459-0.j, -0.12369252-0.j],\n",
        "       [ 0.18026750-0.j,  0.35469842-0.j,  0.51762073-0.j, ...,\n",
        "         0.52952570-0.j,  0.36350667-0.j,  0.18494430-0.j],\n",
        "       ..., \n",
        "       [ 0.23911888-0.j, -0.46330528-0.j,  0.65915369-0.j, ...,\n",
        "        -0.47601379-0.j,  0.32472059-0.j, -0.16459734-0.j],\n",
        "       [ 0.18005153-0.j, -0.35307661-0.j,  0.51270880-0.j, ...,\n",
        "         0.30515640-0.j, -0.20523766-0.j,  0.10316085-0.j],\n",
        "       [ 0.12032710-0.j, -0.23769644-0.j,  0.34944709-0.j, ...,\n",
        "        -0.12377067-0.j,  0.08260253-0.j, -0.04132788-0.j]])"
       ]
      }
     ],
     "prompt_number": 15
    },
    {
     "cell_type": "code",
     "collapsed": false,
     "input": [
      "psi"
     ],
     "language": "python",
     "metadata": {},
     "outputs": [
      {
       "metadata": {},
       "output_type": "pyout",
       "prompt_number": 16,
       "text": [
        "array([[ 0.06038271+0.j,  0.12054506+0.j,  0.18026750+0.j, ...,\n",
        "         0.23911888+0.j,  0.18005153+0.j,  0.12032710+0.j],\n",
        "       [ 0.12056978+0.j,  0.23938042+0.j,  0.35469842+0.j, ...,\n",
        "        -0.46330528+0.j, -0.35307661+0.j, -0.23769644+0.j],\n",
        "       [ 0.18036344+0.j,  0.35481098+0.j,  0.51762073+0.j, ...,\n",
        "         0.65915369+0.j,  0.51270880+0.j,  0.34944709+0.j],\n",
        "       ..., \n",
        "       [ 0.18494292+0.j, -0.36350504+0.j,  0.52952570+0.j, ...,\n",
        "        -0.47601379+0.j,  0.30515640+0.j, -0.12377067+0.j],\n",
        "       [ 0.12369217+0.j, -0.24548459+0.j,  0.36350667+0.j, ...,\n",
        "         0.32472059+0.j, -0.20523766+0.j,  0.08260253+0.j],\n",
        "       [ 0.06196534+0.j, -0.12369252+0.j,  0.18494430+0.j, ...,\n",
        "        -0.16459734+0.j,  0.10316085+0.j, -0.04132788+0.j]])"
       ]
      }
     ],
     "prompt_number": 16
    },
    {
     "cell_type": "code",
     "collapsed": false,
     "input": [
      "g[-1,:]"
     ],
     "language": "python",
     "metadata": {},
     "outputs": [
      {
       "metadata": {},
       "output_type": "pyout",
       "prompt_number": 17,
       "text": [
        "array([ 0.05164661+0.j, -0.11342668+0.j,  0.17477082+0.j, -0.23544324+0.j,\n",
        "        0.29521076+0.j, -0.35384367+0.j,  0.41111661+0.j, -0.46680947+0.j,\n",
        "        0.52070820+0.j, -0.57260564+0.j,  0.62230233+0.j, -0.66960727+0.j,\n",
        "        0.71433864+0.j, -0.75632452+0.j,  0.79540355+0.j, -0.83142553+0.j,\n",
        "        0.86425202+0.j, -0.89375683+0.j,  0.91982659+0.j, -0.94236109+0.j,\n",
        "        0.96127372+0.j, -0.97649180+0.j,  0.98795684+0.j, -0.99562476+0.j,\n",
        "        0.99946610+0.j, -0.99946610+0.j,  0.99562476+0.j, -0.98795684+0.j,\n",
        "        0.97649180+0.j, -0.96127372+0.j,  0.94236109+0.j, -0.91982659+0.j,\n",
        "        0.89375683+0.j, -0.86425202+0.j,  0.83142553+0.j, -0.79540355+0.j,\n",
        "        0.75632452+0.j, -0.71433864+0.j,  0.66960727+0.j, -0.62230233+0.j,\n",
        "        0.57260564+0.j, -0.52070820+0.j,  0.46680947+0.j, -0.41111661+0.j,\n",
        "        0.35384367+0.j, -0.29521076+0.j,  0.23544324+0.j, -0.17477082+0.j,\n",
        "        0.11342668+0.j, -0.05164661+0.j])"
       ]
      }
     ],
     "prompt_number": 17
    },
    {
     "cell_type": "code",
     "collapsed": false,
     "input": [
      "dot(h[:,0], h[:,0])\n",
      "h[0,0]**(2)\n",
      "g[0,0]**(2)\n",
      "g[0,0]**2 - h[0,0]**2 + dot(h[:,0], h[:,0])"
     ],
     "language": "python",
     "metadata": {},
     "outputs": [
      {
       "metadata": {},
       "output_type": "pyout",
       "prompt_number": 18,
       "text": [
        "(0.42036093489164156+0j)"
       ]
      }
     ],
     "prompt_number": 18
    },
    {
     "cell_type": "code",
     "collapsed": false,
     "input": [
      "i = 0\n",
      "number = 0\n",
      "correlation = []\n",
      "for k in range(0,len(g[0])):\n",
      "    dens = g[i,k]**2 - h[i,k]**2 + dot(h[:,k], h[:,k])\n",
      "    #dens = g[k,i]**2- h[k,i]**2 + dot(h[k,:], h[k,:])\n",
      "    correlation.append(dens)\n",
      "    \n",
      "    number = number + dens\n",
      "\n",
      "plot(linspace(0,N,N),correlation)\n"
     ],
     "language": "python",
     "metadata": {},
     "outputs": [
      {
       "output_type": "stream",
       "stream": "stderr",
       "text": [
        "/usr/lib/python2.7/dist-packages/numpy/core/numeric.py:460: ComplexWarning: Casting complex values to real discards the imaginary part\n",
        "  return array(a, dtype, copy=False, order=order)\n"
       ]
      },
      {
       "metadata": {},
       "output_type": "pyout",
       "prompt_number": 19,
       "text": [
        "[<matplotlib.lines.Line2D at 0x7f1221604e10>]"
       ]
      },
      {
       "metadata": {},
       "output_type": "display_data",
       "png": "[encoded data removed]",
       "text": [
        "<matplotlib.figure.Figure at 0x7f122157a310>"
       ]
      }
     ],
     "prompt_number": 19
    },
    {
     "cell_type": "code",
     "collapsed": false,
     "input": [
      "len(dens)"
     ],
     "language": "python",
     "metadata": {},
     "outputs": [
      {
       "ename": "TypeError",
       "evalue": "object of type 'numpy.complex128' has no len()",
       "output_type": "pyerr",
       "traceback": [
        "\u001b[0;31m---------------------------------------------------------------------------\u001b[0m\n\u001b[0;31mTypeError\u001b[0m                                 Traceback (most recent call last)",
        "\u001b[0;32m<ipython-input-20-24a82d6f5300>\u001b[0m in \u001b[0;36m<module>\u001b[0;34m()\u001b[0m\n\u001b[0;32m----> 1\u001b[0;31m \u001b[0mlen\u001b[0m\u001b[0;34m(\u001b[0m\u001b[0mdens\u001b[0m\u001b[0;34m)\u001b[0m\u001b[0;34m\u001b[0m\u001b[0m\n\u001b[0m",
        "\u001b[0;31mTypeError\u001b[0m: object of type 'numpy.complex128' has no len()"
       ]
      }
     ],
     "prompt_number": 20
    },
    {
     "cell_type": "code",
     "collapsed": false,
     "input": [
      "h[0]/(result[0,0]**(1/2))"
     ],
     "language": "python",
     "metadata": {},
     "outputs": [
      {
       "metadata": {},
       "output_type": "pyout",
       "prompt_number": 21,
       "text": [
        "array([ 0.00587865+0.j,  0.00583570+0.j,  0.00577146+0.j,  0.00568615+0.j,\n",
        "        0.00558009+0.j,  0.00545367+0.j,  0.00530735+0.j,  0.00514166+0.j,\n",
        "        0.00495720+0.j,  0.00475466+0.j,  0.00453476+0.j,  0.00429831+0.j,\n",
        "        0.00404618+0.j,  0.00377928+0.j,  0.00349858+0.j,  0.00320512+0.j,\n",
        "        0.00289997+0.j,  0.00258423+0.j,  0.00225906+0.j,  0.00192564+0.j,\n",
        "        0.00158520+0.j,  0.00123897+0.j,  0.00088823+0.j,  0.00053424+0.j,\n",
        "        0.00017830+0.j, -0.00017830+0.j, -0.00053424+0.j, -0.00088823+0.j,\n",
        "       -0.00123897+0.j, -0.00158520+0.j, -0.00192564+0.j, -0.00225906+0.j,\n",
        "       -0.00258423+0.j, -0.00289997+0.j, -0.00320512+0.j, -0.00349858+0.j,\n",
        "       -0.00377928+0.j, -0.00404618+0.j, -0.00429831+0.j, -0.00453476+0.j,\n",
        "       -0.00475466+0.j, -0.00495720+0.j, -0.00514166+0.j, -0.00530735+0.j,\n",
        "       -0.00545367+0.j, -0.00558009+0.j, -0.00568615+0.j, -0.00577146+0.j,\n",
        "       -0.00583570+0.j, -0.00587865+0.j])"
       ]
      }
     ],
     "prompt_number": 21
    },
    {
     "cell_type": "code",
     "collapsed": false,
     "input": [
      "dot(phi,transpose(phi))"
     ],
     "language": "python",
     "metadata": {},
     "outputs": [
      {
       "metadata": {},
       "output_type": "pyout",
       "prompt_number": 22,
       "text": [
        "array([[  2.59945656e+01+0.j,  -1.22670971e-14+0.j,  -1.64798730e-15+0.j,\n",
        "        ...,  -1.73645820e-15+0.j,  -2.93688684e-15+0.j,\n",
        "         -6.42931888e-15+0.j],\n",
        "       [ -1.22670971e-14+0.j,   2.59787351e+01+0.j,   2.07854567e-14+0.j,\n",
        "        ...,  -3.46944695e-18+0.j,   3.53363172e-15+0.j,\n",
        "          8.51142073e-15+0.j],\n",
        "       [ -1.64798730e-15+0.j,   2.07854567e-14+0.j,   2.59538289e+01+0.j,\n",
        "        ...,   6.11316553e-15+0.j,   7.63278329e-16+0.j,\n",
        "         -1.47937218e-14+0.j],\n",
        "       ..., \n",
        "       [ -1.73645820e-15+0.j,  -3.46944695e-18+0.j,   6.11316553e-15+0.j,\n",
        "        ...,   2.53339772e+01+0.j,  -1.85823579e-14+0.j,\n",
        "         -4.45390252e-14+0.j],\n",
        "       [ -2.93688684e-15+0.j,   3.53363172e-15+0.j,   7.63278329e-16+0.j,\n",
        "        ...,  -1.85823579e-14+0.j,   2.53336187e+01+0.j,\n",
        "          5.05082087e-14+0.j],\n",
        "       [ -6.42931888e-15+0.j,   8.51142073e-15+0.j,  -1.47937218e-14+0.j,\n",
        "        ...,  -4.45390252e-14+0.j,   5.05082087e-14+0.j,\n",
        "          2.53334046e+01+0.j]])"
       ]
      }
     ],
     "prompt_number": 22
    },
    {
     "cell_type": "code",
     "collapsed": false,
     "input": [
      "dot(psi,transpose(psi))"
     ],
     "language": "python",
     "metadata": {},
     "outputs": []
    },
    {
     "cell_type": "code",
     "collapsed": false,
     "input": [
      "transpose(g)"
     ],
     "language": "python",
     "metadata": {},
     "outputs": [
      {
       "metadata": {},
       "output_type": "pyout",
       "prompt_number": 21,
       "text": [
        "array([[ 0.00000000+0.0061806j ,  0.01227648+0.j        ,\n",
        "         0.01824284+0.j        , ..., -0.02953139+0.j        ,\n",
        "        -0.02008044+0.j        , -0.01015982+0.j        ],\n",
        "       [ 0.00000000+0.00619478j,  0.01201338+0.j        ,\n",
        "         0.01736244+0.j        , ...,  0.02786406+0.j        ,\n",
        "         0.01957795+0.j        ,  0.01009636+0.j        ],\n",
        "       [ 0.00000000+0.00623265j,  0.01156674+0.j        ,\n",
        "         0.01588615+0.j        , ..., -0.02525995+0.j        ,\n",
        "        -0.01878250+0.j        , -0.00999510+0.j        ],\n",
        "       ..., \n",
        "       [ 0.00000000+0.05705071j,  0.01156674+0.j        ,\n",
        "        -0.01588615+0.j        , ..., -0.02525995+0.j        ,\n",
        "         0.01878250+0.j        , -0.00999510+0.j        ],\n",
        "       [ 0.00000000+0.06066946j,  0.01201338+0.j        ,\n",
        "        -0.01736244+0.j        , ...,  0.02786406+0.j        ,\n",
        "        -0.01957795+0.j        ,  0.01009636+0.j        ],\n",
        "       [ 0.00000000+0.06452031j,  0.01227648+0.j        ,\n",
        "        -0.01824284+0.j        , ..., -0.02953139+0.j        ,\n",
        "         0.02008044+0.j        , -0.01015982+0.j        ]])"
       ]
      }
     ],
     "prompt_number": 21
    },
    {
     "cell_type": "code",
     "collapsed": false,
     "input": [
      "phi"
     ],
     "language": "python",
     "metadata": {},
     "outputs": [
      {
       "metadata": {},
       "output_type": "pyout",
       "prompt_number": 22,
       "text": [
        "array([[ 0.00000000 -0.04952053j,  0.00000000 -0.11161064j,\n",
        "         0.00000000 -0.17412774j, ...,  0.00000000 -9.59088143j,\n",
        "         0.00000000-10.20594888j,  0.00000000-10.86006112j],\n",
        "       [-0.09881609 +0.j        , -0.22082646 +0.j        ,\n",
        "        -0.33946299 +0.j        , ...,  0.36259647 +0.j        ,\n",
        "         0.24485323 +0.j        ,  0.12336905 +0.j        ],\n",
        "       [-0.14797698 +0.j        , -0.32786950 +0.j        ,\n",
        "        -0.49650922 +0.j        , ..., -0.52828152 +0.j        ,\n",
        "        -0.36259438 +0.j        , -0.18446266 +0.j        ],\n",
        "       ..., \n",
        "       [-0.24164708 +0.j        ,  0.41475832 +0.j        ,\n",
        "        -0.57392554 +0.j        , ...,  0.52340564 +0.j        ,\n",
        "        -0.35903020 +0.j        ,  0.18258430 +0.j        ],\n",
        "       [-0.16225956 +0.j        ,  0.28152616 +0.j        ,\n",
        "        -0.39657999 +0.j        , ..., -0.35901499 +0.j        ,\n",
        "         0.24237026 +0.j        , -0.12209867 +0.j        ],\n",
        "       [-0.08148184 +0.j        ,  0.14228813 +0.j        ,\n",
        "        -0.20256165 +0.j        , ...,  0.18257144 +0.j        ,\n",
        "        -0.12209541 +0.j        ,  0.06116221 +0.j        ]])"
       ]
      }
     ],
     "prompt_number": 22
    },
    {
     "cell_type": "code",
     "collapsed": false,
     "input": [
      "psi"
     ],
     "language": "python",
     "metadata": {},
     "outputs": [
      {
       "metadata": {},
       "output_type": "pyout",
       "prompt_number": 23,
       "text": [
        "array([[ 0.00000000 +0.06188173j,  0.00000000 +0.12400019j,\n",
        "         0.00000000 +0.18659305j, ...,  0.00000000 +9.70498285j,\n",
        "         0.00000000+10.3272878j ,  0.00000000+10.98910174j],\n",
        "       [ 0.12336905 +0.j        ,  0.24485323 +0.j        ,\n",
        "         0.36259647 +0.j        , ..., -0.33946299 +0.j        ,\n",
        "        -0.22082646 +0.j        , -0.09881609 +0.j        ],\n",
        "       [ 0.18446266 +0.j        ,  0.36259438 +0.j        ,\n",
        "         0.52828152 +0.j        , ...,  0.49650922 -0.j        ,\n",
        "         0.32786950 -0.j        ,  0.14797698 -0.j        ],\n",
        "       ..., \n",
        "       [ 0.18258430 -0.j        , -0.35903020 +0.j        ,\n",
        "         0.52340564 -0.j        , ..., -0.57392554 -0.j        ,\n",
        "         0.41475832 +0.j        , -0.24164708 -0.j        ],\n",
        "       [ 0.12209867 -0.j        , -0.24237026 +0.j        ,\n",
        "         0.35901499 -0.j        , ...,  0.39657999 +0.j        ,\n",
        "        -0.28152616 -0.j        ,  0.16225956 +0.j        ],\n",
        "       [ 0.06116221 -0.j        , -0.12209541 +0.j        ,\n",
        "         0.18257144 -0.j        , ..., -0.20256165 -0.j        ,\n",
        "         0.14228813 +0.j        , -0.08148184 -0.j        ]])"
       ]
      }
     ],
     "prompt_number": 23
    },
    {
     "cell_type": "code",
     "collapsed": false,
     "input": [
      "psi[0,4]"
     ],
     "language": "python",
     "metadata": {},
     "outputs": []
    },
    {
     "cell_type": "code",
     "collapsed": false,
     "input": [
      "sin(resp *pi* N) - l*sin(resp *pi* (N+1))"
     ],
     "language": "python",
     "metadata": {},
     "outputs": []
    },
    {
     "cell_type": "code",
     "collapsed": false,
     "input": [
      "array([1,2])/array([2,1])"
     ],
     "language": "python",
     "metadata": {},
     "outputs": []
    },
    {
     "cell_type": "code",
     "collapsed": false,
     "input": [
      "k1 = linspace(-pi,pi,N)\n",
      "((-cos(k1)*2*l+ l**2 +1)*4)**(0.5)\n",
      "plot(k1, ((-cos(k1)*2*l+ l**2 +1)*4)**(0.5) , 'r.')\n",
      "plot(k1, -((-cos(k1)*2*l+ l**2 +1)*4)**(0.5), 'r.' )\n",
      "plt.xlabel('k')\n",
      "plt.ylabel('E')\n",
      "plt.title('(b)')\n"
     ],
     "language": "python",
     "metadata": {},
     "outputs": [
      {
       "metadata": {},
       "output_type": "pyout",
       "prompt_number": 106,
       "text": [
        "<matplotlib.text.Text at 0x7fecbed5a890>"
       ]
      },
      {
       "metadata": {},
       "output_type": "display_data",
       "png": "[encoded data removed]",
       "text": [
        "<matplotlib.figure.Figure at 0x7fecbf0c6a50>"
       ]
      }
     ],
     "prompt_number": 106
    },
    {
     "cell_type": "code",
     "collapsed": false,
     "input": [
      "g"
     ],
     "language": "python",
     "metadata": {},
     "outputs": []
    },
    {
     "cell_type": "code",
     "collapsed": false,
     "input": [
      "h"
     ],
     "language": "python",
     "metadata": {},
     "outputs": []
    },
    {
     "cell_type": "code",
     "collapsed": false,
     "input": [
      "g + h"
     ],
     "language": "python",
     "metadata": {},
     "outputs": []
    },
    {
     "cell_type": "code",
     "collapsed": false,
     "input": [
      "resp"
     ],
     "language": "python",
     "metadata": {},
     "outputs": []
    },
    {
     "cell_type": "code",
     "collapsed": false,
     "input": [],
     "language": "python",
     "metadata": {},
     "outputs": [],
     "prompt_number": 104
    },
    {
     "cell_type": "code",
     "collapsed": false,
     "input": [],
     "language": "python",
     "metadata": {},
     "outputs": [],
     "prompt_number": 44
    },
    {
     "cell_type": "code",
     "collapsed": false,
     "input": [
      "linspace(0,10,100)"
     ],
     "language": "python",
     "metadata": {},
     "outputs": [
      {
       "metadata": {},
       "output_type": "pyout",
       "prompt_number": 488,
       "text": [
        "array([  0.        ,   0.1010101 ,   0.2020202 ,   0.3030303 ,\n",
        "         0.4040404 ,   0.50505051,   0.60606061,   0.70707071,\n",
        "         0.80808081,   0.90909091,   1.01010101,   1.11111111,\n",
        "         1.21212121,   1.31313131,   1.41414141,   1.51515152,\n",
        "         1.61616162,   1.71717172,   1.81818182,   1.91919192,\n",
        "         2.02020202,   2.12121212,   2.22222222,   2.32323232,\n",
        "         2.42424242,   2.52525253,   2.62626263,   2.72727273,\n",
        "         2.82828283,   2.92929293,   3.03030303,   3.13131313,\n",
        "         3.23232323,   3.33333333,   3.43434343,   3.53535354,\n",
        "         3.63636364,   3.73737374,   3.83838384,   3.93939394,\n",
        "         4.04040404,   4.14141414,   4.24242424,   4.34343434,\n",
        "         4.44444444,   4.54545455,   4.64646465,   4.74747475,\n",
        "         4.84848485,   4.94949495,   5.05050505,   5.15151515,\n",
        "         5.25252525,   5.35353535,   5.45454545,   5.55555556,\n",
        "         5.65656566,   5.75757576,   5.85858586,   5.95959596,\n",
        "         6.06060606,   6.16161616,   6.26262626,   6.36363636,\n",
        "         6.46464646,   6.56565657,   6.66666667,   6.76767677,\n",
        "         6.86868687,   6.96969697,   7.07070707,   7.17171717,\n",
        "         7.27272727,   7.37373737,   7.47474747,   7.57575758,\n",
        "         7.67676768,   7.77777778,   7.87878788,   7.97979798,\n",
        "         8.08080808,   8.18181818,   8.28282828,   8.38383838,\n",
        "         8.48484848,   8.58585859,   8.68686869,   8.78787879,\n",
        "         8.88888889,   8.98989899,   9.09090909,   9.19191919,\n",
        "         9.29292929,   9.39393939,   9.49494949,   9.5959596 ,\n",
        "         9.6969697 ,   9.7979798 ,   9.8989899 ,  10.        ])"
       ]
      }
     ],
     "prompt_number": 488
    },
    {
     "cell_type": "code",
     "collapsed": false,
     "input": [
      "a = []\n",
      "a.empty()"
     ],
     "language": "python",
     "metadata": {},
     "outputs": [
      {
       "ename": "AttributeError",
       "evalue": "'list' object has no attribute 'empty'",
       "output_type": "pyerr",
       "traceback": [
        "\u001b[0;31m---------------------------------------------------------------------------\u001b[0m\n\u001b[0;31mAttributeError\u001b[0m                            Traceback (most recent call last)",
        "\u001b[0;32m<ipython-input-688-95d7f00cb7d0>\u001b[0m in \u001b[0;36m<module>\u001b[0;34m()\u001b[0m\n\u001b[1;32m      1\u001b[0m \u001b[0ma\u001b[0m \u001b[0;34m=\u001b[0m \u001b[0;34m[\u001b[0m\u001b[0;34m]\u001b[0m\u001b[0;34m\u001b[0m\u001b[0m\n\u001b[0;32m----> 2\u001b[0;31m \u001b[0ma\u001b[0m\u001b[0;34m.\u001b[0m\u001b[0mempty\u001b[0m\u001b[0;34m(\u001b[0m\u001b[0;34m)\u001b[0m\u001b[0;34m\u001b[0m\u001b[0m\n\u001b[0m",
        "\u001b[0;31mAttributeError\u001b[0m: 'list' object has no attribute 'empty'"
       ]
      }
     ],
     "prompt_number": 688
    },
    {
     "cell_type": "code",
     "collapsed": false,
     "input": [],
     "language": "python",
     "metadata": {},
     "outputs": []
    }
   ],
   "metadata": {}
  }
 ]
}