{
 "metadata": {
  "name": ""
 },
 "nbformat": 3,
 "nbformat_minor": 0,
 "worksheets": [
  {
   "cells": [
    {
     "cell_type": "code",
     "collapsed": false,
     "input": [
      "from __future__ import division \n",
      "%pylab inline\n",
      "#N-- Number of spaces in the chain\n",
      "N = 50\n",
      "k = linspace(0,pi, 500000)\n",
      "#l-- lambda\n",
      "l = 1\n",
      "fh = open('results.txt', 'w')\n",
      "\n",
      "#l = 0.999 + 0.1\n",
      "#l = N/(N+1) \n",
      "def espectrum(l):\n",
      "    R = sin(k*N)-l*sin(k*(N+1))\n",
      "    #plot(k, abs(R))\n",
      "    sum = []\n",
      "    for i in range(1,len(R)-1):\n",
      "        if R[i]*R[i+1] <= 0:\n",
      "            sum.append(i)\n",
      "    resp = k[sum]/pi  \n",
      "    str1 = '\\t'.join(str(e) for e in resp)\n",
      "    fh.write(str1)\n",
      "    fh.write('\\n')\n",
      "#len(resp)"
     ],
     "language": "python",
     "metadata": {},
     "outputs": [
      {
       "output_type": "stream",
       "stream": "stdout",
       "text": [
        "Populating the interactive namespace from numpy and matplotlib\n"
       ]
      },
      {
       "output_type": "stream",
       "stream": "stderr",
       "text": [
        "WARNING: pylab import has clobbered these variables: ['sum']\n",
        "`%pylab --no-import-all` prevents importing * from pylab and numpy\n"
       ]
      }
     ],
     "prompt_number": 117
    },
    {
     "cell_type": "code",
     "collapsed": false,
     "input": [
      "#R--- Trascendental function\n",
      "R = sin(k*N)-l*sin(k*(N+1))\n",
      "    #plot(k, abs(R))\n",
      "sum = []\n",
      "for i in range(1,len(R)-1):\n",
      "    #This condition determines if there is a 0 between R(i) and R(i+1)\n",
      "    if R[i]*R[i+1] <= 0:\n",
      "        sum.append(i)\n",
      "sum = array(sum)        \n",
      "\n",
      "k1 = k[sum]\n",
      "for i in range(0,100):\n",
      "    k1 =  k1 - ((sin(k1*N)-l*sin(k1*(N+1)))/(N*cos(k1*N)-(N+1)*l*cos(k1*(N+1))))\n",
      "\n",
      "\n",
      "#resp--- This will be the array of answers of the trascendental equation\n",
      "#resp = (k[sum]+ k[sum+1])/(2*pi)  \n",
      "#esp--- Describes the spectrum of the hamiltonian\n",
      "#esp = ((-cos(resp*pi)*2*l+ l**2 +1)*4)**(0.5)\n",
      "\n",
      "resp = k1/(pi)\n",
      "esp = ((-cos(resp*pi)*2*l+ l**2 +1)*4)**(0.5)\n",
      "len(esp)\n"
     ],
     "language": "python",
     "metadata": {},
     "outputs": [
      {
       "metadata": {},
       "output_type": "pyout",
       "prompt_number": 118,
       "text": [
        "50"
       ]
      }
     ],
     "prompt_number": 118
    },
    {
     "cell_type": "code",
     "collapsed": false,
     "input": [
      "\n",
      "plot(k,R)\n",
      "resp\n"
     ],
     "language": "python",
     "metadata": {},
     "outputs": [
      {
       "metadata": {},
       "output_type": "pyout",
       "prompt_number": 119,
       "text": [
        "array([ 0.00990099,  0.02970297,  0.04950495,  0.06930693,  0.08910891,\n",
        "        0.10891089,  0.12871287,  0.14851485,  0.16831683,  0.18811881,\n",
        "        0.20792079,  0.22772277,  0.24752475,  0.26732673,  0.28712871,\n",
        "        0.30693069,  0.32673267,  0.34653465,  0.36633663,  0.38613861,\n",
        "        0.40594059,  0.42574257,  0.44554455,  0.46534653,  0.48514851,\n",
        "        0.5049505 ,  0.52475248,  0.54455446,  0.56435644,  0.58415842,\n",
        "        0.6039604 ,  0.62376238,  0.64356436,  0.66336634,  0.68316832,\n",
        "        0.7029703 ,  0.72277228,  0.74257426,  0.76237624,  0.78217822,\n",
        "        0.8019802 ,  0.82178218,  0.84158416,  0.86138614,  0.88118812,\n",
        "        0.9009901 ,  0.92079208,  0.94059406,  0.96039604,  0.98019802])"
       ]
      },
      {
       "metadata": {},
       "output_type": "display_data",
       "png": "[encoded data removed]",
       "text": [
        "<matplotlib.figure.Figure at 0x7f1f32fe2550>"
       ]
      }
     ],
     "prompt_number": 119
    },
    {
     "cell_type": "code",
     "collapsed": false,
     "input": [
      "ylim([0,2*(l+1)])\n",
      "plot(zeros(len(esp)),esp , '.')"
     ],
     "language": "python",
     "metadata": {},
     "outputs": [
      {
       "metadata": {},
       "output_type": "pyout",
       "prompt_number": 120,
       "text": [
        "[<matplotlib.lines.Line2D at 0x7f1f32daea90>]"
       ]
      },
      {
       "metadata": {},
       "output_type": "display_data",
       "png": "[encoded data removed]",
       "text": [
        "<matplotlib.figure.Figure at 0x7f1f328da710>"
       ]
      }
     ],
     "prompt_number": 120
    },
    {
     "cell_type": "code",
     "collapsed": false,
     "input": [
      "#graphic of the band structure for the value l \n",
      "ylim([-2*(l+1),2*(l+1)])\n",
      "plot(resp,esp , 'b.', resp,-esp , 'r.')\n",
      "plot(-resp,esp , 'b.', -resp,-esp , 'r.')\n",
      "plt.xlabel('k')\n",
      "plt.ylabel('E')\n",
      "plt.title('$\\lambda = 0.5$ ')\n"
     ],
     "language": "python",
     "metadata": {},
     "outputs": [
      {
       "metadata": {},
       "output_type": "pyout",
       "prompt_number": 121,
       "text": [
        "<matplotlib.text.Text at 0x7f1f32e29590>"
       ]
      },
      {
       "metadata": {},
       "output_type": "display_data",
       "png": "[encoded data removed]",
       "text": [
        "<matplotlib.figure.Figure at 0x7f1f32fb2810>"
       ]
      }
     ],
     "prompt_number": 121
    },
    {
     "cell_type": "code",
     "collapsed": false,
     "input": [
      "plot(resp, -esp)\n"
     ],
     "language": "python",
     "metadata": {},
     "outputs": [
      {
       "metadata": {},
       "output_type": "pyout",
       "prompt_number": 40,
       "text": [
        "[<matplotlib.lines.Line2D at 0x7fc8f6ffe0d0>]"
       ]
      },
      {
       "metadata": {},
       "output_type": "display_data",
       "png": "[encoded data removed]",
       "text": [
        "<matplotlib.figure.Figure at 0x7fc8f9a8e890>"
       ]
      }
     ],
     "prompt_number": 40
    },
    {
     "cell_type": "code",
     "collapsed": false,
     "input": [
      "resp"
     ],
     "language": "python",
     "metadata": {},
     "outputs": [
      {
       "metadata": {},
       "output_type": "pyout",
       "prompt_number": 41,
       "text": [
        "array([ 0.0192321 ,  0.03847211,  0.05772731,  0.07700392,  0.09630632,\n",
        "        0.11563752,  0.13499913,  0.15439153,  0.17381393,  0.19326494,\n",
        "        0.21274294,  0.23224595,  0.25177175,  0.27131855,  0.29088436,\n",
        "        0.31046716,  0.33006557,  0.34967777,  0.36930257,  0.38893878,\n",
        "        0.40858498,  0.42824059,  0.44790419,  0.46757559,  0.4872536 ,\n",
        "        0.5069376 ,  0.52662741,  0.54632221,  0.56602161,  0.58572502,\n",
        "        0.60543242,  0.62514303,  0.64485683,  0.66457363,  0.68429284,\n",
        "        0.70401464,  0.72373824,  0.74346405,  0.76319145,  0.78292026,\n",
        "        0.80265066,  0.82238226,  0.84211487,  0.86184847,  0.88158308,\n",
        "        0.90131808,  0.92105388,  0.94078989,  0.96052649,  0.9802631 ])"
       ]
      }
     ],
     "prompt_number": 41
    },
    {
     "cell_type": "code",
     "collapsed": false,
     "input": [
      "linspace(1/50,1,50)\n"
     ],
     "language": "python",
     "metadata": {},
     "outputs": [
      {
       "metadata": {},
       "output_type": "pyout",
       "prompt_number": 7,
       "text": [
        "array([ 0.02,  0.04,  0.06,  0.08,  0.1 ,  0.12,  0.14,  0.16,  0.18,\n",
        "        0.2 ,  0.22,  0.24,  0.26,  0.28,  0.3 ,  0.32,  0.34,  0.36,\n",
        "        0.38,  0.4 ,  0.42,  0.44,  0.46,  0.48,  0.5 ,  0.52,  0.54,\n",
        "        0.56,  0.58,  0.6 ,  0.62,  0.64,  0.66,  0.68,  0.7 ,  0.72,\n",
        "        0.74,  0.76,  0.78,  0.8 ,  0.82,  0.84,  0.86,  0.88,  0.9 ,\n",
        "        0.92,  0.94,  0.96,  0.98,  1.  ])"
       ]
      }
     ],
     "prompt_number": 7
    },
    {
     "cell_type": "code",
     "collapsed": false,
     "input": [
      "ls = linspace(0.5, 1.5,21)\n",
      "ls"
     ],
     "language": "python",
     "metadata": {},
     "outputs": [
      {
       "metadata": {},
       "output_type": "pyout",
       "prompt_number": 8,
       "text": [
        "array([ 0.5 ,  0.55,  0.6 ,  0.65,  0.7 ,  0.75,  0.8 ,  0.85,  0.9 ,\n",
        "        0.95,  1.  ,  1.05,  1.1 ,  1.15,  1.2 ,  1.25,  1.3 ,  1.35,\n",
        "        1.4 ,  1.45,  1.5 ])"
       ]
      }
     ],
     "prompt_number": 8
    },
    {
     "cell_type": "code",
     "collapsed": false,
     "input": [
      "for l in ls:\n",
      "    espectrum(l)\n",
      "\n",
      "fh.close()    "
     ],
     "language": "python",
     "metadata": {},
     "outputs": [],
     "prompt_number": 10
    },
    {
     "cell_type": "code",
     "collapsed": false,
     "input": [
      "list1 = [1, 2, 3]\n",
      "str1 = '\\t'.join(str(e) for e in list1)\n",
      "str1"
     ],
     "language": "python",
     "metadata": {},
     "outputs": [
      {
       "metadata": {},
       "output_type": "pyout",
       "prompt_number": 11,
       "text": [
        "'1\\t2\\t3'"
       ]
      }
     ],
     "prompt_number": 11
    },
    {
     "cell_type": "code",
     "collapsed": false,
     "input": [
      "#We define the matrix A+B \n",
      "a1b1 = array([[2*l,-2,0 ,0 ,0], [0, 2*l,-2,0 ,0 ],[0,0, 2*l,-2,0 ],[0,0,0 ,2*l,-2],[0,0,0,0,2*l]])\n",
      "#a2b2--- matrix A+B\n",
      "a2b2 = zeros((N,N))\n",
      "for i in range(0, 100):\n",
      "    a2b2[5*i:5*(i+1) ,5*i:5*(i+1) ] = a1b1\n",
      "    a2b2[5*i-1, 5*i] = -2\n",
      "\n",
      "dot(a2b2, transpose(a2b2))\n"
     ],
     "language": "python",
     "metadata": {},
     "outputs": [
      {
       "metadata": {},
       "output_type": "pyout",
       "prompt_number": 16,
       "text": [
        "array([[ 20.,  -8.,   0., ...,   0.,   0.,  -8.],\n",
        "       [ -8.,  20.,  -8., ...,   0.,   0.,   0.],\n",
        "       [  0.,  -8.,  20., ...,   0.,   0.,   0.],\n",
        "       ..., \n",
        "       [  0.,   0.,   0., ...,  20.,  -8.,   0.],\n",
        "       [  0.,   0.,   0., ...,  -8.,  20.,  -8.],\n",
        "       [ -8.,   0.,   0., ...,   0.,  -8.,  20.]])"
       ]
      }
     ],
     "prompt_number": 16
    },
    {
     "cell_type": "code",
     "collapsed": false,
     "input": [
      "#from sympy import *"
     ],
     "language": "python",
     "metadata": {},
     "outputs": [],
     "prompt_number": 17
    },
    {
     "cell_type": "code",
     "collapsed": false,
     "input": [
      "#The row vectors in psi are the eigenvectors of the matrix (A+B)(A-B)\n",
      "psi = zeros((N,N))\n",
      "for i in range(0,N):\n",
      "    psi[:,i] = sin(resp *pi* (i+1))\n",
      "    \n",
      "#phi si defined as phi(A+B) = Lambda_k psi   \n",
      "phi = zeros((N,N))\n",
      "for i in range(0,N):\n",
      "    #phi[:,i] = dot( transpose(a2b2), psi[:,i])/esp \n",
      "    phi[:,i] = 2*(-sin(resp *pi* (i)) + l*sin(resp *pi* (i+1)))/esp\n",
      "    \n",
      "#With phi and psi defined we can get the matrices g and h\n",
      "g = (phi + psi)/2\n",
      "h = (phi - psi)/2\n",
      "\n",
      "#Result and result2 probe that the conditions for the  bogoliuvov trans\n",
      "result = dot(g,transpose(g)) + dot(h,transpose(h)) \n",
      "result2 = dot(g,transpose(h)) + dot(h,transpose(g)) \n",
      "\n",
      "g = g/(result[0,0])**(1/2)\n",
      "h = h/(result[0,0])**(1/2)\n",
      "\n",
      "result = dot(g,transpose(g)) + dot(h,transpose(h)) \n",
      "result2 = dot(g,transpose(h)) + dot(h,transpose(g))\n",
      "\n"
     ],
     "language": "python",
     "metadata": {},
     "outputs": [],
     "prompt_number": 160
    },
    {
     "cell_type": "code",
     "collapsed": false,
     "input": [
      "g"
     ],
     "language": "python",
     "metadata": {},
     "outputs": [
      {
       "metadata": {},
       "output_type": "pyout",
       "prompt_number": 138,
       "text": [
        "array([[ 0.10258624,  0.10558154,  0.10847471, ...,  0.10847471,\n",
        "         0.10558154,  0.10258624],\n",
        "       [ 0.10866712,  0.11699326,  0.1243014 , ..., -0.1243014 ,\n",
        "        -0.11699326, -0.10866712],\n",
        "       [ 0.11461597,  0.12726218,  0.1368364 , ...,  0.1368364 ,\n",
        "         0.12726218,  0.11461597],\n",
        "       ..., \n",
        "       [ 0.02773438, -0.06377723,  0.09760514, ..., -0.09760514,\n",
        "         0.06377723, -0.02773438],\n",
        "       [ 0.0185344 , -0.04296836,  0.06673802, ...,  0.06673802,\n",
        "        -0.04296836,  0.0185344 ],\n",
        "       [ 0.00928066, -0.02161997,  0.03387564, ..., -0.03387564,\n",
        "         0.02161997, -0.00928066]])"
       ]
      }
     ],
     "prompt_number": 138
    },
    {
     "cell_type": "code",
     "collapsed": false,
     "input": [
      "g[0,:]"
     ],
     "language": "python",
     "metadata": {},
     "outputs": [
      {
       "metadata": {},
       "output_type": "pyout",
       "prompt_number": 139,
       "text": [
        "array([ 0.10258624,  0.10558154,  0.10847471,  0.11126293,  0.11394351,\n",
        "        0.11651386,  0.11897149,  0.12131402,  0.12353918,  0.12564484,\n",
        "        0.12762893,  0.12948956,  0.13122491,  0.13283331,  0.13431321,\n",
        "        0.13566316,  0.13688187,  0.13796815,  0.13892096,  0.13973938,\n",
        "        0.1404226 ,  0.14096997,  0.14138097,  0.14165518,  0.14179236,\n",
        "        0.14179236,  0.14165518,  0.14138097,  0.14096997,  0.1404226 ,\n",
        "        0.13973938,  0.13892096,  0.13796815,  0.13688187,  0.13566316,\n",
        "        0.13431321,  0.13283331,  0.13122491,  0.12948956,  0.12762893,\n",
        "        0.12564484,  0.12353918,  0.12131402,  0.11897149,  0.11651386,\n",
        "        0.11394351,  0.11126293,  0.10847471,  0.10558154,  0.10258624])"
       ]
      }
     ],
     "prompt_number": 139
    },
    {
     "cell_type": "code",
     "collapsed": false,
     "input": [
      "g[-1,:]"
     ],
     "language": "python",
     "metadata": {},
     "outputs": [
      {
       "metadata": {},
       "output_type": "pyout",
       "prompt_number": 150,
       "text": [
        "array([ 0.00928066, -0.02161997,  0.03387564, -0.04600024,  0.05794689,\n",
        "       -0.06966934,  0.08112226, -0.09226133,  0.10304346, -0.11342694,\n",
        "        0.12337159, -0.13283894,  0.14179236, -0.15019721,  0.15802098,\n",
        "       -0.1652334 ,  0.17180656, -0.17771504,  0.18293597, -0.18744915,\n",
        "        0.19123714, -0.19428526,  0.19658173, -0.19811766,  0.19888712,\n",
        "       -0.19888712,  0.19811766, -0.19658173,  0.19428526, -0.19123714,\n",
        "        0.18744915, -0.18293597,  0.17771504, -0.17180656,  0.1652334 ,\n",
        "       -0.15802098,  0.15019721, -0.14179236,  0.13283894, -0.12337159,\n",
        "        0.11342694, -0.10304346,  0.09226133, -0.08112226,  0.06966934,\n",
        "       -0.05794689,  0.04600024, -0.03387564,  0.02161997, -0.00928066])"
       ]
      }
     ],
     "prompt_number": 150
    },
    {
     "cell_type": "code",
     "collapsed": false,
     "input": [
      "dot(h[:,0], h[:,0])\n",
      "h[0,0]**(2)\n",
      "g[0,0]**(2)\n",
      "g[0,0]**2 - h[0,0]**2 + dot(h[:,0], h[:,0])"
     ],
     "language": "python",
     "metadata": {},
     "outputs": [
      {
       "metadata": {},
       "output_type": "pyout",
       "prompt_number": 141,
       "text": [
        "0.07676700885774769"
       ]
      }
     ],
     "prompt_number": 141
    },
    {
     "cell_type": "code",
     "collapsed": false,
     "input": [
      "i = 0\n",
      "number = 0\n",
      "for k in range(0,len(g[0])):\n",
      "    dens = g[i,k]**2 - h[i,k]**2 + dot(h[:,k], h[:,k])\n",
      "    #dens = g[k,i]**2- h[k,i]**2 + dot(h[k,:], h[k,:])\n",
      "    print dens\n",
      "    number = number + dens\n",
      "\n",
      "print number    "
     ],
     "language": "python",
     "metadata": {},
     "outputs": [
      {
       "output_type": "stream",
       "stream": "stdout",
       "text": [
        "0.0767670088577\n",
        "0.138573976246\n",
        "0.156277499262\n",
        "0.165148618104\n",
        "0.170752398499\n",
        "0.174779271769\n",
        "0.177915198334\n",
        "0.180489781467\n",
        "0.182679970668\n",
        "0.184588418026\n",
        "0.186278108382\n",
        "0.18778931241\n",
        "0.189148567095\n",
        "0.190373741808\n",
        "0.191477047024\n",
        "0.19246689938\n",
        "0.193349120327\n",
        "0.194127730396\n",
        "0.194805489211\n",
        "0.195384270456\n",
        "0.195865326421\n",
        "0.196249476512\n",
        "0.196537241767\n",
        "0.196728939709\n",
        "0.19682474886\n",
        "0.19682474886\n",
        "0.196728939709\n",
        "0.196537241767\n",
        "0.196249476512\n",
        "0.195865326421\n",
        "0.195384270456\n",
        "0.194805489211\n",
        "0.194127730396\n",
        "0.193349120327\n",
        "0.19246689938\n",
        "0.191477047024\n",
        "0.190373741808\n",
        "0.189148567095\n",
        "0.18778931241\n",
        "0.186278108382\n",
        "0.184588418026\n",
        "0.182679970668\n",
        "0.180489781467\n",
        "0.177915198334\n",
        "0.174779271769\n",
        "0.170752398499\n",
        "0.165148618104\n",
        "0.156277499262\n",
        "0.138573976246\n",
        "0.0767670088577\n",
        "9.01075632198\n"
       ]
      }
     ],
     "prompt_number": 174
    },
    {
     "cell_type": "code",
     "collapsed": false,
     "input": [
      "dot(h[:,0], h[:,0])"
     ],
     "language": "python",
     "metadata": {},
     "outputs": [
      {
       "metadata": {},
       "output_type": "pyout",
       "prompt_number": 130,
       "text": [
        "0.075535480099178015"
       ]
      }
     ],
     "prompt_number": 130
    },
    {
     "cell_type": "code",
     "collapsed": false,
     "input": [
      "h[0]/(result[0,0]**(1/2))"
     ],
     "language": "python",
     "metadata": {},
     "outputs": [
      {
       "metadata": {},
       "output_type": "pyout",
       "prompt_number": 43,
       "text": [
        "array([ 0.00587865,  0.0058357 ,  0.00577146,  0.00568615,  0.00558009,\n",
        "        0.00545367,  0.00530735,  0.00514166,  0.0049572 ,  0.00475466,\n",
        "        0.00453476,  0.00429831,  0.00404618,  0.00377928,  0.00349858,\n",
        "        0.00320512,  0.00289997,  0.00258423,  0.00225906,  0.00192564,\n",
        "        0.0015852 ,  0.00123897,  0.00088823,  0.00053424,  0.0001783 ,\n",
        "       -0.0001783 , -0.00053424, -0.00088823, -0.00123897, -0.0015852 ,\n",
        "       -0.00192564, -0.00225906, -0.00258423, -0.00289997, -0.00320512,\n",
        "       -0.00349858, -0.00377928, -0.00404618, -0.00429831, -0.00453476,\n",
        "       -0.00475466, -0.0049572 , -0.00514166, -0.00530735, -0.00545367,\n",
        "       -0.00558009, -0.00568615, -0.00577146, -0.0058357 , -0.00587865])"
       ]
      }
     ],
     "prompt_number": 43
    },
    {
     "cell_type": "code",
     "collapsed": false,
     "input": [
      "dot(phi,transpose(phi))"
     ],
     "language": "python",
     "metadata": {},
     "outputs": [
      {
       "metadata": {},
       "output_type": "pyout",
       "prompt_number": 14,
       "text": [
        "array([[  2.50999941e+02,   8.14758959e-14,  -2.93205266e-14, ...,\n",
        "          3.95352154e-14,  -1.79895432e-14,  -9.81704071e-14],\n",
        "       [  8.14758959e-14,   2.50999765e+02,   1.24322211e-14, ...,\n",
        "         -9.42395034e-14,   9.95275910e-15,   9.28395544e-14],\n",
        "       [ -2.93205266e-14,   1.24322211e-14,   2.50999472e+02, ...,\n",
        "         -8.35318143e-15,  -2.21906369e-14,   4.36525544e-15],\n",
        "       ..., \n",
        "       [  3.95352154e-14,  -9.42395034e-14,  -8.35318143e-15, ...,\n",
        "          2.50333340e+02,   9.79948045e-12,  -4.74015963e-12],\n",
        "       [ -1.79895432e-14,   9.95275910e-15,  -2.21906369e-14, ...,\n",
        "          9.79948045e-12,   2.50333336e+02,   2.50414449e-12],\n",
        "       [ -9.81704071e-14,   9.28395544e-14,   4.36525544e-15, ...,\n",
        "         -4.74015963e-12,   2.50414449e-12,   2.50333334e+02]])"
       ]
      }
     ],
     "prompt_number": 14
    },
    {
     "cell_type": "code",
     "collapsed": false,
     "input": [
      "dot(psi,transpose(psi))"
     ],
     "language": "python",
     "metadata": {},
     "outputs": [
      {
       "metadata": {},
       "output_type": "pyout",
       "prompt_number": 12,
       "text": [
        "array([[  2.59945781e+01,   2.45871956e-05,  -1.76182644e-05, ...,\n",
        "          5.98465915e-07,   2.19224520e-07,   5.69890877e-07],\n",
        "       [  2.45871956e-05,   2.59787639e+01,   1.28123919e-05, ...,\n",
        "         -1.11548787e-06,  -4.80778153e-07,  -1.10568803e-06],\n",
        "       [ -1.76182644e-05,   1.28123919e-05,   2.59538591e+01, ...,\n",
        "          1.61663558e-06,   7.30587512e-07,   1.62275882e-06],\n",
        "       ..., \n",
        "       [  5.98465915e-07,  -1.11548787e-06,   1.61663558e-06, ...,\n",
        "          2.53339402e+01,  -1.31920633e-04,  -4.97754685e-05],\n",
        "       [  2.19224520e-07,  -4.80778153e-07,   7.30587512e-07, ...,\n",
        "         -1.31920633e-04,   2.53336369e+01,   1.61669648e-04],\n",
        "       [  5.69890877e-07,  -1.10568803e-06,   1.62275882e-06, ...,\n",
        "         -4.97754685e-05,   1.61669648e-04,   2.53333014e+01]])"
       ]
      }
     ],
     "prompt_number": 12
    },
    {
     "cell_type": "code",
     "collapsed": false,
     "input": [
      "transpose(g)"
     ],
     "language": "python",
     "metadata": {},
     "outputs": [
      {
       "metadata": {},
       "output_type": "pyout",
       "prompt_number": 13,
       "text": [
        "array([[ 0.0602731 ,  0.11970886,  0.17754327, ...,  0.12341431,\n",
        "         0.08249666,  0.04131481],\n",
        "       [ 0.10528536,  0.20795912,  0.30558231, ..., -0.25804198,\n",
        "        -0.17405158, -0.08763683],\n",
        "       [ 0.1499134 ,  0.29317521,  0.4235983 , ...,  0.3837668 ,\n",
        "         0.2629333 ,  0.13362202],\n",
        "       ..., \n",
        "       [ 0.16462736, -0.32033191,  0.45898895, ..., -0.37037987,\n",
        "         0.25323996, -0.12852581],\n",
        "       [ 0.12016311, -0.2363884 ,  0.34506508, ...,  0.24344508,\n",
        "        -0.16399314,  0.08249436],\n",
        "       [ 0.07526034, -0.14899593,  0.21982313, ..., -0.10811105,\n",
        "         0.07222761, -0.03614584]])"
       ]
      }
     ],
     "prompt_number": 13
    },
    {
     "cell_type": "code",
     "collapsed": false,
     "input": [
      "phi"
     ],
     "language": "python",
     "metadata": {},
     "outputs": [
      {
       "metadata": {},
       "output_type": "pyout",
       "prompt_number": 14,
       "text": [
        "array([[ 0.06016352,  0.09002572,  0.11955938, ...,  0.09013446,\n",
        "         0.06027326,  0.03019211],\n",
        "       [ 0.11884809,  0.17653811,  0.23165239, ..., -0.17735247,\n",
        "        -0.11969367, -0.0602885 ],\n",
        "       [ 0.17472333,  0.2563541 ,  0.32957649, ...,  0.25881545,\n",
        "         0.17741115,  0.0901878 ],\n",
        "       ..., \n",
        "       [ 0.06188542, -0.15257842,  0.23800721, ..., -0.26475738,\n",
        "         0.18174638, -0.09246485],\n",
        "       [ 0.04130124, -0.10261876,  0.16236018, ...,  0.1817553 ,\n",
        "        -0.12274438,  0.06184827],\n",
        "       [ 0.02066402, -0.05158064,  0.082299  , ..., -0.09246624,\n",
        "         0.06184016, -0.03097641]])"
       ]
      }
     ],
     "prompt_number": 14
    },
    {
     "cell_type": "code",
     "collapsed": false,
     "input": [
      "psi"
     ],
     "language": "python",
     "metadata": {},
     "outputs": [
      {
       "metadata": {},
       "output_type": "pyout",
       "prompt_number": 15,
       "text": [
        "array([[ 0.06038268,  0.120545  ,  0.18026741, ...,  0.23912025,\n",
        "         0.18005295,  0.12032857],\n",
        "       [ 0.12056964,  0.23938014,  0.35469802, ..., -0.46331134,\n",
        "        -0.35308314, -0.23770337],\n",
        "       [ 0.1803632 ,  0.35481052,  0.51762011, ...,  0.65916246,\n",
        "         0.51271901,  0.34945847],\n",
        "       ..., \n",
        "       [ 0.18494319, -0.36350554,  0.52952639, ..., -0.47600236,\n",
        "         0.30514377, -0.12375724],\n",
        "       [ 0.12369208, -0.24548441,  0.36350642, ...,  0.32472462,\n",
        "        -0.20524191,  0.08260695],\n",
        "       [ 0.06196559, -0.12369302,  0.18494504, ..., -0.16458539,\n",
        "         0.10314855, -0.04131527]])"
       ]
      }
     ],
     "prompt_number": 15
    },
    {
     "cell_type": "code",
     "collapsed": false,
     "input": [
      "psi[0,4]"
     ],
     "language": "python",
     "metadata": {},
     "outputs": [
      {
       "metadata": {},
       "output_type": "pyout",
       "prompt_number": 16,
       "text": [
        "0.29752306864746331"
       ]
      }
     ],
     "prompt_number": 16
    },
    {
     "cell_type": "code",
     "collapsed": false,
     "input": [
      "sin(resp *pi* N) - l*sin(resp *pi* (N+1))"
     ],
     "language": "python",
     "metadata": {},
     "outputs": [
      {
       "metadata": {},
       "output_type": "pyout",
       "prompt_number": 135,
       "text": [
        "array([  0.00000000e+00,   0.00000000e+00,   0.00000000e+00,\n",
        "        -3.33066907e-16,   3.33066907e-16,  -4.44089210e-16,\n",
        "        -2.22044605e-16,  -4.44089210e-16,   4.44089210e-16,\n",
        "         6.66133815e-16,  -1.88737914e-15,   2.22044605e-15,\n",
        "         1.11022302e-16,  -1.11022302e-16,   3.10862447e-15,\n",
        "         1.11022302e-16,   6.77236045e-15,   4.10782519e-15,\n",
        "         3.33066907e-15,   4.66293670e-15,  -8.88178420e-16,\n",
        "         5.44009282e-15,  -1.33226763e-15,  -3.33066907e-15,\n",
        "         8.10462808e-15,  -3.21964677e-15,   8.21565038e-15,\n",
        "        -2.88657986e-15,   8.32667268e-15,   1.98729921e-14,\n",
        "        -1.47659662e-14,   9.32587341e-15,  -3.66373598e-15,\n",
        "         1.02140518e-14,   8.16013923e-15,  -1.77635684e-15,\n",
        "        -4.88498131e-15,   2.48134846e-14,   2.10387263e-14,\n",
        "        -9.43689571e-16,   2.09832152e-14,  -1.41553436e-14,\n",
        "        -6.63358257e-15,   2.77555756e-14,   6.74460487e-15,\n",
        "        -1.35724765e-14,  -7.77156117e-15,   2.92682545e-14,\n",
        "         5.87030424e-15,  -1.27398092e-14])"
       ]
      }
     ],
     "prompt_number": 135
    },
    {
     "cell_type": "code",
     "collapsed": false,
     "input": [
      "array([1,2])/array([2,1])"
     ],
     "language": "python",
     "metadata": {},
     "outputs": [
      {
       "metadata": {},
       "output_type": "pyout",
       "prompt_number": 18,
       "text": [
        "array([ 0.5,  2. ])"
       ]
      }
     ],
     "prompt_number": 18
    },
    {
     "cell_type": "code",
     "collapsed": false,
     "input": [
      "k1 = linspace(-pi,pi,N)\n",
      "((-cos(k1)*2*l+ l**2 +1)*4)**(0.5)\n",
      "plot(k1, ((-cos(k1)*2*l+ l**2 +1)*4)**(0.5) , '.')\n",
      "plot(k1, -((-cos(k1)*2*l+ l**2 +1)*4)**(0.5), '.' )\n"
     ],
     "language": "python",
     "metadata": {},
     "outputs": [
      {
       "metadata": {},
       "output_type": "pyout",
       "prompt_number": 19,
       "text": [
        "[<matplotlib.lines.Line2D at 0x7f15597bc050>]"
       ]
      },
      {
       "metadata": {},
       "output_type": "display_data",
       "png": "[encoded data removed]",
       "text": [
        "<matplotlib.figure.Figure at 0x7f155978f910>"
       ]
      }
     ],
     "prompt_number": 19
    },
    {
     "cell_type": "code",
     "collapsed": false,
     "input": [
      "g"
     ],
     "language": "python",
     "metadata": {},
     "outputs": [
      {
       "metadata": {},
       "output_type": "pyout",
       "prompt_number": 71,
       "text": [
        "array([[ 0.01772191,  0.029479  ,  0.04112852, ...,  0.04112852,\n",
        "         0.029479  ,  0.01772191],\n",
        "       [ 0.03513457,  0.05810126,  0.08022025, ..., -0.08022025,\n",
        "        -0.05810126, -0.03513457],\n",
        "       [ 0.05195763,  0.0850762 ,  0.11540429, ...,  0.11540429,\n",
        "         0.0850762 ,  0.05195763],\n",
        "       ..., \n",
        "       [ 0.03027502, -0.0655745 ,  0.09861157, ..., -0.09861157,\n",
        "         0.0655745 , -0.03027502],\n",
        "       [ 0.02023097, -0.04420157,  0.06749329, ...,  0.06749329,\n",
        "        -0.04420157,  0.02023097],\n",
        "       [ 0.01012979, -0.02224713,  0.03427896, ..., -0.03427896,\n",
        "         0.02224713, -0.01012979]])"
       ]
      }
     ],
     "prompt_number": 71
    },
    {
     "cell_type": "code",
     "collapsed": false,
     "input": [
      "h"
     ],
     "language": "python",
     "metadata": {},
     "outputs": [
      {
       "metadata": {},
       "output_type": "pyout",
       "prompt_number": 72,
       "text": [
        "array([[ 0.00587865,  0.0058357 ,  0.00577146, ..., -0.00577146,\n",
        "        -0.0058357 , -0.00587865],\n",
        "       [ 0.01148641,  0.01114999,  0.01065089, ...,  0.01065089,\n",
        "         0.01114999,  0.01148641],\n",
        "       [ 0.01658175,  0.01548477,  0.0138799 , ..., -0.0138799 ,\n",
        "        -0.01548477, -0.01658175],\n",
        "       ..., \n",
        "       [-0.00599906,  0.00572215, -0.00524782, ..., -0.00524782,\n",
        "         0.00572215, -0.00599906],\n",
        "       [-0.00402959,  0.00394695, -0.00380369, ...,  0.00380369,\n",
        "        -0.00394695,  0.00402959],\n",
        "       [-0.00202388,  0.00201351, -0.00199539, ..., -0.00199539,\n",
        "         0.00201351, -0.00202388]])"
       ]
      }
     ],
     "prompt_number": 72
    },
    {
     "cell_type": "code",
     "collapsed": false,
     "input": [
      "g + h"
     ],
     "language": "python",
     "metadata": {},
     "outputs": [
      {
       "metadata": {},
       "output_type": "pyout",
       "prompt_number": 73,
       "text": [
        "array([[ 0.02360055,  0.0353147 ,  0.04689997, ...,  0.03535706,\n",
        "         0.0236433 ,  0.01184326],\n",
        "       [ 0.04662098,  0.06925126,  0.09087114, ..., -0.06956936,\n",
        "        -0.04695127, -0.02364815],\n",
        "       [ 0.06853938,  0.10056098,  0.12928419, ...,  0.10152439,\n",
        "         0.06959143,  0.03537588],\n",
        "       ..., \n",
        "       [ 0.02427596, -0.05985235,  0.09336374, ..., -0.10385939,\n",
        "         0.07129666, -0.03627408],\n",
        "       [ 0.01620138, -0.04025462,  0.0636896 , ...,  0.07129697,\n",
        "        -0.04814852,  0.02426057],\n",
        "       [ 0.00810591, -0.02023362,  0.03228357, ..., -0.03627435,\n",
        "         0.02426063, -0.01215367]])"
       ]
      }
     ],
     "prompt_number": 73
    },
    {
     "cell_type": "code",
     "collapsed": false,
     "input": [
      "resp"
     ],
     "language": "python",
     "metadata": {},
     "outputs": [
      {
       "metadata": {},
       "output_type": "pyout",
       "prompt_number": 136,
       "text": [
        "array([ 0.00990099,  0.02970297,  0.04950495,  0.06930693,  0.08910891,\n",
        "        0.10891089,  0.12871287,  0.14851485,  0.16831683,  0.18811881,\n",
        "        0.20792079,  0.22772277,  0.24752475,  0.26732673,  0.28712871,\n",
        "        0.30693069,  0.32673267,  0.34653465,  0.36633663,  0.38613861,\n",
        "        0.40594059,  0.42574257,  0.44554455,  0.46534653,  0.48514851,\n",
        "        0.5049505 ,  0.52475248,  0.54455446,  0.56435644,  0.58415842,\n",
        "        0.6039604 ,  0.62376238,  0.64356436,  0.66336634,  0.68316832,\n",
        "        0.7029703 ,  0.72277228,  0.74257426,  0.76237624,  0.78217822,\n",
        "        0.8019802 ,  0.82178218,  0.84158416,  0.86138614,  0.88118812,\n",
        "        0.9009901 ,  0.92079208,  0.94059406,  0.96039604,  0.98019802])"
       ]
      }
     ],
     "prompt_number": 136
    },
    {
     "cell_type": "code",
     "collapsed": false,
     "input": [],
     "language": "python",
     "metadata": {},
     "outputs": []
    }
   ],
   "metadata": {}
  }
 ]
}