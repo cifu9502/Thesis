{
 "metadata": {
  "name": ""
 },
 "nbformat": 3,
 "nbformat_minor": 0,
 "worksheets": [
  {
   "cells": [
    {
     "cell_type": "code",
     "collapsed": false,
     "input": [
      "from __future__ import division \n",
      "%pylab inline\n",
      "#N-- Number of spaces in the chain\n",
      "N = 50\n",
      "k = linspace(0,pi, 10000)\n",
      "#l-- lambda\n",
      "l = -4\n",
      "fh = open('results.txt', 'w')\n",
      "\n",
      "#l = 0.999 + 0.1\n",
      "#l = N/(N+1) \n",
      "\n",
      "#len(resp)"
     ],
     "language": "python",
     "metadata": {},
     "outputs": [
      {
       "output_type": "stream",
       "stream": "stdout",
       "text": [
        "Populating the interactive namespace from numpy and matplotlib\n"
       ]
      }
     ],
     "prompt_number": 1
    },
    {
     "cell_type": "code",
     "collapsed": false,
     "input": [
      "# the following method will solve the trascendental equation for a given lambda l \n",
      "def espectrum(l):\n",
      "    #R--- Trascendental function\n",
      "    R = sin(k*N)-l*sin(k*(N+1))\n",
      "        #plot(k, abs(R))\n",
      "    sum = []\n",
      "    for i in range(1,len(R)-1):\n",
      "        #This condition determines if there is a 0 between R(i) and R(i+1)\n",
      "        if R[i]*R[i+1] <= 0:\n",
      "            sum.append(i)\n",
      "    sum = array(sum)        \n",
      "    k1 = k[sum]\n",
      "    for i in range(0,100):\n",
      "        #we apply newton's method to increase the acuracy of the algorithm\n",
      "        k1 =  k1 - ((sin(k1*N)-l*sin(k1*(N+1)))/(N*cos(k1*N)-(N+1)*l*cos(k1*(N+1))))\n",
      "            \n",
      "    resp = k[sum]/pi  \n",
      "    resp = k1/(pi)\n",
      "    \n",
      "    print repr(len(resp)) + ', ' +repr(resp[0]) + ','  + repr(l) \n",
      "    \n",
      "    if resp[-1] == 1:\n",
      "        resp = resp[:-1]\n",
      "        print 'pum : ' + repr(l)\n",
      "    esp = ((-cos(resp*pi)*2*l+ l**2 +1)*4)**(0.5)\n",
      "           \n",
      "    \n",
      "        #If there are only N-1 solutions, it means there is an edge state in the system. \n",
      "        #This methon find the energy for this state\n",
      "        #If there are only N-1 solutions, it means there is an edge state in the system. \n",
      "        #This methon find the energy for this state\n",
      "    if len(resp) == N-1 :\n",
      "        #func = lambda k : sinh(k*N)-l*sinh(k*(N+1)) \n",
      "        #from scipy.optimize import fsolve\n",
      "        sols = linspace(0, 20, 1000)\n",
      "        R1 = sinh(sols*N)-l*sinh(sols*(N+1))\n",
      "        sum = []\n",
      "        for i in range(1,len(R1)-1):\n",
      "            #This condition determines if there is a 0 between R(i) and R(i+1)\n",
      "            if R1[i]*R1[i+1] <= 0:\n",
      "                sum.append(i)     \n",
      "        sum = array(sum)  \n",
      "        edge = [0]\n",
      "        if len(sum)>0:\n",
      "            edge = sols[sum]\n",
      "            for i in range(0,100):\n",
      "                #we apply newton's method to increase the acuracy of the algorithm\n",
      "                edge =  edge- ((sinh(edge*N)-l*sinh(edge*(N+1)))/(N*cosh(edge*N)-(N+1)*l*cosh(edge*(N+1))))               \n",
      "                \n",
      "        resp2 = resp\n",
      "        resp = zeros(N)\n",
      "        resp[0] = edge[0]/pi\n",
      "        resp[1:] = resp2\n",
      "        esp2 = esp\n",
      "        esp = zeros(N)\n",
      "        \n",
      "        if  ((-cosh(resp[0]*pi)*2*l+ l**2 +1)*4 > -0.01) & ((-cosh(resp[0]*pi)*2*l+ l**2 +1)*4 <0):\n",
      "            esp[0] = 0\n",
      "        else:\n",
      "            esp[0] = ((-cosh(resp[0]*pi)*2*l+ l**2 +1)*4)**(0.5)    \n",
      "        esp[1:] = esp2\n",
      "    \n",
      "    str1 = '\\t'.join(str(e) for e in esp)\n",
      "    fh.write(str1)\n",
      "    fh.write('\\n')\n",
      "    "
     ],
     "language": "python",
     "metadata": {},
     "outputs": [],
     "prompt_number": 2
    },
    {
     "cell_type": "code",
     "collapsed": false,
     "input": [
      "#ls = linspace(0.11, 2,200)\n",
      "#for l in ls:\n",
      "#    espectrum(l)\n",
      "    \n",
      "\n",
      "#fh.close()    "
     ],
     "language": "python",
     "metadata": {},
     "outputs": [],
     "prompt_number": 3
    },
    {
     "cell_type": "code",
     "collapsed": false,
     "input": [
      "#R--- Trascendental function\n",
      "\n",
      "R = sin(k*N)-l*sin(k*(N+1))\n",
      "    #plot(k, abs(R))\n",
      "sum = []\n",
      "for i in range(1,len(R)-1):\n",
      "    #This condition determines if there is a 0 between R(i) and R(i+1)\n",
      "    if R[i]*R[i+1] <= 0:\n",
      "        sum.append(i)\n",
      "sum = array(sum)        \n",
      "\n",
      "k1 = k[sum]\n",
      "for i in range(0,100):\n",
      "    #we apply newton's method to increase the acuracy of the algorithm\n",
      "    k1 =  k1 - ((sin(k1*N)-l*sin(k1*(N+1)))/(N*cos(k1*N)-(N+1)*l*cos(k1*(N+1))))\n",
      "resp = k1/(pi)\n",
      "        \n",
      "esp = ((-cos(resp*pi)*2*l+ l**2 +1)*4)**(0.5)\n",
      "len(resp)\n",
      "resp"
     ],
     "language": "python",
     "metadata": {},
     "outputs": [
      {
       "metadata": {},
       "output_type": "pyout",
       "prompt_number": 4,
       "text": [
        "array([ 0.01968502,  0.03936989,  0.05905448,  0.07873864,  0.09842222,\n",
        "        0.11810508,  0.13778707,  0.15746804,  0.17714783,  0.19682627,\n",
        "        0.21650321,  0.23617847,  0.25585189,  0.27552327,  0.29519243,\n",
        "        0.31485918,  0.33452331,  0.35418461,  0.37384286,  0.39349784,\n",
        "        0.41314932,  0.43279703,  0.45244074,  0.47208019,  0.49171509,\n",
        "        0.51134518,  0.53097017,  0.55058977,  0.5702037 ,  0.58981166,\n",
        "        0.60941337,  0.62900856,  0.64859695,  0.6681783 ,  0.68775238,\n",
        "        0.70731902,  0.72687806,  0.7464294 ,  0.76597301,  0.78550893,\n",
        "        0.80503727,  0.82455824,  0.84407214,  0.86357938,  0.88308049,\n",
        "        0.90257608,  0.9220669 ,  0.94155375,  0.96103756,  0.98051931])"
       ]
      }
     ],
     "prompt_number": 4
    },
    {
     "cell_type": "code",
     "collapsed": false,
     "input": [
      "#If there are only N-1 solutions, it means there is an edge state in the system. \n",
      "    #This methon find the energy for this state\n",
      "if len(resp) == N-1 :\n",
      "    #func = lambda k : sinh(k*N)-l*sinh(k*(N+1)) \n",
      "    #from scipy.optimize import fsolve\n",
      "    sols = linspace(0, 20, 1000)\n",
      "    R1 = sinh(sols*N)-l*sinh(sols*(N+1))\n",
      "    sum = []\n",
      "    for i in range(1,len(R1)-1):\n",
      "        #This condition determines if there is a 0 between R(i) and R(i+1)\n",
      "        if R1[i]*R1[i+1] <= 0:\n",
      "            sum.append(i)     \n",
      "    sum = array(sum)        \n",
      "    edge = sols[sum]\n",
      "    for i in range(0,100):\n",
      "        #we apply newton's method to increase the acuracy of the algorithm\n",
      "        edge =  edge- ((sinh(edge*N)-l*sinh(edge*(N+1)))/(N*cosh(edge*N)-(N+1)*l*cosh(edge*(N+1))))               \n",
      "            \n",
      "    resp2 = resp\n",
      "    resp = zeros(N)\n",
      "    resp[0] = edge[0]/pi\n",
      "    resp[1:] = resp2\n",
      "    esp2 = esp\n",
      "    esp = zeros(N)\n",
      "    \n",
      "    if  ((-cosh(resp[0]*pi)*2*l+ l**2 +1)*4 > -0.01) & ((-cosh(resp[0]*pi)*2*l+ l**2 +1)*4 <0):\n",
      "        esp[0] = 0\n",
      "    else:\n",
      "        esp[0] = ((-cosh(resp[0]*pi)*2*l+ l**2 +1)*4)**(0.5)    \n",
      "    esp[1:] = esp2\n",
      "        \n",
      "    #sinh(resp[0]*pi*N)-l*sinh(resp[0]*pi*(N+1)) \n",
      "    print edge\n",
      "    #sinh(edge*N)-l*sinh(edge*(N+1)) \n",
      "    print (-cosh(edge)*2*l+ l**2 +1)*4\n",
      "esp"
     ],
     "language": "python",
     "metadata": {},
     "outputs": [
      {
       "metadata": {},
       "output_type": "pyout",
       "prompt_number": 5,
       "text": [
        "array([ 9.99694093,  9.9877699 ,  9.97250544,  9.95117848,  9.9238324 ,\n",
        "        9.89052308,  9.85131906,  9.8063016 ,  9.75556485,  9.69921602,\n",
        "        9.63737561,  9.57017759,  9.49776967,  9.42031361,  9.33798552,\n",
        "        9.25097622,  9.15949161,  9.06375311,  8.9639981 ,  8.8604804 ,\n",
        "        8.75347079,  8.64325756,  8.53014705,  8.41446422,  8.29655326,\n",
        "        8.17677808,  8.0555229 ,  7.93319265,  7.81021338,  7.68703248,\n",
        "        7.56411876,  7.44196226,  7.32107379,  7.20198409,  7.08524254,\n",
        "        6.9714153 ,  6.86108287,  6.75483688,  6.6532761 ,  6.55700155,\n",
        "        6.46661076,  6.38269109,  6.30581223,  6.23651796,  6.1753174 ,\n",
        "        6.12267597,  6.07900634,  6.04465992,  6.01991903,  6.00499035])"
       ]
      }
     ],
     "prompt_number": 5
    },
    {
     "cell_type": "code",
     "collapsed": false,
     "input": [
      "plot(k,R)\n",
      "resp"
     ],
     "language": "python",
     "metadata": {},
     "outputs": [
      {
       "metadata": {},
       "output_type": "pyout",
       "prompt_number": 6,
       "text": [
        "array([ 0.01968502,  0.03936989,  0.05905448,  0.07873864,  0.09842222,\n",
        "        0.11810508,  0.13778707,  0.15746804,  0.17714783,  0.19682627,\n",
        "        0.21650321,  0.23617847,  0.25585189,  0.27552327,  0.29519243,\n",
        "        0.31485918,  0.33452331,  0.35418461,  0.37384286,  0.39349784,\n",
        "        0.41314932,  0.43279703,  0.45244074,  0.47208019,  0.49171509,\n",
        "        0.51134518,  0.53097017,  0.55058977,  0.5702037 ,  0.58981166,\n",
        "        0.60941337,  0.62900856,  0.64859695,  0.6681783 ,  0.68775238,\n",
        "        0.70731902,  0.72687806,  0.7464294 ,  0.76597301,  0.78550893,\n",
        "        0.80503727,  0.82455824,  0.84407214,  0.86357938,  0.88308049,\n",
        "        0.90257608,  0.9220669 ,  0.94155375,  0.96103756,  0.98051931])"
       ]
      },
      {
       "metadata": {},
       "output_type": "display_data",
       "png": "[encoded data removed]",
       "text": [
        "<matplotlib.figure.Figure at 0x7f7daf674210>"
       ]
      }
     ],
     "prompt_number": 6
    },
    {
     "cell_type": "code",
     "collapsed": false,
     "input": [
      "ylim([0,2*(l+1)])\n",
      "plot(zeros(len(esp)),esp , '.')"
     ],
     "language": "python",
     "metadata": {},
     "outputs": [
      {
       "metadata": {},
       "output_type": "pyout",
       "prompt_number": 7,
       "text": [
        "[<matplotlib.lines.Line2D at 0x7f7daf613f10>]"
       ]
      },
      {
       "metadata": {},
       "output_type": "display_data",
       "png": "[encoded data removed]",
       "text": [
        "<matplotlib.figure.Figure at 0x7f7daf5bd7d0>"
       ]
      }
     ],
     "prompt_number": 7
    },
    {
     "cell_type": "code",
     "collapsed": false,
     "input": [
      "#graphic of the band structure for the value l \n",
      "ylim([-2*(l+1),2*(l+1)])\n",
      "plot(resp,esp , 'b.', resp,-esp , 'r.')\n",
      "plot(-resp,esp , 'b.', -resp,-esp , 'r.')\n",
      "plt.xlabel('k')\n",
      "plt.ylabel('E')\n",
      "plt.title('$\\lambda = 0.5$ ')\n"
     ],
     "language": "python",
     "metadata": {},
     "outputs": [
      {
       "metadata": {},
       "output_type": "pyout",
       "prompt_number": 8,
       "text": [
        "<matplotlib.text.Text at 0x7f7daf5c79d0>"
       ]
      },
      {
       "metadata": {},
       "output_type": "display_data",
       "png": "[encoded data removed]",
       "text": [
        "<matplotlib.figure.Figure at 0x7f7daf4d0bd0>"
       ]
      }
     ],
     "prompt_number": 8
    },
    {
     "cell_type": "code",
     "collapsed": false,
     "input": [
      "plot(resp, esp)\n"
     ],
     "language": "python",
     "metadata": {},
     "outputs": [
      {
       "metadata": {},
       "output_type": "pyout",
       "prompt_number": 9,
       "text": [
        "[<matplotlib.lines.Line2D at 0x7f7daf330b90>]"
       ]
      },
      {
       "metadata": {},
       "output_type": "display_data",
       "png": "[encoded data removed]",
       "text": [
        "<matplotlib.figure.Figure at 0x7f7daf4fb150>"
       ]
      }
     ],
     "prompt_number": 9
    },
    {
     "cell_type": "code",
     "collapsed": false,
     "input": [
      "if l < 1 :\n",
      "    resp2 = resp\n",
      "    resp = zeros(N,dtype=np.complex_)\n",
      "    resp[0] = 1j * resp2[0]\n",
      "    resp[1:] = resp2[1:]\n",
      "resp"
     ],
     "language": "python",
     "metadata": {},
     "outputs": [
      {
       "metadata": {},
       "output_type": "pyout",
       "prompt_number": 10,
       "text": [
        "array([ 0.00000000+0.01968502j,  0.03936989+0.j        ,\n",
        "        0.05905448+0.j        ,  0.07873864+0.j        ,\n",
        "        0.09842222+0.j        ,  0.11810508+0.j        ,\n",
        "        0.13778707+0.j        ,  0.15746804+0.j        ,\n",
        "        0.17714783+0.j        ,  0.19682627+0.j        ,\n",
        "        0.21650321+0.j        ,  0.23617847+0.j        ,\n",
        "        0.25585189+0.j        ,  0.27552327+0.j        ,\n",
        "        0.29519243+0.j        ,  0.31485918+0.j        ,\n",
        "        0.33452331+0.j        ,  0.35418461+0.j        ,\n",
        "        0.37384286+0.j        ,  0.39349784+0.j        ,\n",
        "        0.41314932+0.j        ,  0.43279703+0.j        ,\n",
        "        0.45244074+0.j        ,  0.47208019+0.j        ,\n",
        "        0.49171509+0.j        ,  0.51134518+0.j        ,\n",
        "        0.53097017+0.j        ,  0.55058977+0.j        ,\n",
        "        0.57020370+0.j        ,  0.58981166+0.j        ,\n",
        "        0.60941337+0.j        ,  0.62900856+0.j        ,\n",
        "        0.64859695+0.j        ,  0.66817830+0.j        ,\n",
        "        0.68775238+0.j        ,  0.70731902+0.j        ,\n",
        "        0.72687806+0.j        ,  0.74642940+0.j        ,\n",
        "        0.76597301+0.j        ,  0.78550893+0.j        ,\n",
        "        0.80503727+0.j        ,  0.82455824+0.j        ,\n",
        "        0.84407214+0.j        ,  0.86357938+0.j        ,\n",
        "        0.88308049+0.j        ,  0.90257608+0.j        ,\n",
        "        0.92206690+0.j        ,  0.94155375+0.j        ,\n",
        "        0.96103756+0.j        ,  0.98051931+0.j        ])"
       ]
      }
     ],
     "prompt_number": 10
    },
    {
     "cell_type": "code",
     "collapsed": false,
     "input": [],
     "language": "python",
     "metadata": {},
     "outputs": [],
     "prompt_number": 10
    },
    {
     "cell_type": "code",
     "collapsed": false,
     "input": [
      "#We define the matrix A+B \n",
      "#a1b1 = array([[2*l,-2,0 ,0 ,0], [0, 2*l,-2,0 ,0 ],[0,0, 2*l,-2,0 ],[0,0,0 ,2*l,-2],[0,0,0,0,2*l]])\n",
      "#a2b2--- matrix A+B\n",
      "#a2b2 = zeros((N,N))\n",
      "#for i in range(0, 100):\n",
      "#    a2b2[5*i:5*(i+1) ,5*i:5*(i+1) ] = a1b1\n",
      "#    a2b2[5*i-1, 5*i] = -2\n",
      "\n",
      "#dot(a2b2, transpose(a2b2))\n"
     ],
     "language": "python",
     "metadata": {},
     "outputs": [],
     "prompt_number": 11
    },
    {
     "cell_type": "code",
     "collapsed": false,
     "input": [
      "#from sympy import *"
     ],
     "language": "python",
     "metadata": {},
     "outputs": [],
     "prompt_number": 12
    },
    {
     "cell_type": "code",
     "collapsed": false,
     "input": [
      "#The row vectors in psi are the eigenvectors of the matrix (A+B)(A-B)\n",
      "#psi = zeros((N,N))\n",
      "psi = zeros((N,N),dtype=np.complex_)\n",
      "\n",
      "for i in range(0,N):\n",
      "    psi[:,i] = sin(resp *pi* (i+1))\n",
      "    \n",
      "\n",
      "#phi is defined as phi(A+B) = Lambda_k psi   \n",
      "#phi = zeros((N,N))\n",
      "phi = zeros((N,N),dtype=np.complex_)\n",
      "\n",
      "for i in range(0,N):\n",
      "    #phi[:,i] = dot( transpose(a2b2), psi[:,i])/esp \n",
      "    phi[:,i] = 2*(-sin(resp *pi* (i)) + l*sin(resp *pi* (i+1)))/esp\n",
      "\n",
      "    \n",
      "#With phi and psi defined we can get the matrices g and h\n",
      "g = (phi + psi)/2\n",
      "h = (phi - psi)/2\n",
      "\n",
      "#Result and result2 probe that the conditions for the  bogoliuvov trans\n",
      "result = dot(g,conjugate(transpose(g))) + dot(h,conjugate(transpose(h))) \n",
      "result2 = dot(g,transpose(h)) + dot(h,transpose(g)) \n",
      "\n",
      "#g = g/(result[0,0])**(1/2)\n",
      "#h = h/(result[0,0])**(1/2)\n",
      "\n",
      "#result = dot(g,transpose(g)) + dot(h,transpose(h)) \n",
      "#result2 = dot(g,transpose(h)) + dot(h,transpose(g))\n",
      "\n",
      "result/result[0,0]\n"
     ],
     "language": "python",
     "metadata": {},
     "outputs": [
      {
       "metadata": {},
       "output_type": "pyout",
       "prompt_number": 13,
       "text": [
        "array([[  1.00000000e+00+0.j        ,   0.00000000e+00-0.07429137j,\n",
        "          0.00000000e+00+0.05567244j, ...,   0.00000000e+00-0.0007017j ,\n",
        "          0.00000000e+00+0.00046825j,   0.00000000e+00-0.00023426j],\n",
        "       [  0.00000000e+00+0.07429137j,   2.52754746e-02+0.j        ,\n",
        "          2.80182845e-19+0.j        , ...,  -2.66915966e-17+0.j        ,\n",
        "         -1.27630460e-19+0.j        ,  -4.12484818e-18+0.j        ],\n",
        "       [  0.00000000e+00-0.05567244j,   2.80182845e-19+0.j        ,\n",
        "          2.52759330e-02+0.j        , ...,   2.89160132e-17+0.j        ,\n",
        "          4.06809955e-18+0.j        ,   2.50721570e-18+0.j        ],\n",
        "       ..., \n",
        "       [  0.00000000e+00+0.0007017j ,  -2.66915966e-17+0.j        ,\n",
        "          2.89160132e-17+0.j        , ...,   2.55343603e-02+0.j        ,\n",
        "          4.91135606e-17+0.j        ,   8.53562419e-17+0.j        ],\n",
        "       [  0.00000000e+00-0.00046825j,  -1.27630460e-19+0.j        ,\n",
        "          4.06809955e-18+0.j        , ...,   4.91135606e-17+0.j        ,\n",
        "          2.55377251e-02+0.j        ,  -1.79198264e-16+0.j        ],\n",
        "       [  0.00000000e+00+0.00023426j,  -4.12484818e-18+0.j        ,\n",
        "          2.50721570e-18+0.j        , ...,   8.53562419e-17+0.j        ,\n",
        "         -1.79198264e-16+0.j        ,   2.55397755e-02+0.j        ]])"
       ]
      }
     ],
     "prompt_number": 13
    },
    {
     "cell_type": "code",
     "collapsed": false,
     "input": [
      "g"
     ],
     "language": "python",
     "metadata": {},
     "outputs": [
      {
       "metadata": {},
       "output_type": "pyout",
       "prompt_number": 14,
       "text": [
        "array([[ 0.00000000+0.0061806j ,  0.00000000+0.00619478j,\n",
        "         0.00000000+0.00623265j, ...,  0.00000000+0.05705071j,\n",
        "         0.00000000+0.06066946j,  0.00000000+0.06452031j],\n",
        "       [ 0.01227648+0.j        ,  0.01201338+0.j        ,\n",
        "         0.01156674+0.j        , ...,  0.01156674+0.j        ,\n",
        "         0.01201338+0.j        ,  0.01227648+0.j        ],\n",
        "       [ 0.01824284+0.j        ,  0.01736244+0.j        ,\n",
        "         0.01588615+0.j        , ..., -0.01588615+0.j        ,\n",
        "        -0.01736244+0.j        , -0.01824284+0.j        ],\n",
        "       ..., \n",
        "       [-0.02953139+0.j        ,  0.02786406+0.j        ,\n",
        "        -0.02525995+0.j        , ..., -0.02525995+0.j        ,\n",
        "         0.02786406+0.j        , -0.02953139+0.j        ],\n",
        "       [-0.02008044+0.j        ,  0.01957795+0.j        ,\n",
        "        -0.01878250+0.j        , ...,  0.01878250+0.j        ,\n",
        "        -0.01957795+0.j        ,  0.02008044+0.j        ],\n",
        "       [-0.01015982+0.j        ,  0.01009636+0.j        ,\n",
        "        -0.00999510+0.j        , ..., -0.00999510+0.j        ,\n",
        "         0.01009636+0.j        , -0.01015982+0.j        ]])"
       ]
      }
     ],
     "prompt_number": 14
    },
    {
     "cell_type": "code",
     "collapsed": false,
     "input": [
      "conjugate(transpose(psi))"
     ],
     "language": "python",
     "metadata": {},
     "outputs": [
      {
       "metadata": {},
       "output_type": "pyout",
       "prompt_number": 15,
       "text": [
        "array([[ 0.00000000 -0.06188173j,  0.12336905 -0.j        ,\n",
        "         0.18446266 -0.j        , ...,  0.18258430 +0.j        ,\n",
        "         0.12209867 +0.j        ,  0.06116221 +0.j        ],\n",
        "       [ 0.00000000 -0.12400019j,  0.24485323 -0.j        ,\n",
        "         0.36259438 -0.j        , ..., -0.35903020 -0.j        ,\n",
        "        -0.24237026 -0.j        , -0.12209541 -0.j        ],\n",
        "       [ 0.00000000 -0.18659305j,  0.36259647 -0.j        ,\n",
        "         0.52828152 -0.j        , ...,  0.52340564 +0.j        ,\n",
        "         0.35901499 +0.j        ,  0.18257144 +0.j        ],\n",
        "       ..., \n",
        "       [ 0.00000000 -9.70498285j, -0.33946299 -0.j        ,\n",
        "         0.49650922 +0.j        , ..., -0.57392554 +0.j        ,\n",
        "         0.39657999 -0.j        , -0.20256165 +0.j        ],\n",
        "       [ 0.00000000-10.3272878j , -0.22082646 -0.j        ,\n",
        "         0.32786950 +0.j        , ...,  0.41475832 -0.j        ,\n",
        "        -0.28152616 +0.j        ,  0.14228813 -0.j        ],\n",
        "       [ 0.00000000-10.98910174j, -0.09881609 -0.j        ,\n",
        "         0.14797698 +0.j        , ..., -0.24164708 +0.j        ,\n",
        "         0.16225956 -0.j        , -0.08148184 +0.j        ]])"
       ]
      }
     ],
     "prompt_number": 15
    },
    {
     "cell_type": "code",
     "collapsed": false,
     "input": [
      "psi"
     ],
     "language": "python",
     "metadata": {},
     "outputs": [
      {
       "metadata": {},
       "output_type": "pyout",
       "prompt_number": 16,
       "text": [
        "array([[ 0.00000000 +0.06188173j,  0.00000000 +0.12400019j,\n",
        "         0.00000000 +0.18659305j, ...,  0.00000000 +9.70498285j,\n",
        "         0.00000000+10.3272878j ,  0.00000000+10.98910174j],\n",
        "       [ 0.12336905 +0.j        ,  0.24485323 +0.j        ,\n",
        "         0.36259647 +0.j        , ..., -0.33946299 +0.j        ,\n",
        "        -0.22082646 +0.j        , -0.09881609 +0.j        ],\n",
        "       [ 0.18446266 +0.j        ,  0.36259438 +0.j        ,\n",
        "         0.52828152 +0.j        , ...,  0.49650922 -0.j        ,\n",
        "         0.32786950 -0.j        ,  0.14797698 -0.j        ],\n",
        "       ..., \n",
        "       [ 0.18258430 -0.j        , -0.35903020 +0.j        ,\n",
        "         0.52340564 -0.j        , ..., -0.57392554 -0.j        ,\n",
        "         0.41475832 +0.j        , -0.24164708 -0.j        ],\n",
        "       [ 0.12209867 -0.j        , -0.24237026 +0.j        ,\n",
        "         0.35901499 -0.j        , ...,  0.39657999 +0.j        ,\n",
        "        -0.28152616 -0.j        ,  0.16225956 +0.j        ],\n",
        "       [ 0.06116221 -0.j        , -0.12209541 +0.j        ,\n",
        "         0.18257144 -0.j        , ..., -0.20256165 -0.j        ,\n",
        "         0.14228813 +0.j        , -0.08148184 -0.j        ]])"
       ]
      }
     ],
     "prompt_number": 16
    },
    {
     "cell_type": "code",
     "collapsed": false,
     "input": [
      "g[-1,:]"
     ],
     "language": "python",
     "metadata": {},
     "outputs": [
      {
       "metadata": {},
       "output_type": "pyout",
       "prompt_number": 17,
       "text": [
        "array([-0.01015982+0.j,  0.01009636+0.j, -0.00999510+0.j,  0.00985642+0.j,\n",
        "       -0.00968083+0.j,  0.00946899+0.j, -0.00922170+0.j,  0.00893987+0.j,\n",
        "       -0.00862458+0.j,  0.00827699+0.j, -0.00789841+0.j,  0.00749025+0.j,\n",
        "       -0.00705405+0.j,  0.00659144+0.j, -0.00610414+0.j,  0.00559400+0.j,\n",
        "       -0.00506290+0.j,  0.00451285+0.j, -0.00394590+0.j,  0.00336417+0.j,\n",
        "       -0.00276985+0.j,  0.00216516+0.j, -0.00155236+0.j,  0.00093375+0.j,\n",
        "       -0.00031164+0.j, -0.00031164+0.j,  0.00093375+0.j, -0.00155236+0.j,\n",
        "        0.00216516+0.j, -0.00276985+0.j,  0.00336417+0.j, -0.00394590+0.j,\n",
        "        0.00451285+0.j, -0.00506290+0.j,  0.00559400+0.j, -0.00610414+0.j,\n",
        "        0.00659144+0.j, -0.00705405+0.j,  0.00749025+0.j, -0.00789841+0.j,\n",
        "        0.00827699+0.j, -0.00862458+0.j,  0.00893987+0.j, -0.00922170+0.j,\n",
        "        0.00946899+0.j, -0.00968083+0.j,  0.00985642+0.j, -0.00999510+0.j,\n",
        "        0.01009636+0.j, -0.01015982+0.j])"
       ]
      }
     ],
     "prompt_number": 17
    },
    {
     "cell_type": "code",
     "collapsed": false,
     "input": [
      "dot(h[:,0], h[:,0])\n",
      "h[0,0]**(2)\n",
      "g[0,0]**(2)\n",
      "g[0,0]**2 - h[0,0]**2 + dot(h[:,0], h[:,0])"
     ],
     "language": "python",
     "metadata": {},
     "outputs": [
      {
       "metadata": {},
       "output_type": "pyout",
       "prompt_number": 18,
       "text": [
        "(25.388588491484395+0j)"
       ]
      }
     ],
     "prompt_number": 18
    },
    {
     "cell_type": "code",
     "collapsed": false,
     "input": [
      "i = 0\n",
      "number = 0\n",
      "correlation = []\n",
      "for k in range(0,len(g[0])):\n",
      "    dens = g[i,k]**2 - h[i,k]**2 + dot(h[:,k], h[:,k])\n",
      "    #dens = g[k,i]**2- h[k,i]**2 + dot(h[k,:], h[k,:])\n",
      "    correlation.append(dens)\n",
      "    \n",
      "    number = number + dens\n",
      "\n",
      "plot(linspace(0,N,N),correlation)\n"
     ],
     "language": "python",
     "metadata": {},
     "outputs": [
      {
       "output_type": "stream",
       "stream": "stderr",
       "text": [
        "/usr/lib/python2.7/dist-packages/numpy/core/numeric.py:460: ComplexWarning: Casting complex values to real discards the imaginary part\n",
        "  return array(a, dtype, copy=False, order=order)\n"
       ]
      },
      {
       "metadata": {},
       "output_type": "pyout",
       "prompt_number": 19,
       "text": [
        "[<matplotlib.lines.Line2D at 0x7f7daf3dae10>]"
       ]
      },
      {
       "metadata": {},
       "output_type": "display_data",
       "png": "[encoded data removed]",
       "text": [
        "<matplotlib.figure.Figure at 0x7f7daf357a50>"
       ]
      }
     ],
     "prompt_number": 19
    },
    {
     "cell_type": "code",
     "collapsed": false,
     "input": [
      "len(dens)"
     ],
     "language": "python",
     "metadata": {},
     "outputs": [
      {
       "ename": "TypeError",
       "evalue": "object of type 'numpy.complex128' has no len()",
       "output_type": "pyerr",
       "traceback": [
        "\u001b[0;31m---------------------------------------------------------------------------\u001b[0m\n\u001b[0;31mTypeError\u001b[0m                                 Traceback (most recent call last)",
        "\u001b[0;32m<ipython-input-20-24a82d6f5300>\u001b[0m in \u001b[0;36m<module>\u001b[0;34m()\u001b[0m\n\u001b[0;32m----> 1\u001b[0;31m \u001b[0mlen\u001b[0m\u001b[0;34m(\u001b[0m\u001b[0mdens\u001b[0m\u001b[0;34m)\u001b[0m\u001b[0;34m\u001b[0m\u001b[0m\n\u001b[0m",
        "\u001b[0;31mTypeError\u001b[0m: object of type 'numpy.complex128' has no len()"
       ]
      }
     ],
     "prompt_number": 20
    },
    {
     "cell_type": "code",
     "collapsed": false,
     "input": [
      "h[0]/(result[0,0]**(1/2))"
     ],
     "language": "python",
     "metadata": {},
     "outputs": []
    },
    {
     "cell_type": "code",
     "collapsed": false,
     "input": [
      "dot(phi,transpose(phi))"
     ],
     "language": "python",
     "metadata": {},
     "outputs": []
    },
    {
     "cell_type": "code",
     "collapsed": false,
     "input": [
      "dot(psi,transpose(psi))"
     ],
     "language": "python",
     "metadata": {},
     "outputs": []
    },
    {
     "cell_type": "code",
     "collapsed": false,
     "input": [
      "transpose(g)"
     ],
     "language": "python",
     "metadata": {},
     "outputs": [
      {
       "metadata": {},
       "output_type": "pyout",
       "prompt_number": 21,
       "text": [
        "array([[ 0.00000000+0.0061806j ,  0.01227648+0.j        ,\n",
        "         0.01824284+0.j        , ..., -0.02953139+0.j        ,\n",
        "        -0.02008044+0.j        , -0.01015982+0.j        ],\n",
        "       [ 0.00000000+0.00619478j,  0.01201338+0.j        ,\n",
        "         0.01736244+0.j        , ...,  0.02786406+0.j        ,\n",
        "         0.01957795+0.j        ,  0.01009636+0.j        ],\n",
        "       [ 0.00000000+0.00623265j,  0.01156674+0.j        ,\n",
        "         0.01588615+0.j        , ..., -0.02525995+0.j        ,\n",
        "        -0.01878250+0.j        , -0.00999510+0.j        ],\n",
        "       ..., \n",
        "       [ 0.00000000+0.05705071j,  0.01156674+0.j        ,\n",
        "        -0.01588615+0.j        , ..., -0.02525995+0.j        ,\n",
        "         0.01878250+0.j        , -0.00999510+0.j        ],\n",
        "       [ 0.00000000+0.06066946j,  0.01201338+0.j        ,\n",
        "        -0.01736244+0.j        , ...,  0.02786406+0.j        ,\n",
        "        -0.01957795+0.j        ,  0.01009636+0.j        ],\n",
        "       [ 0.00000000+0.06452031j,  0.01227648+0.j        ,\n",
        "        -0.01824284+0.j        , ..., -0.02953139+0.j        ,\n",
        "         0.02008044+0.j        , -0.01015982+0.j        ]])"
       ]
      }
     ],
     "prompt_number": 21
    },
    {
     "cell_type": "code",
     "collapsed": false,
     "input": [
      "phi"
     ],
     "language": "python",
     "metadata": {},
     "outputs": [
      {
       "metadata": {},
       "output_type": "pyout",
       "prompt_number": 22,
       "text": [
        "array([[ 0.00000000 -0.04952053j,  0.00000000 -0.11161064j,\n",
        "         0.00000000 -0.17412774j, ...,  0.00000000 -9.59088143j,\n",
        "         0.00000000-10.20594888j,  0.00000000-10.86006112j],\n",
        "       [-0.09881609 +0.j        , -0.22082646 +0.j        ,\n",
        "        -0.33946299 +0.j        , ...,  0.36259647 +0.j        ,\n",
        "         0.24485323 +0.j        ,  0.12336905 +0.j        ],\n",
        "       [-0.14797698 +0.j        , -0.32786950 +0.j        ,\n",
        "        -0.49650922 +0.j        , ..., -0.52828152 +0.j        ,\n",
        "        -0.36259438 +0.j        , -0.18446266 +0.j        ],\n",
        "       ..., \n",
        "       [-0.24164708 +0.j        ,  0.41475832 +0.j        ,\n",
        "        -0.57392554 +0.j        , ...,  0.52340564 +0.j        ,\n",
        "        -0.35903020 +0.j        ,  0.18258430 +0.j        ],\n",
        "       [-0.16225956 +0.j        ,  0.28152616 +0.j        ,\n",
        "        -0.39657999 +0.j        , ..., -0.35901499 +0.j        ,\n",
        "         0.24237026 +0.j        , -0.12209867 +0.j        ],\n",
        "       [-0.08148184 +0.j        ,  0.14228813 +0.j        ,\n",
        "        -0.20256165 +0.j        , ...,  0.18257144 +0.j        ,\n",
        "        -0.12209541 +0.j        ,  0.06116221 +0.j        ]])"
       ]
      }
     ],
     "prompt_number": 22
    },
    {
     "cell_type": "code",
     "collapsed": false,
     "input": [
      "psi"
     ],
     "language": "python",
     "metadata": {},
     "outputs": [
      {
       "metadata": {},
       "output_type": "pyout",
       "prompt_number": 23,
       "text": [
        "array([[ 0.00000000 +0.06188173j,  0.00000000 +0.12400019j,\n",
        "         0.00000000 +0.18659305j, ...,  0.00000000 +9.70498285j,\n",
        "         0.00000000+10.3272878j ,  0.00000000+10.98910174j],\n",
        "       [ 0.12336905 +0.j        ,  0.24485323 +0.j        ,\n",
        "         0.36259647 +0.j        , ..., -0.33946299 +0.j        ,\n",
        "        -0.22082646 +0.j        , -0.09881609 +0.j        ],\n",
        "       [ 0.18446266 +0.j        ,  0.36259438 +0.j        ,\n",
        "         0.52828152 +0.j        , ...,  0.49650922 -0.j        ,\n",
        "         0.32786950 -0.j        ,  0.14797698 -0.j        ],\n",
        "       ..., \n",
        "       [ 0.18258430 -0.j        , -0.35903020 +0.j        ,\n",
        "         0.52340564 -0.j        , ..., -0.57392554 -0.j        ,\n",
        "         0.41475832 +0.j        , -0.24164708 -0.j        ],\n",
        "       [ 0.12209867 -0.j        , -0.24237026 +0.j        ,\n",
        "         0.35901499 -0.j        , ...,  0.39657999 +0.j        ,\n",
        "        -0.28152616 -0.j        ,  0.16225956 +0.j        ],\n",
        "       [ 0.06116221 -0.j        , -0.12209541 +0.j        ,\n",
        "         0.18257144 -0.j        , ..., -0.20256165 -0.j        ,\n",
        "         0.14228813 +0.j        , -0.08148184 -0.j        ]])"
       ]
      }
     ],
     "prompt_number": 23
    },
    {
     "cell_type": "code",
     "collapsed": false,
     "input": [
      "psi[0,4]"
     ],
     "language": "python",
     "metadata": {},
     "outputs": []
    },
    {
     "cell_type": "code",
     "collapsed": false,
     "input": [
      "sin(resp *pi* N) - l*sin(resp *pi* (N+1))"
     ],
     "language": "python",
     "metadata": {},
     "outputs": []
    },
    {
     "cell_type": "code",
     "collapsed": false,
     "input": [
      "array([1,2])/array([2,1])"
     ],
     "language": "python",
     "metadata": {},
     "outputs": []
    },
    {
     "cell_type": "code",
     "collapsed": false,
     "input": [
      "k1 = linspace(-pi,pi,N)\n",
      "((-cos(k1)*2*l+ l**2 +1)*4)**(0.5)\n",
      "plot(k1, ((-cos(k1)*2*l+ l**2 +1)*4)**(0.5) , 'r.')\n",
      "plot(k1, -((-cos(k1)*2*l+ l**2 +1)*4)**(0.5), 'r.' )\n",
      "plt.xlabel('k')\n",
      "plt.ylabel('E')\n",
      "plt.title('(b)')\n"
     ],
     "language": "python",
     "metadata": {},
     "outputs": [
      {
       "metadata": {},
       "output_type": "pyout",
       "prompt_number": 106,
       "text": [
        "<matplotlib.text.Text at 0x7fecbed5a890>"
       ]
      },
      {
       "metadata": {},
       "output_type": "display_data",
       "png": "[encoded data removed]",
       "text": [
        "<matplotlib.figure.Figure at 0x7fecbf0c6a50>"
       ]
      }
     ],
     "prompt_number": 106
    },
    {
     "cell_type": "code",
     "collapsed": false,
     "input": [
      "g"
     ],
     "language": "python",
     "metadata": {},
     "outputs": []
    },
    {
     "cell_type": "code",
     "collapsed": false,
     "input": [
      "h"
     ],
     "language": "python",
     "metadata": {},
     "outputs": []
    },
    {
     "cell_type": "code",
     "collapsed": false,
     "input": [
      "g + h"
     ],
     "language": "python",
     "metadata": {},
     "outputs": []
    },
    {
     "cell_type": "code",
     "collapsed": false,
     "input": [
      "resp"
     ],
     "language": "python",
     "metadata": {},
     "outputs": []
    },
    {
     "cell_type": "code",
     "collapsed": false,
     "input": [],
     "language": "python",
     "metadata": {},
     "outputs": [],
     "prompt_number": 104
    },
    {
     "cell_type": "code",
     "collapsed": false,
     "input": [],
     "language": "python",
     "metadata": {},
     "outputs": [],
     "prompt_number": 44
    },
    {
     "cell_type": "code",
     "collapsed": false,
     "input": [
      "linspace(0,10,100)"
     ],
     "language": "python",
     "metadata": {},
     "outputs": [
      {
       "metadata": {},
       "output_type": "pyout",
       "prompt_number": 488,
       "text": [
        "array([  0.        ,   0.1010101 ,   0.2020202 ,   0.3030303 ,\n",
        "         0.4040404 ,   0.50505051,   0.60606061,   0.70707071,\n",
        "         0.80808081,   0.90909091,   1.01010101,   1.11111111,\n",
        "         1.21212121,   1.31313131,   1.41414141,   1.51515152,\n",
        "         1.61616162,   1.71717172,   1.81818182,   1.91919192,\n",
        "         2.02020202,   2.12121212,   2.22222222,   2.32323232,\n",
        "         2.42424242,   2.52525253,   2.62626263,   2.72727273,\n",
        "         2.82828283,   2.92929293,   3.03030303,   3.13131313,\n",
        "         3.23232323,   3.33333333,   3.43434343,   3.53535354,\n",
        "         3.63636364,   3.73737374,   3.83838384,   3.93939394,\n",
        "         4.04040404,   4.14141414,   4.24242424,   4.34343434,\n",
        "         4.44444444,   4.54545455,   4.64646465,   4.74747475,\n",
        "         4.84848485,   4.94949495,   5.05050505,   5.15151515,\n",
        "         5.25252525,   5.35353535,   5.45454545,   5.55555556,\n",
        "         5.65656566,   5.75757576,   5.85858586,   5.95959596,\n",
        "         6.06060606,   6.16161616,   6.26262626,   6.36363636,\n",
        "         6.46464646,   6.56565657,   6.66666667,   6.76767677,\n",
        "         6.86868687,   6.96969697,   7.07070707,   7.17171717,\n",
        "         7.27272727,   7.37373737,   7.47474747,   7.57575758,\n",
        "         7.67676768,   7.77777778,   7.87878788,   7.97979798,\n",
        "         8.08080808,   8.18181818,   8.28282828,   8.38383838,\n",
        "         8.48484848,   8.58585859,   8.68686869,   8.78787879,\n",
        "         8.88888889,   8.98989899,   9.09090909,   9.19191919,\n",
        "         9.29292929,   9.39393939,   9.49494949,   9.5959596 ,\n",
        "         9.6969697 ,   9.7979798 ,   9.8989899 ,  10.        ])"
       ]
      }
     ],
     "prompt_number": 488
    },
    {
     "cell_type": "code",
     "collapsed": false,
     "input": [
      "a = []\n",
      "a.empty()"
     ],
     "language": "python",
     "metadata": {},
     "outputs": [
      {
       "ename": "AttributeError",
       "evalue": "'list' object has no attribute 'empty'",
       "output_type": "pyerr",
       "traceback": [
        "\u001b[0;31m---------------------------------------------------------------------------\u001b[0m\n\u001b[0;31mAttributeError\u001b[0m                            Traceback (most recent call last)",
        "\u001b[0;32m<ipython-input-688-95d7f00cb7d0>\u001b[0m in \u001b[0;36m<module>\u001b[0;34m()\u001b[0m\n\u001b[1;32m      1\u001b[0m \u001b[0ma\u001b[0m \u001b[0;34m=\u001b[0m \u001b[0;34m[\u001b[0m\u001b[0;34m]\u001b[0m\u001b[0;34m\u001b[0m\u001b[0m\n\u001b[0;32m----> 2\u001b[0;31m \u001b[0ma\u001b[0m\u001b[0;34m.\u001b[0m\u001b[0mempty\u001b[0m\u001b[0;34m(\u001b[0m\u001b[0;34m)\u001b[0m\u001b[0;34m\u001b[0m\u001b[0m\n\u001b[0m",
        "\u001b[0;31mAttributeError\u001b[0m: 'list' object has no attribute 'empty'"
       ]
      }
     ],
     "prompt_number": 688
    },
    {
     "cell_type": "code",
     "collapsed": false,
     "input": [],
     "language": "python",
     "metadata": {},
     "outputs": []
    }
   ],
   "metadata": {}
  }
 ]
}