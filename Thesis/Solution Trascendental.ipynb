{
 "metadata": {
  "name": ""
 },
 "nbformat": 3,
 "nbformat_minor": 0,
 "worksheets": [
  {
   "cells": [
    {
     "cell_type": "code",
     "collapsed": false,
     "input": [
      "from __future__ import division \n",
      "%pylab inline\n",
      "#N-- Number of spaces in the chain\n",
      "N = 50\n",
      "k = linspace(0,pi, 10000)\n",
      "#l-- lambda\n",
      "l = 0.15\n",
      "fh = open('results.txt', 'w')\n",
      "\n",
      "#l = 0.999 + 0.1\n",
      "#l = N/(N+1) \n",
      "\n",
      "#len(resp)"
     ],
     "language": "python",
     "metadata": {},
     "outputs": [
      {
       "output_type": "stream",
       "stream": "stdout",
       "text": [
        "Populating the interactive namespace from numpy and matplotlib\n"
       ]
      },
      {
       "output_type": "stream",
       "stream": "stderr",
       "text": [
        "WARNING: pylab import has clobbered these variables: ['sum']\n",
        "`%pylab --no-import-all` prevents importing * from pylab and numpy\n"
       ]
      }
     ],
     "prompt_number": 858
    },
    {
     "cell_type": "code",
     "collapsed": false,
     "input": [
      "# the following method will solve the trascendental equation for a given lambda l \n",
      "def espectrum(l):\n",
      "    #R--- Trascendental function\n",
      "    R = sin(k*N)-l*sin(k*(N+1))\n",
      "        #plot(k, abs(R))\n",
      "    sum = []\n",
      "    for i in range(1,len(R)-1):\n",
      "        #This condition determines if there is a 0 between R(i) and R(i+1)\n",
      "        if R[i]*R[i+1] <= 0:\n",
      "            sum.append(i)\n",
      "    sum = array(sum)        \n",
      "    k1 = k[sum]\n",
      "    for i in range(0,100):\n",
      "        #we apply newton's method to increase the acuracy of the algorithm\n",
      "        k1 =  k1 - ((sin(k1*N)-l*sin(k1*(N+1)))/(N*cos(k1*N)-(N+1)*l*cos(k1*(N+1))))\n",
      "            \n",
      "    resp = k[sum]/pi  \n",
      "    resp = k1/(pi)\n",
      "    \n",
      "    print repr(len(resp)) + ', ' +repr(resp[0]) + ','  + repr(l) \n",
      "    \n",
      "    if resp[-1] == 1:\n",
      "        resp = resp[:-1]\n",
      "        print 'pum : ' + repr(l)\n",
      "    esp = ((-cos(resp*pi)*2*l+ l**2 +1)*4)**(0.5)\n",
      "           \n",
      "    \n",
      "        #If there are only N-1 solutions, it means there is an edge state in the system. \n",
      "        #This methon find the energy for this state\n",
      "        #If there are only N-1 solutions, it means there is an edge state in the system. \n",
      "        #This methon find the energy for this state\n",
      "    if len(resp) == N-1 :\n",
      "        #func = lambda k : sinh(k*N)-l*sinh(k*(N+1)) \n",
      "        #from scipy.optimize import fsolve\n",
      "        sols = linspace(0, 20, 1000)\n",
      "        R1 = sinh(sols*N)-l*sinh(sols*(N+1))\n",
      "        sum = []\n",
      "        for i in range(1,len(R1)-1):\n",
      "            #This condition determines if there is a 0 between R(i) and R(i+1)\n",
      "            if R1[i]*R1[i+1] <= 0:\n",
      "                sum.append(i)     \n",
      "        sum = array(sum)  \n",
      "        edge = [0]\n",
      "        if len(sum)>0:\n",
      "            edge = sols[sum]\n",
      "            for i in range(0,100):\n",
      "                #we apply newton's method to increase the acuracy of the algorithm\n",
      "                edge =  edge- ((sinh(edge*N)-l*sinh(edge*(N+1)))/(N*cosh(edge*N)-(N+1)*l*cosh(edge*(N+1))))               \n",
      "                \n",
      "        resp2 = resp\n",
      "        resp = zeros(N)\n",
      "        resp[0] = edge[0]/pi\n",
      "        resp[1:] = resp2\n",
      "        esp2 = esp\n",
      "        esp = zeros(N)\n",
      "        \n",
      "        if  ((-cosh(resp[0]*pi)*2*l+ l**2 +1)*4 > -0.01) & ((-cosh(resp[0]*pi)*2*l+ l**2 +1)*4 <0):\n",
      "            esp[0] = 0\n",
      "        else:\n",
      "            esp[0] = ((-cosh(resp[0]*pi)*2*l+ l**2 +1)*4)**(0.5)    \n",
      "        esp[1:] = esp2\n",
      "    \n",
      "    str1 = '\\t'.join(str(e) for e in esp)\n",
      "    fh.write(str1)\n",
      "    fh.write('\\n')\n",
      "    "
     ],
     "language": "python",
     "metadata": {},
     "outputs": [],
     "prompt_number": 864
    },
    {
     "cell_type": "code",
     "collapsed": false,
     "input": [
      "#ls = linspace(0.11, 2,200)\n",
      "#for l in ls:\n",
      "#    espectrum(l)\n",
      "    \n",
      "\n",
      "#fh.close()    "
     ],
     "language": "python",
     "metadata": {},
     "outputs": [],
     "prompt_number": 865
    },
    {
     "cell_type": "code",
     "collapsed": false,
     "input": [
      "#R--- Trascendental function\n",
      "\n",
      "R = sin(k*N)-l*sin(k*(N+1))\n",
      "    #plot(k, abs(R))\n",
      "sum = []\n",
      "for i in range(1,len(R)-1):\n",
      "    #This condition determines if there is a 0 between R(i) and R(i+1)\n",
      "    if R[i]*R[i+1] <= 0:\n",
      "        sum.append(i)\n",
      "sum = array(sum)        \n",
      "\n",
      "k1 = k[sum]\n",
      "for i in range(0,100):\n",
      "    #we apply newton's method to increase the acuracy of the algorithm\n",
      "    k1 =  k1 - ((sin(k1*N)-l*sin(k1*(N+1)))/(N*cos(k1*N)-(N+1)*l*cos(k1*(N+1))))\n",
      "resp = k1/(pi)\n",
      "        \n",
      "esp = ((-cos(resp*pi)*2*l+ l**2 +1)*4)**(0.5)\n",
      "len(resp)\n",
      "resp"
     ],
     "language": "python",
     "metadata": {},
     "outputs": [
      {
       "metadata": {},
       "output_type": "pyout",
       "prompt_number": 866,
       "text": [
        "array([ 0.02007076,  0.04014108,  0.0602105 ,  0.08027861,  0.10034498,\n",
        "        0.12040923,  0.14047101,  0.16052996,  0.18058582,  0.2006383 ,\n",
        "        0.22068719,  0.2407323 ,  0.26077348,  0.28081061,  0.30084361,\n",
        "        0.32087243,  0.34089704,  0.36091745,  0.38093369,  0.40094581,\n",
        "        0.42095387,  0.44095796,  0.46095817,  0.48095463,  0.50094744,\n",
        "        0.52093674,  0.54092266,  0.56090535,  0.58088494,  0.60086157,\n",
        "        0.62083541,  0.6408066 ,  0.66077528,  0.68074161,  0.70070573,\n",
        "        0.7206678 ,  0.74062795,  0.76058634,  0.78054311,  0.80049839,\n",
        "        0.82045233,  0.84040507,  0.86035675,  0.8803075 ,  0.90025746,\n",
        "        0.92020675,  0.94015552,  0.9601039 ,  0.98005202])"
       ]
      }
     ],
     "prompt_number": 866
    },
    {
     "cell_type": "code",
     "collapsed": false,
     "input": [
      "#If there are only N-1 solutions, it means there is an edge state in the system. \n",
      "    #This methon find the energy for this state\n",
      "if len(resp) == N-1 :\n",
      "    #func = lambda k : sinh(k*N)-l*sinh(k*(N+1)) \n",
      "    #from scipy.optimize import fsolve\n",
      "    sols = linspace(0, 20, 1000)\n",
      "    R1 = sinh(sols*N)-l*sinh(sols*(N+1))\n",
      "    sum = []\n",
      "    for i in range(1,len(R1)-1):\n",
      "        #This condition determines if there is a 0 between R(i) and R(i+1)\n",
      "        if R1[i]*R1[i+1] <= 0:\n",
      "            sum.append(i)     \n",
      "    sum = array(sum)        \n",
      "    edge = sols[sum]\n",
      "    for i in range(0,100):\n",
      "        #we apply newton's method to increase the acuracy of the algorithm\n",
      "        edge =  edge- ((sinh(edge*N)-l*sinh(edge*(N+1)))/(N*cosh(edge*N)-(N+1)*l*cosh(edge*(N+1))))               \n",
      "            \n",
      "    resp2 = resp\n",
      "    resp = zeros(N)\n",
      "    resp[0] = edge[0]/pi\n",
      "    resp[1:] = resp2\n",
      "    esp2 = esp\n",
      "    esp = zeros(N)\n",
      "    \n",
      "    if  ((-cosh(resp[0]*pi)*2*l+ l**2 +1)*4 > -0.01) & ((-cosh(resp[0]*pi)*2*l+ l**2 +1)*4 <0):\n",
      "        esp[0] = 0\n",
      "    else:\n",
      "        esp[0] = ((-cosh(resp[0]*pi)*2*l+ l**2 +1)*4)**(0.5)    \n",
      "    esp[1:] = esp2\n",
      "        \n",
      "    #sinh(resp[0]*pi*N)-l*sinh(resp[0]*pi*(N+1)) \n",
      "    print edge\n",
      "    #sinh(edge*N)-l*sinh(edge*(N+1)) \n",
      "    print (-cosh(edge)*2*l+ l**2 +1)*4\n",
      "esp"
     ],
     "language": "python",
     "metadata": {},
     "outputs": [
      {
       "output_type": "stream",
       "stream": "stdout",
       "text": [
        "[ 1.89711998]\n",
        "[  4.52970994e-14]\n"
       ]
      },
      {
       "metadata": {},
       "output_type": "pyout",
       "prompt_number": 867,
       "text": [
        "array([  2.12831152e-07,   1.70070124e+00,   1.70280038e+00,\n",
        "         1.70628376e+00,   1.71112883e+00,   1.71730450e+00,\n",
        "         1.72477160e+00,   1.73348342e+00,   1.74338634e+00,\n",
        "         1.75442058e+00,   1.76652087e+00,   1.77961726e+00,\n",
        "         1.79363592e+00,   1.80849980e+00,   1.82412947e+00,\n",
        "         1.84044373e+00,   1.85736029e+00,   1.87479635e+00,\n",
        "         1.89266915e+00,   1.91089643e+00,   1.92939688e+00,\n",
        "         1.94809047e+00,   1.96689880e+00,   1.98574534e+00,\n",
        "         2.00455568e+00,   2.02325771e+00,   2.04178176e+00,\n",
        "         2.06006072e+00,   2.07803015e+00,   2.09562831e+00,\n",
        "         2.11279628e+00,   2.12947792e+00,   2.14561994e+00,\n",
        "         2.16117188e+00,   2.17608616e+00,   2.19031801e+00,\n",
        "         2.20382552e+00,   2.21656956e+00,   2.22851386e+00,\n",
        "         2.23962489e+00,   2.24987190e+00,   2.25922690e+00,\n",
        "         2.26766462e+00,   2.27516250e+00,   2.28170068e+00,\n",
        "         2.28726198e+00,   2.29183188e+00,   2.29539853e+00,\n",
        "         2.29795271e+00,   2.29948785e+00])"
       ]
      }
     ],
     "prompt_number": 867
    },
    {
     "cell_type": "code",
     "collapsed": false,
     "input": [
      "plot(k,R)\n",
      "resp"
     ],
     "language": "python",
     "metadata": {},
     "outputs": [
      {
       "metadata": {},
       "output_type": "pyout",
       "prompt_number": 868,
       "text": [
        "array([ 0.60387205,  0.02007076,  0.04014108,  0.0602105 ,  0.08027861,\n",
        "        0.10034498,  0.12040923,  0.14047101,  0.16052996,  0.18058582,\n",
        "        0.2006383 ,  0.22068719,  0.2407323 ,  0.26077348,  0.28081061,\n",
        "        0.30084361,  0.32087243,  0.34089704,  0.36091745,  0.38093369,\n",
        "        0.40094581,  0.42095387,  0.44095796,  0.46095817,  0.48095463,\n",
        "        0.50094744,  0.52093674,  0.54092266,  0.56090535,  0.58088494,\n",
        "        0.60086157,  0.62083541,  0.6408066 ,  0.66077528,  0.68074161,\n",
        "        0.70070573,  0.7206678 ,  0.74062795,  0.76058634,  0.78054311,\n",
        "        0.80049839,  0.82045233,  0.84040507,  0.86035675,  0.8803075 ,\n",
        "        0.90025746,  0.92020675,  0.94015552,  0.9601039 ,  0.98005202])"
       ]
      },
      {
       "metadata": {},
       "output_type": "display_data",
       "png": "[encoded data removed]",
       "text": [
        "<matplotlib.figure.Figure at 0x7fecbc147510>"
       ]
      }
     ],
     "prompt_number": 868
    },
    {
     "cell_type": "code",
     "collapsed": false,
     "input": [
      "ylim([0,2*(l+1)])\n",
      "plot(zeros(len(esp)),esp , '.')"
     ],
     "language": "python",
     "metadata": {},
     "outputs": [
      {
       "metadata": {},
       "output_type": "pyout",
       "prompt_number": 869,
       "text": [
        "[<matplotlib.lines.Line2D at 0x7fecbbde7710>]"
       ]
      },
      {
       "metadata": {},
       "output_type": "display_data",
       "png": "[encoded data removed]",
       "text": [
        "<matplotlib.figure.Figure at 0x7fecbbe0d690>"
       ]
      }
     ],
     "prompt_number": 869
    },
    {
     "cell_type": "code",
     "collapsed": false,
     "input": [
      "#graphic of the band structure for the value l \n",
      "ylim([-2*(l+1),2*(l+1)])\n",
      "plot(resp,esp , 'b.', resp,-esp , 'r.')\n",
      "plot(-resp,esp , 'b.', -resp,-esp , 'r.')\n",
      "plt.xlabel('k')\n",
      "plt.ylabel('E')\n",
      "plt.title('$\\lambda = 0.5$ ')\n"
     ],
     "language": "python",
     "metadata": {},
     "outputs": [
      {
       "metadata": {},
       "output_type": "pyout",
       "prompt_number": 870,
       "text": [
        "<matplotlib.text.Text at 0x7fecbbf802d0>"
       ]
      },
      {
       "metadata": {},
       "output_type": "display_data",
       "png": "[encoded data removed]",
       "text": [
        "<matplotlib.figure.Figure at 0x7fecbbc746d0>"
       ]
      }
     ],
     "prompt_number": 870
    },
    {
     "cell_type": "code",
     "collapsed": false,
     "input": [
      "plot(resp, esp)\n"
     ],
     "language": "python",
     "metadata": {},
     "outputs": [
      {
       "metadata": {},
       "output_type": "pyout",
       "prompt_number": 871,
       "text": [
        "[<matplotlib.lines.Line2D at 0x7fecbbc21750>]"
       ]
      },
      {
       "metadata": {},
       "output_type": "display_data",
       "png": "[encoded data removed]",
       "text": [
        "<matplotlib.figure.Figure at 0x7fecbc2087d0>"
       ]
      }
     ],
     "prompt_number": 871
    },
    {
     "cell_type": "code",
     "collapsed": false,
     "input": [
      "if l < 1 :\n",
      "    resp2 = resp\n",
      "    resp = zeros(N,dtype=np.complex_)\n",
      "    resp[0] = 1j * resp2[0]\n",
      "    resp[1:] = resp2[1:]\n",
      "resp"
     ],
     "language": "python",
     "metadata": {},
     "outputs": [
      {
       "metadata": {},
       "output_type": "pyout",
       "prompt_number": 872,
       "text": [
        "array([ 0.00000000+0.60387205j,  0.02007076+0.j        ,\n",
        "        0.04014108+0.j        ,  0.06021050+0.j        ,\n",
        "        0.08027861+0.j        ,  0.10034498+0.j        ,\n",
        "        0.12040923+0.j        ,  0.14047101+0.j        ,\n",
        "        0.16052996+0.j        ,  0.18058582+0.j        ,\n",
        "        0.20063830+0.j        ,  0.22068719+0.j        ,\n",
        "        0.24073230+0.j        ,  0.26077348+0.j        ,\n",
        "        0.28081061+0.j        ,  0.30084361+0.j        ,\n",
        "        0.32087243+0.j        ,  0.34089704+0.j        ,\n",
        "        0.36091745+0.j        ,  0.38093369+0.j        ,\n",
        "        0.40094581+0.j        ,  0.42095387+0.j        ,\n",
        "        0.44095796+0.j        ,  0.46095817+0.j        ,\n",
        "        0.48095463+0.j        ,  0.50094744+0.j        ,\n",
        "        0.52093674+0.j        ,  0.54092266+0.j        ,\n",
        "        0.56090535+0.j        ,  0.58088494+0.j        ,\n",
        "        0.60086157+0.j        ,  0.62083541+0.j        ,\n",
        "        0.64080660+0.j        ,  0.66077528+0.j        ,\n",
        "        0.68074161+0.j        ,  0.70070573+0.j        ,\n",
        "        0.72066780+0.j        ,  0.74062795+0.j        ,\n",
        "        0.76058634+0.j        ,  0.78054311+0.j        ,\n",
        "        0.80049839+0.j        ,  0.82045233+0.j        ,\n",
        "        0.84040507+0.j        ,  0.86035675+0.j        ,\n",
        "        0.88030750+0.j        ,  0.90025746+0.j        ,\n",
        "        0.92020675+0.j        ,  0.94015552+0.j        ,\n",
        "        0.96010390+0.j        ,  0.98005202+0.j        ])"
       ]
      }
     ],
     "prompt_number": 872
    },
    {
     "cell_type": "code",
     "collapsed": false,
     "input": [],
     "language": "python",
     "metadata": {},
     "outputs": [],
     "prompt_number": 872
    },
    {
     "cell_type": "code",
     "collapsed": false,
     "input": [
      "#We define the matrix A+B \n",
      "#a1b1 = array([[2*l,-2,0 ,0 ,0], [0, 2*l,-2,0 ,0 ],[0,0, 2*l,-2,0 ],[0,0,0 ,2*l,-2],[0,0,0,0,2*l]])\n",
      "#a2b2--- matrix A+B\n",
      "#a2b2 = zeros((N,N))\n",
      "#for i in range(0, 100):\n",
      "#    a2b2[5*i:5*(i+1) ,5*i:5*(i+1) ] = a1b1\n",
      "#    a2b2[5*i-1, 5*i] = -2\n",
      "\n",
      "#dot(a2b2, transpose(a2b2))\n"
     ],
     "language": "python",
     "metadata": {},
     "outputs": [],
     "prompt_number": 873
    },
    {
     "cell_type": "code",
     "collapsed": false,
     "input": [
      "#from sympy import *"
     ],
     "language": "python",
     "metadata": {},
     "outputs": [],
     "prompt_number": 874
    },
    {
     "cell_type": "code",
     "collapsed": false,
     "input": [
      "#The row vectors in psi are the eigenvectors of the matrix (A+B)(A-B)\n",
      "#psi = zeros((N,N))\n",
      "psi = zeros((N,N),dtype=np.complex_)\n",
      "\n",
      "for i in range(0,N):\n",
      "    psi[:,i] = sin(resp *pi* (i+1))\n",
      "    \n",
      "\n",
      "#phi is defined as phi(A+B) = Lambda_k psi   \n",
      "#phi = zeros((N,N))\n",
      "phi = zeros((N,N),dtype=np.complex_)\n",
      "\n",
      "for i in range(0,N):\n",
      "    #phi[:,i] = dot( transpose(a2b2), psi[:,i])/esp \n",
      "    phi[:,i] = 2*(-sin(resp *pi* (i)) + l*sin(resp *pi* (i+1)))/esp\n",
      "\n",
      "    \n",
      "#With phi and psi defined we can get the matrices g and h\n",
      "g = (phi + psi)/2\n",
      "h = (phi - psi)/2\n",
      "\n",
      "#Result and result2 probe that the conditions for the  bogoliuvov trans\n",
      "result = dot(g,conjugate(transpose(g))) + dot(h,conjugate(transpose(h))) \n",
      "result2 = dot(g,transpose(h)) + dot(h,transpose(g)) \n",
      "\n",
      "#g = g/(result[0,0])**(1/2)\n",
      "#h = h/(result[0,0])**(1/2)\n",
      "\n",
      "#result = dot(g,transpose(g)) + dot(h,transpose(h)) \n",
      "#result2 = dot(g,transpose(h)) + dot(h,transpose(g))\n",
      "\n",
      "result/result[0,0]\n"
     ],
     "language": "python",
     "metadata": {},
     "outputs": [
      {
       "metadata": {},
       "output_type": "pyout",
       "prompt_number": 875,
       "text": [
        "array([[  1.00000000e+00 +0.00000000e+00j,\n",
        "          0.00000000e+00 +2.41469293e-50j,\n",
        "          0.00000000e+00 -4.81431110e-50j, ...,\n",
        "          0.00000000e+00 +5.91629176e-50j,\n",
        "          0.00000000e+00 -3.95288660e-50j,\n",
        "          0.00000000e+00 +1.97903728e-50j],\n",
        "       [  0.00000000e+00 -2.41469293e-50j,\n",
        "          7.92030696e-81 +0.00000000e+00j,\n",
        "         -2.13287382e-96 +0.00000000e+00j, ...,\n",
        "         -2.34121129e-97 +0.00000000e+00j,\n",
        "          4.15764930e-96 +0.00000000e+00j,\n",
        "          1.28504648e-96 +0.00000000e+00j],\n",
        "       [  0.00000000e+00 +4.81431110e-50j,\n",
        "         -2.13287382e-96 +0.00000000e+00j,\n",
        "          7.92057171e-81 +0.00000000e+00j, ...,\n",
        "          9.15526675e-98 +0.00000000e+00j,\n",
        "         -2.47440387e-96 +0.00000000e+00j,\n",
        "         -1.56397878e-96 +0.00000000e+00j],\n",
        "       ..., \n",
        "       [  0.00000000e+00 -5.91629176e-50j,\n",
        "         -2.34121129e-97 +0.00000000e+00j,\n",
        "          9.15526675e-98 +0.00000000e+00j, ...,\n",
        "          7.96876987e-81 +0.00000000e+00j,\n",
        "          4.72295945e-95 +0.00000000e+00j,\n",
        "         -6.80716144e-96 +0.00000000e+00j],\n",
        "       [  0.00000000e+00 +3.95288660e-50j,\n",
        "          4.15764930e-96 +0.00000000e+00j,\n",
        "         -2.47440387e-96 +0.00000000e+00j, ...,\n",
        "          4.72295945e-95 +0.00000000e+00j,\n",
        "          7.96890091e-81 +0.00000000e+00j,\n",
        "         -1.78462208e-95 +0.00000000e+00j],\n",
        "       [  0.00000000e+00 -1.97903728e-50j,\n",
        "          1.28504648e-96 +0.00000000e+00j,\n",
        "         -1.56397878e-96 +0.00000000e+00j, ...,\n",
        "         -6.80716144e-96 +0.00000000e+00j,\n",
        "         -1.78462208e-95 +0.00000000e+00j,\n",
        "          7.96897947e-81 +0.00000000e+00j]])"
       ]
      }
     ],
     "prompt_number": 875
    },
    {
     "cell_type": "code",
     "collapsed": false,
     "input": [
      "g"
     ],
     "language": "python",
     "metadata": {},
     "outputs": [
      {
       "metadata": {},
       "output_type": "pyout",
       "prompt_number": 877,
       "text": [
        "array([[ 0.00000000 +2.29642297e+06j,  0.00000000 +3.44474306e+05j,\n",
        "         0.00000000 +5.17435534e+04j, ...,  0.00000000 +8.82184800e+38j,\n",
        "         0.00000000 +5.88123200e+39j,  0.00000000 +3.92082126e+40j],\n",
        "       [ 0.03706382 +0.00000000e+00j,  0.03692950 +0.00000000e+00j,\n",
        "         0.03664840 +0.00000000e+00j, ..., -0.03664840 +0.00000000e+00j,\n",
        "        -0.03692950 +0.00000000e+00j, -0.03706382 +0.00000000e+00j],\n",
        "       [ 0.07396583 +0.00000000e+00j,  0.07289453 +0.00000000e+00j,\n",
        "         0.07066554 +0.00000000e+00j, ...,  0.07066554 +0.00000000e+00j,\n",
        "         0.07289453 +0.00000000e+00j,  0.07396583 +0.00000000e+00j],\n",
        "       ..., \n",
        "       [ 0.10566433 +0.00000000e+00j, -0.28902913 +0.00000000e+00j,\n",
        "         0.46220778 +0.00000000e+00j, ..., -0.46220778 +0.00000000e+00j,\n",
        "         0.28902913 +0.00000000e+00j, -0.10566433 +0.00000000e+00j],\n",
        "       [ 0.07066474 +0.00000000e+00j, -0.19462116 +0.00000000e+00j,\n",
        "         0.31552419 +0.00000000e+00j, ...,  0.31552419 +0.00000000e+00j,\n",
        "        -0.19462116 +0.00000000e+00j,  0.07066474 +0.00000000e+00j],\n",
        "       [ 0.03539902 +0.00000000e+00j, -0.09789444 +0.00000000e+00j,\n",
        "         0.16000553 +0.00000000e+00j, ..., -0.16000553 +0.00000000e+00j,\n",
        "         0.09789444 +0.00000000e+00j, -0.03539902 +0.00000000e+00j]])"
       ]
      }
     ],
     "prompt_number": 877
    },
    {
     "cell_type": "code",
     "collapsed": false,
     "input": [
      "conjugate(transpose(psi))"
     ],
     "language": "python",
     "metadata": {},
     "outputs": [
      {
       "metadata": {},
       "output_type": "pyout",
       "prompt_number": 783,
       "text": [
        "array([[ 0.00000000 -1.05000000e+00j,  0.06363565 -0.00000000e+00j,\n",
        "         0.12700008 -0.00000000e+00j, ...,  0.18633106 +0.00000000e+00j,\n",
        "         0.12462540 +0.00000000e+00j,  0.06243429 +0.00000000e+00j],\n",
        "       [ 0.00000000 -3.04500000e+00j,  0.12701335 -0.00000000e+00j,\n",
        "         0.25194345 -0.00000000e+00j, ..., -0.36613569 -0.00000000e+00j,\n",
        "        -0.24730760 -0.00000000e+00j, -0.12462497 -0.00000000e+00j],\n",
        "       [ 0.00000000 -7.78050000e+00j,  0.18987618 -0.00000000e+00j,\n",
        "         0.37280670 -0.00000000e+00j, ...,  0.53311607 +0.00000000e+00j,\n",
        "         0.36613371 +0.00000000e+00j,  0.18632939 +0.00000000e+00j],\n",
        "       ..., \n",
        "       [ 0.00000000 -6.31088724e+18j,  0.08491378 +0.00000000e+00j,\n",
        "        -0.16984666 -0.00000000e+00j, ..., -0.41533146 +0.00000000e+00j,\n",
        "         0.28170648 -0.00000000e+00j, -0.14231148 +0.00000000e+00j],\n",
        "       [ 0.00000000 -1.57772181e+19j,  0.02133586 +0.00000000e+00j,\n",
        "        -0.04331652 -0.00000000e+00j, ...,  0.23855797 -0.00000000e+00j,\n",
        "        -0.15993212 +0.00000000e+00j,  0.08023501 -0.00000000e+00j],\n",
        "       [ 0.00000000 -3.94430453e+19j, -0.04232855 +0.00000000e+00j,\n",
        "         0.08391511 -0.00000000e+00j, ..., -0.05342875 +0.00000000e+00j,\n",
        "         0.03566404 -0.00000000e+00j, -0.01784548 +0.00000000e+00j]])"
       ]
      }
     ],
     "prompt_number": 783
    },
    {
     "cell_type": "code",
     "collapsed": false,
     "input": [
      "psi"
     ],
     "language": "python",
     "metadata": {},
     "outputs": [
      {
       "metadata": {},
       "output_type": "pyout",
       "prompt_number": 769,
       "text": [
        "array([[ 0.00000000 +1.05000000e+00j,  0.00000000 +3.04500000e+00j,\n",
        "         0.00000000 +7.78050000e+00j, ...,  0.00000000 +6.31088724e+18j,\n",
        "         0.00000000 +1.57772181e+19j,  0.00000000 +3.94430453e+19j],\n",
        "       [ 0.06363565 +0.00000000e+00j,  0.12701335 +0.00000000e+00j,\n",
        "         0.18987618 +0.00000000e+00j, ...,  0.08491378 -0.00000000e+00j,\n",
        "         0.02133586 -0.00000000e+00j, -0.04232855 -0.00000000e+00j],\n",
        "       [ 0.12700008 +0.00000000e+00j,  0.25194345 +0.00000000e+00j,\n",
        "         0.37280670 +0.00000000e+00j, ..., -0.16984666 +0.00000000e+00j,\n",
        "        -0.04331652 +0.00000000e+00j,  0.08391511 +0.00000000e+00j],\n",
        "       ..., \n",
        "       [ 0.18633106 -0.00000000e+00j, -0.36613569 +0.00000000e+00j,\n",
        "         0.53311607 -0.00000000e+00j, ..., -0.41533146 -0.00000000e+00j,\n",
        "         0.23855797 +0.00000000e+00j, -0.05342875 -0.00000000e+00j],\n",
        "       [ 0.12462540 -0.00000000e+00j, -0.24730760 +0.00000000e+00j,\n",
        "         0.36613371 -0.00000000e+00j, ...,  0.28170648 +0.00000000e+00j,\n",
        "        -0.15993212 -0.00000000e+00j,  0.03566404 +0.00000000e+00j],\n",
        "       [ 0.06243429 -0.00000000e+00j, -0.12462497 +0.00000000e+00j,\n",
        "         0.18632939 -0.00000000e+00j, ..., -0.14231148 -0.00000000e+00j,\n",
        "         0.08023501 +0.00000000e+00j, -0.01784548 -0.00000000e+00j]])"
       ]
      }
     ],
     "prompt_number": 769
    },
    {
     "cell_type": "code",
     "collapsed": false,
     "input": [
      "g[-1,:]"
     ],
     "language": "python",
     "metadata": {},
     "outputs": [
      {
       "metadata": {},
       "output_type": "pyout",
       "prompt_number": 763,
       "text": [
        "array([ 0.04013988+0.j, -0.10242999+0.j,  0.16432043+0.j, -0.22556972+0.j,\n",
        "        0.28593887+0.j, -0.34519233+0.j,  0.40309891+0.j, -0.45943265+0.j,\n",
        "        0.51397376+0.j, -0.56650942+0.j,  0.61683464+0.j, -0.66475308+0.j,\n",
        "        0.71007774+0.j, -0.75263180+0.j,  0.79224920+0.j, -0.82877536+0.j,\n",
        "        0.86206777+0.j, -0.89199653+0.j,  0.91844485+0.j, -0.94130953+0.j,\n",
        "        0.96050138+0.j, -0.97594549+0.j,  0.98758161+0.j, -0.99536435+0.j,\n",
        "        0.99926332+0.j, -0.99926332+0.j,  0.99536435+0.j, -0.98758161+0.j,\n",
        "        0.97594549+0.j, -0.96050138+0.j,  0.94130953+0.j, -0.91844485+0.j,\n",
        "        0.89199653+0.j, -0.86206777+0.j,  0.82877536+0.j, -0.79224920+0.j,\n",
        "        0.75263180+0.j, -0.71007774+0.j,  0.66475308+0.j, -0.61683464+0.j,\n",
        "        0.56650942+0.j, -0.51397376+0.j,  0.45943265+0.j, -0.40309891+0.j,\n",
        "        0.34519233+0.j, -0.28593887+0.j,  0.22556972+0.j, -0.16432043+0.j,\n",
        "        0.10242999+0.j, -0.04013988+0.j])"
       ]
      }
     ],
     "prompt_number": 763
    },
    {
     "cell_type": "code",
     "collapsed": false,
     "input": [
      "dot(h[:,0], h[:,0])\n",
      "h[0,0]**(2)\n",
      "g[0,0]**(2)\n",
      "g[0,0]**2 - h[0,0]**2 + dot(h[:,0], h[:,0])"
     ],
     "language": "python",
     "metadata": {},
     "outputs": [
      {
       "metadata": {},
       "output_type": "pyout",
       "prompt_number": 764,
       "text": [
        "(-397217508060906.94+0j)"
       ]
      }
     ],
     "prompt_number": 764
    },
    {
     "cell_type": "code",
     "collapsed": false,
     "input": [
      "i = 0\n",
      "number = 0\n",
      "correlation = []\n",
      "for k in range(0,len(g[0])):\n",
      "    dens = g[i,k]**2 - h[i,k]**2 + dot(h[:,k], h[:,k])\n",
      "    #dens = g[k,i]**2- h[k,i]**2 + dot(h[k,:], h[k,:])\n",
      "    correlation.append(dens)\n",
      "    \n",
      "    number = number + dens\n",
      "\n",
      "plot(linspace(0,N,N),correlation)\n"
     ],
     "language": "python",
     "metadata": {},
     "outputs": [
      {
       "metadata": {},
       "output_type": "pyout",
       "prompt_number": 765,
       "text": [
        "[<matplotlib.lines.Line2D at 0x7fecbc6e10d0>]"
       ]
      },
      {
       "metadata": {},
       "output_type": "display_data",
       "png": "[encoded data removed]",
       "text": [
        "<matplotlib.figure.Figure at 0x7fecbc920d50>"
       ]
      }
     ],
     "prompt_number": 765
    },
    {
     "cell_type": "code",
     "collapsed": false,
     "input": [
      "len(dens)"
     ],
     "language": "python",
     "metadata": {},
     "outputs": [
      {
       "ename": "TypeError",
       "evalue": "object of type 'numpy.complex128' has no len()",
       "output_type": "pyerr",
       "traceback": [
        "\u001b[0;31m---------------------------------------------------------------------------\u001b[0m\n\u001b[0;31mTypeError\u001b[0m                                 Traceback (most recent call last)",
        "\u001b[0;32m<ipython-input-380-24a82d6f5300>\u001b[0m in \u001b[0;36m<module>\u001b[0;34m()\u001b[0m\n\u001b[0;32m----> 1\u001b[0;31m \u001b[0mlen\u001b[0m\u001b[0;34m(\u001b[0m\u001b[0mdens\u001b[0m\u001b[0;34m)\u001b[0m\u001b[0;34m\u001b[0m\u001b[0m\n\u001b[0m",
        "\u001b[0;31mTypeError\u001b[0m: object of type 'numpy.complex128' has no len()"
       ]
      }
     ],
     "prompt_number": 380
    },
    {
     "cell_type": "code",
     "collapsed": false,
     "input": [
      "h[0]/(result[0,0]**(1/2))"
     ],
     "language": "python",
     "metadata": {},
     "outputs": [
      {
       "metadata": {},
       "output_type": "pyout",
       "prompt_number": 381,
       "text": [
        "array([ 0.00587865+0.j,  0.00583570+0.j,  0.00577146+0.j,  0.00568615+0.j,\n",
        "        0.00558009+0.j,  0.00545367+0.j,  0.00530735+0.j,  0.00514166+0.j,\n",
        "        0.00495720+0.j,  0.00475466+0.j,  0.00453476+0.j,  0.00429831+0.j,\n",
        "        0.00404618+0.j,  0.00377928+0.j,  0.00349858+0.j,  0.00320512+0.j,\n",
        "        0.00289997+0.j,  0.00258423+0.j,  0.00225906+0.j,  0.00192564+0.j,\n",
        "        0.00158520+0.j,  0.00123897+0.j,  0.00088823+0.j,  0.00053424+0.j,\n",
        "        0.00017830+0.j, -0.00017830+0.j, -0.00053424+0.j, -0.00088823+0.j,\n",
        "       -0.00123897+0.j, -0.00158520+0.j, -0.00192564+0.j, -0.00225906+0.j,\n",
        "       -0.00258423+0.j, -0.00289997+0.j, -0.00320512+0.j, -0.00349858+0.j,\n",
        "       -0.00377928+0.j, -0.00404618+0.j, -0.00429831+0.j, -0.00453476+0.j,\n",
        "       -0.00475466+0.j, -0.00495720+0.j, -0.00514166+0.j, -0.00530735+0.j,\n",
        "       -0.00545367+0.j, -0.00558009+0.j, -0.00568615+0.j, -0.00577146+0.j,\n",
        "       -0.00583570+0.j, -0.00587865+0.j])"
       ]
      }
     ],
     "prompt_number": 381
    },
    {
     "cell_type": "code",
     "collapsed": false,
     "input": [
      "dot(phi,transpose(phi))"
     ],
     "language": "python",
     "metadata": {},
     "outputs": []
    },
    {
     "cell_type": "code",
     "collapsed": false,
     "input": [
      "dot(psi,transpose(psi))"
     ],
     "language": "python",
     "metadata": {},
     "outputs": []
    },
    {
     "cell_type": "code",
     "collapsed": false,
     "input": [
      "transpose(g)"
     ],
     "language": "python",
     "metadata": {},
     "outputs": []
    },
    {
     "cell_type": "code",
     "collapsed": false,
     "input": [
      "phi"
     ],
     "language": "python",
     "metadata": {},
     "outputs": []
    },
    {
     "cell_type": "code",
     "collapsed": false,
     "input": [
      "psi"
     ],
     "language": "python",
     "metadata": {},
     "outputs": []
    },
    {
     "cell_type": "code",
     "collapsed": false,
     "input": [
      "psi[0,4]"
     ],
     "language": "python",
     "metadata": {},
     "outputs": []
    },
    {
     "cell_type": "code",
     "collapsed": false,
     "input": [
      "sin(resp *pi* N) - l*sin(resp *pi* (N+1))"
     ],
     "language": "python",
     "metadata": {},
     "outputs": []
    },
    {
     "cell_type": "code",
     "collapsed": false,
     "input": [
      "array([1,2])/array([2,1])"
     ],
     "language": "python",
     "metadata": {},
     "outputs": []
    },
    {
     "cell_type": "code",
     "collapsed": false,
     "input": [
      "k1 = linspace(-pi,pi,N)\n",
      "((-cos(k1)*2*l+ l**2 +1)*4)**(0.5)\n",
      "plot(k1, ((-cos(k1)*2*l+ l**2 +1)*4)**(0.5) , 'r.')\n",
      "plot(k1, -((-cos(k1)*2*l+ l**2 +1)*4)**(0.5), 'r.' )\n",
      "plt.xlabel('k')\n",
      "plt.ylabel('E')\n",
      "plt.title('(b)')\n"
     ],
     "language": "python",
     "metadata": {},
     "outputs": [
      {
       "metadata": {},
       "output_type": "pyout",
       "prompt_number": 106,
       "text": [
        "<matplotlib.text.Text at 0x7fecbed5a890>"
       ]
      },
      {
       "metadata": {},
       "output_type": "display_data",
       "png": "[encoded data removed]",
       "text": [
        "<matplotlib.figure.Figure at 0x7fecbf0c6a50>"
       ]
      }
     ],
     "prompt_number": 106
    },
    {
     "cell_type": "code",
     "collapsed": false,
     "input": [
      "g"
     ],
     "language": "python",
     "metadata": {},
     "outputs": []
    },
    {
     "cell_type": "code",
     "collapsed": false,
     "input": [
      "h"
     ],
     "language": "python",
     "metadata": {},
     "outputs": []
    },
    {
     "cell_type": "code",
     "collapsed": false,
     "input": [
      "g + h"
     ],
     "language": "python",
     "metadata": {},
     "outputs": []
    },
    {
     "cell_type": "code",
     "collapsed": false,
     "input": [
      "resp"
     ],
     "language": "python",
     "metadata": {},
     "outputs": []
    },
    {
     "cell_type": "code",
     "collapsed": false,
     "input": [],
     "language": "python",
     "metadata": {},
     "outputs": [],
     "prompt_number": 104
    },
    {
     "cell_type": "code",
     "collapsed": false,
     "input": [],
     "language": "python",
     "metadata": {},
     "outputs": [],
     "prompt_number": 44
    },
    {
     "cell_type": "code",
     "collapsed": false,
     "input": [
      "linspace(0,10,100)"
     ],
     "language": "python",
     "metadata": {},
     "outputs": [
      {
       "metadata": {},
       "output_type": "pyout",
       "prompt_number": 488,
       "text": [
        "array([  0.        ,   0.1010101 ,   0.2020202 ,   0.3030303 ,\n",
        "         0.4040404 ,   0.50505051,   0.60606061,   0.70707071,\n",
        "         0.80808081,   0.90909091,   1.01010101,   1.11111111,\n",
        "         1.21212121,   1.31313131,   1.41414141,   1.51515152,\n",
        "         1.61616162,   1.71717172,   1.81818182,   1.91919192,\n",
        "         2.02020202,   2.12121212,   2.22222222,   2.32323232,\n",
        "         2.42424242,   2.52525253,   2.62626263,   2.72727273,\n",
        "         2.82828283,   2.92929293,   3.03030303,   3.13131313,\n",
        "         3.23232323,   3.33333333,   3.43434343,   3.53535354,\n",
        "         3.63636364,   3.73737374,   3.83838384,   3.93939394,\n",
        "         4.04040404,   4.14141414,   4.24242424,   4.34343434,\n",
        "         4.44444444,   4.54545455,   4.64646465,   4.74747475,\n",
        "         4.84848485,   4.94949495,   5.05050505,   5.15151515,\n",
        "         5.25252525,   5.35353535,   5.45454545,   5.55555556,\n",
        "         5.65656566,   5.75757576,   5.85858586,   5.95959596,\n",
        "         6.06060606,   6.16161616,   6.26262626,   6.36363636,\n",
        "         6.46464646,   6.56565657,   6.66666667,   6.76767677,\n",
        "         6.86868687,   6.96969697,   7.07070707,   7.17171717,\n",
        "         7.27272727,   7.37373737,   7.47474747,   7.57575758,\n",
        "         7.67676768,   7.77777778,   7.87878788,   7.97979798,\n",
        "         8.08080808,   8.18181818,   8.28282828,   8.38383838,\n",
        "         8.48484848,   8.58585859,   8.68686869,   8.78787879,\n",
        "         8.88888889,   8.98989899,   9.09090909,   9.19191919,\n",
        "         9.29292929,   9.39393939,   9.49494949,   9.5959596 ,\n",
        "         9.6969697 ,   9.7979798 ,   9.8989899 ,  10.        ])"
       ]
      }
     ],
     "prompt_number": 488
    },
    {
     "cell_type": "code",
     "collapsed": false,
     "input": [
      "a = []\n",
      "a.empty()"
     ],
     "language": "python",
     "metadata": {},
     "outputs": [
      {
       "ename": "AttributeError",
       "evalue": "'list' object has no attribute 'empty'",
       "output_type": "pyerr",
       "traceback": [
        "\u001b[0;31m---------------------------------------------------------------------------\u001b[0m\n\u001b[0;31mAttributeError\u001b[0m                            Traceback (most recent call last)",
        "\u001b[0;32m<ipython-input-688-95d7f00cb7d0>\u001b[0m in \u001b[0;36m<module>\u001b[0;34m()\u001b[0m\n\u001b[1;32m      1\u001b[0m \u001b[0ma\u001b[0m \u001b[0;34m=\u001b[0m \u001b[0;34m[\u001b[0m\u001b[0;34m]\u001b[0m\u001b[0;34m\u001b[0m\u001b[0m\n\u001b[0;32m----> 2\u001b[0;31m \u001b[0ma\u001b[0m\u001b[0;34m.\u001b[0m\u001b[0mempty\u001b[0m\u001b[0;34m(\u001b[0m\u001b[0;34m)\u001b[0m\u001b[0;34m\u001b[0m\u001b[0m\n\u001b[0m",
        "\u001b[0;31mAttributeError\u001b[0m: 'list' object has no attribute 'empty'"
       ]
      }
     ],
     "prompt_number": 688
    },
    {
     "cell_type": "code",
     "collapsed": false,
     "input": [],
     "language": "python",
     "metadata": {},
     "outputs": []
    }
   ],
   "metadata": {}
  }
 ]
}