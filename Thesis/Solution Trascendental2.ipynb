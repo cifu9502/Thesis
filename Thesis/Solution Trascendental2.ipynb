{
 "metadata": {
  "name": "",
  "signature": "sha256:cb9f3fba5c8ef3a520c861ea1956c4a9181574f3601e7934d2ba3ed3e99c6488"
 },
 "nbformat": 3,
 "nbformat_minor": 0,
 "worksheets": [
  {
   "cells": [
    {
     "cell_type": "code",
     "collapsed": false,
     "input": [
      "from __future__ import division \n",
      "%pylab inline\n",
      "#N-- Number of spaces in the chain\n",
      "N = 50\n",
      "k = linspace(0,pi, 10000)\n",
      "#l-- lambda\n",
      "#l = (N/(N+1))-0.1\n",
      "l = 0.55\n",
      "\n",
      "fh = open('results.txt', 'w')\n",
      "\n",
      "#l = 0.999 + 0.1\n",
      "#l = N/(N+1) \n",
      "\n",
      "#len(resp)"
     ],
     "language": "python",
     "metadata": {},
     "outputs": [
      {
       "output_type": "stream",
       "stream": "stdout",
       "text": [
        "Populating the interactive namespace from numpy and matplotlib\n"
       ]
      },
      {
       "output_type": "stream",
       "stream": "stderr",
       "text": [
        "WARNING: pylab import has clobbered these variables: ['matrix', 'number']\n",
        "`%pylab --no-import-all` prevents importing * from pylab and numpy\n"
       ]
      }
     ],
     "prompt_number": 59
    },
    {
     "cell_type": "code",
     "collapsed": false,
     "input": [
      "# the following method will solve the trascendental equation for a given lambda l \n",
      "def espectrum(l):\n",
      "    #R--- Trascendental function\n",
      "    R = sin(k*N)-l*sin(k*(N+1))\n",
      "        #plot(k, abs(R))\n",
      "    sum = []\n",
      "    for i in range(1,len(R)-1):\n",
      "        #This condition determines if there is a 0 between R(i) and R(i+1)\n",
      "        if R[i]*R[i+1] <= 0:\n",
      "            sum.append(i)\n",
      "    sum = array(sum)        \n",
      "    k1 = k[sum]\n",
      "    for i in range(0,100):\n",
      "        #we apply newton's method to increase the acuracy of the algorithm\n",
      "        k1 =  k1 - ((sin(k1*N)-l*sin(k1*(N+1)))/(N*cos(k1*N)-(N+1)*l*cos(k1*(N+1))))\n",
      "            \n",
      "    resp = k[sum]/pi  \n",
      "    resp = k1/(pi)\n",
      "    \n",
      "    print repr(len(resp)) + ', ' +repr(resp[0]) + ','  + repr(l) \n",
      "    \n",
      "    if resp[-1] == 1:\n",
      "        resp = resp[:-1]\n",
      "        print 'pum : ' + repr(l)\n",
      "    esp = ((-cos(resp*pi)*2*l+ l**2 +1)*4)**(0.5)\n",
      "           \n",
      "    \n",
      "    #If there are only N-1 solutions, it means there is an edge state in the system. \n",
      "    #This method find the energy for this state\n",
      "        \n",
      "    if len(resp) == N-1 :\n",
      "        \n",
      "        sols = linspace(0, 20, 1000)\n",
      "        R1 = sinh(sols*N)-l*sinh(sols*(N+1))\n",
      "        sum = []\n",
      "        for i in range(1,len(R1)-1):\n",
      "            #This condition determines if there is a 0 between R(i) and R(i+1)\n",
      "            if R1[i]*R1[i+1] <= 0:\n",
      "                sum.append(i)     \n",
      "        sum = array(sum)  \n",
      "        edge = [0]\n",
      "        if len(sum)>0:\n",
      "            edge = sols[sum]\n",
      "            for i in range(0,100):\n",
      "                #we apply newton's method to increase the acuracy of the algorithm\n",
      "                edge =  edge- ((sinh(edge*N)-l*sinh(edge*(N+1)))/(N*cosh(edge*N)-(N+1)*l*cosh(edge*(N+1))))               \n",
      "                \n",
      "        resp2 = resp\n",
      "        resp = zeros(N)\n",
      "        resp[0] = edge[0]/pi\n",
      "        resp[1:] = resp2\n",
      "        esp2 = esp\n",
      "        esp = zeros(N)\n",
      "        \n",
      "        if  ((-cosh(resp[0]*pi)*2*l+ l**2 +1)*4 > -0.01) & ((-cosh(resp[0]*pi)*2*l+ l**2 +1)*4 <0):\n",
      "            esp[0] = 0\n",
      "        else:\n",
      "            esp[0] = ((-cosh(resp[0]*pi)*2*l+ l**2 +1)*4)**(0.5)    \n",
      "        esp[1:] = esp2\n",
      "    \n",
      "    str1 = '\\t'.join(str(e) for e in esp)\n",
      "    fh.write(str1)\n",
      "    fh.write('\\n')\n",
      "    "
     ],
     "language": "python",
     "metadata": {},
     "outputs": [],
     "prompt_number": 60
    },
    {
     "cell_type": "code",
     "collapsed": false,
     "input": [
      "#ls = linspace(0.11, 2,200)\n",
      "#for l in ls:\n",
      "#    espectrum(l)\n",
      "    \n",
      "\n",
      "#fh.close()    "
     ],
     "language": "python",
     "metadata": {},
     "outputs": [],
     "prompt_number": 61
    },
    {
     "cell_type": "code",
     "collapsed": false,
     "input": [
      "#R--- Trascendental function\n",
      "\n",
      "R = sin(k*N)-l*sin(k*(N+1))\n",
      "    #plot(k, abs(R))\n",
      "sum1 = []\n",
      "for i in range(1,len(R)-1):\n",
      "    #This condition determines if there is a 0 between R(i) and R(i+1)\n",
      "    if R[i]*R[i+1] <= 0:\n",
      "        sum1.append(i)\n",
      "sum1 = array(sum1)        \n",
      "\n",
      "k1 = k[sum1]\n",
      "for i in range(0,100):\n",
      "    #we apply newton's method to increase the acuracy of the algorithm\n",
      "    k1 =  k1 - ((sin(k1*N)-l*sin(k1*(N+1)))/(N*cos(k1*N)-(N+1)*l*cos(k1*(N+1))))\n",
      "resp = k1/(pi)\n",
      "        \n",
      "esp = ((-cos(resp*pi)*2*l+ l**2 +1)*4)**(0.5)\n",
      "len(resp)\n",
      "#resp"
     ],
     "language": "python",
     "metadata": {},
     "outputs": [
      {
       "metadata": {},
       "output_type": "pyout",
       "prompt_number": 62,
       "text": [
        "49"
       ]
      }
     ],
     "prompt_number": 62
    },
    {
     "cell_type": "code",
     "collapsed": false,
     "input": [
      "#If there are only N-1 solutions, it means there is an edge state in the system. \n",
      "    #This methon find the energy for this state\n",
      "if len(resp) == N-1 :\n",
      "    #we now solve the equation for k imaginary\n",
      "    sols = linspace(0, 20, 1000)\n",
      "    R1 = sinh(sols*N)-l*sinh(sols*(N+1))\n",
      "    sum1 = []\n",
      "    for i in range(1,len(R1)-1):\n",
      "        #This condition determines if there is a 0 between R(i) and R(i+1)\n",
      "        if R1[i]*R1[i+1] <= 0:\n",
      "            sum1.append(i)     \n",
      "            \n",
      "    #we apply newton's method to increase the acuracy of the algorithm        \n",
      "    sum1 = array(sum1)        \n",
      "    edge = [0]\n",
      "    if len(sum1)>0:\n",
      "        edge = sols[sum1]\n",
      "        for i in range(0,100):\n",
      "                #we apply newton's method to increase the acuracy of the algorithm\n",
      "            edge =  edge- ((sinh(edge*N)-l*sinh(edge*(N+1)))/(N*cosh(edge*N)-(N+1)*l*cosh(edge*(N+1))))    \n",
      "    \n",
      "            \n",
      "    \n",
      "    #This part replaces the values of resp.\n",
      "    resp2 = resp\n",
      "    resp = zeros(N)\n",
      "    resp[0] = edge[0]/pi\n",
      "    resp[1:] = resp2\n",
      "    esp2 = esp\n",
      "    esp = zeros(N)\n",
      "    \n",
      "    if  ((-cosh(resp[0]*pi)*2*l+ l**2 +1)*4 > -0.01) & ((-cosh(resp[0]*pi)*2*l+ l**2 +1)*4 <0):\n",
      "        esp[0] = 0\n",
      "    else:\n",
      "        esp[0] = ((-cosh(resp[0]*pi)*2*l+ l**2 +1)*4)**(0.5)    \n",
      "    esp[1:] = esp2\n",
      "        \n",
      "    #sinh(resp[0]*pi*N)-l*sinh(resp[0]*pi*(N+1)) \n",
      "    print edge\n",
      "    print (-cosh(edge)*2*l+ l**2 +1)*4\n",
      "print(len(esp))    \n",
      "esp"
     ],
     "language": "python",
     "metadata": {},
     "outputs": [
      {
       "output_type": "stream",
       "stream": "stdout",
       "text": [
        "[ 0.597837]\n",
        "[  1.77635684e-15]\n",
        "50\n"
       ]
      },
      {
       "metadata": {},
       "output_type": "pyout",
       "prompt_number": 63,
       "text": [
        "array([  4.21468485e-08,   9.05052707e-01,   9.20008626e-01,\n",
        "         9.44296378e-01,   9.77067347e-01,   1.01731212e+00,\n",
        "         1.06396904e+00,   1.11600559e+00,   1.17246820e+00,\n",
        "         1.23250549e+00,   1.29537322e+00,   1.36042866e+00,\n",
        "         1.42711977e+00,   1.49497285e+00,   1.56358043e+00,\n",
        "         1.63259041e+00,   1.70169666e+00,   1.77063118e+00,\n",
        "         1.83915763e+00,   1.90706600e+00,   1.97416837e+00,\n",
        "         2.04029540e+00,   2.10529351e+00,   2.16902261e+00,\n",
        "         2.23135426e+00,   2.29217013e+00,   2.35136081e+00,\n",
        "         2.40882481e+00,   2.46446770e+00,   2.51820150e+00,\n",
        "         2.56994408e+00,   2.61961872e+00,   2.66715375e+00,\n",
        "         2.71248222e+00,   2.75554165e+00,   2.79627382e+00,\n",
        "         2.83462461e+00,   2.87054380e+00,   2.90398502e+00,\n",
        "         2.93490561e+00,   2.96326654e+00,   2.98903234e+00,\n",
        "         3.01217106e+00,   3.03265422e+00,   3.05045673e+00,\n",
        "         3.06555694e+00,   3.07793655e+00,   3.08758061e+00,\n",
        "         3.09447751e+00,   3.09861896e+00])"
       ]
      }
     ],
     "prompt_number": 63
    },
    {
     "cell_type": "code",
     "collapsed": false,
     "input": [
      "plot(k,R)\n",
      "resp"
     ],
     "language": "python",
     "metadata": {},
     "outputs": [
      {
       "metadata": {},
       "output_type": "pyout",
       "prompt_number": 64,
       "text": [
        "array([ 0.19029743,  0.02049844,  0.04098115,  0.06143453,  0.08184856,\n",
        "        0.10221727,  0.12253837,  0.14281237,  0.16304167,  0.18322974,\n",
        "        0.20338049,  0.22349789,  0.24358573,  0.2636475 ,  0.2836863 ,\n",
        "        0.30370492,  0.32370577,  0.34369097,  0.36366236,  0.38362152,\n",
        "        0.40356986,  0.42350857,  0.44343871,  0.46336119,  0.48327683,\n",
        "        0.50318633,  0.52309031,  0.54298933,  0.56288387,  0.58277437,\n",
        "        0.60266123,  0.62254478,  0.64242535,  0.66230322,  0.68217865,\n",
        "        0.70205186,  0.72192309,  0.74179251,  0.76166032,  0.78152668,\n",
        "        0.80139175,  0.82125567,  0.84111858,  0.86098062,  0.88084189,\n",
        "        0.90070253,  0.92056265,  0.94042235,  0.96028173,  0.98014092])"
       ]
      },
      {
       "metadata": {},
       "output_type": "display_data",
       "png": "[encoded data removed]",
       "text": [
        "<matplotlib.figure.Figure at 0x7f4678646790>"
       ]
      }
     ],
     "prompt_number": 64
    },
    {
     "cell_type": "code",
     "collapsed": false,
     "input": [
      "ylim([0,2*(l+1)])\n",
      "plot(zeros(len(esp)),esp , '.')"
     ],
     "language": "python",
     "metadata": {},
     "outputs": [
      {
       "metadata": {},
       "output_type": "pyout",
       "prompt_number": 65,
       "text": [
        "[<matplotlib.lines.Line2D at 0x7f4677a75650>]"
       ]
      },
      {
       "metadata": {},
       "output_type": "display_data",
       "png": "[encoded data removed]",
       "text": [
        "<matplotlib.figure.Figure at 0x7f4678646c90>"
       ]
      }
     ],
     "prompt_number": 65
    },
    {
     "cell_type": "code",
     "collapsed": false,
     "input": [
      "#graphic of the band structure for the value l \n",
      "ylim([-2*(l+1),2*(l+1)])\n",
      "plot(resp,esp , 'b.', resp,-esp , 'r.')\n",
      "plot(-resp,esp , 'b.', -resp,-esp , 'r.')\n",
      "plt.xlabel('k')\n",
      "plt.ylabel('E')\n",
      "plt.title('$\\lambda = 0.5$ ')\n"
     ],
     "language": "python",
     "metadata": {},
     "outputs": [
      {
       "metadata": {},
       "output_type": "pyout",
       "prompt_number": 66,
       "text": [
        "<matplotlib.text.Text at 0x7f4677a5d990>"
       ]
      },
      {
       "metadata": {},
       "output_type": "display_data",
       "png": "[encoded data removed]",
       "text": [
        "<matplotlib.figure.Figure at 0x7f467867e050>"
       ]
      }
     ],
     "prompt_number": 66
    },
    {
     "cell_type": "code",
     "collapsed": false,
     "input": [
      "if l < N/N+1 :\n",
      "    resp2 = resp\n",
      "    resp = zeros(N,dtype=np.complex_)\n",
      "    resp[0] = 1j * resp2[0]\n",
      "    resp[1:] = resp2[1:]\n",
      "resp"
     ],
     "language": "python",
     "metadata": {},
     "outputs": [
      {
       "metadata": {},
       "output_type": "pyout",
       "prompt_number": 67,
       "text": [
        "array([ 0.00000000+0.19029743j,  0.02049844+0.j        ,\n",
        "        0.04098115+0.j        ,  0.06143453+0.j        ,\n",
        "        0.08184856+0.j        ,  0.10221727+0.j        ,\n",
        "        0.12253837+0.j        ,  0.14281237+0.j        ,\n",
        "        0.16304167+0.j        ,  0.18322974+0.j        ,\n",
        "        0.20338049+0.j        ,  0.22349789+0.j        ,\n",
        "        0.24358573+0.j        ,  0.26364750+0.j        ,\n",
        "        0.28368630+0.j        ,  0.30370492+0.j        ,\n",
        "        0.32370577+0.j        ,  0.34369097+0.j        ,\n",
        "        0.36366236+0.j        ,  0.38362152+0.j        ,\n",
        "        0.40356986+0.j        ,  0.42350857+0.j        ,\n",
        "        0.44343871+0.j        ,  0.46336119+0.j        ,\n",
        "        0.48327683+0.j        ,  0.50318633+0.j        ,\n",
        "        0.52309031+0.j        ,  0.54298933+0.j        ,\n",
        "        0.56288387+0.j        ,  0.58277437+0.j        ,\n",
        "        0.60266123+0.j        ,  0.62254478+0.j        ,\n",
        "        0.64242535+0.j        ,  0.66230322+0.j        ,\n",
        "        0.68217865+0.j        ,  0.70205186+0.j        ,\n",
        "        0.72192309+0.j        ,  0.74179251+0.j        ,\n",
        "        0.76166032+0.j        ,  0.78152668+0.j        ,\n",
        "        0.80139175+0.j        ,  0.82125567+0.j        ,\n",
        "        0.84111858+0.j        ,  0.86098062+0.j        ,\n",
        "        0.88084189+0.j        ,  0.90070253+0.j        ,\n",
        "        0.92056265+0.j        ,  0.94042235+0.j        ,\n",
        "        0.96028173+0.j        ,  0.98014092+0.j        ])"
       ]
      }
     ],
     "prompt_number": 67
    },
    {
     "cell_type": "code",
     "collapsed": false,
     "input": [
      "print sin(resp*pi*N)-l*sin(resp*pi*(N+1))"
     ],
     "language": "python",
     "metadata": {},
     "outputs": [
      {
       "output_type": "stream",
       "stream": "stdout",
       "text": [
        "[  0.00000000e+00+0.01171875j  -2.35922393e-16+0.j           0.00000000e+00+0.j\n",
        "   1.44328993e-15+0.j           3.88578059e-16+0.j          -1.05471187e-15+0.j\n",
        "  -1.49880108e-15+0.j          -1.55431223e-15+0.j          -6.66133815e-16+0.j\n",
        "  -1.60982339e-15+0.j           1.33226763e-15+0.j           1.44328993e-15+0.j\n",
        "  -6.66133815e-16+0.j           2.77555756e-15+0.j           5.10702591e-15+0.j\n",
        "   3.10862447e-15+0.j          -1.44328993e-15+0.j          -5.99520433e-15-0.j\n",
        "  -4.21884749e-15+0.j           4.99600361e-15-0.j           4.88498131e-15+0.j\n",
        "  -1.44328993e-15-0.j          -1.22124533e-15+0.j          -2.44249065e-15-0.j\n",
        "  -1.22124533e-15+0.j           8.88178420e-16-0.j          -3.27515792e-15+0.j\n",
        "   5.55111512e-17-0.j           1.19904087e-14+0.j           2.77555756e-16-0.j\n",
        "  -3.77475828e-15+0.j          -1.07136522e-14-0.j          -1.19904087e-14+0.j\n",
        "  -3.94129174e-15-0.j          -1.23789867e-14+0.j           2.94209102e-15-0.j\n",
        "   3.60822483e-15+0.j          -3.88578059e-16-0.j           6.66133815e-16+0.j\n",
        "   6.30051566e-15-0.j           1.17128529e-14+0.j           9.29811783e-15-0.j\n",
        "  -2.19269047e-15+0.j           7.10542736e-15-0.j           1.43773882e-14+0.j\n",
        "   1.00058850e-14-0.j           8.14626144e-15+0.j          -1.29757316e-14-0.j\n",
        "  -7.25808302e-15+0.j          -4.43048376e-15-0.j        ]\n"
       ]
      }
     ],
     "prompt_number": 68
    },
    {
     "cell_type": "code",
     "collapsed": false,
     "input": [
      "#The row vectors in psi are the eigenvectors of the matrix (A+B)(A-B)\n",
      "#psi = zeros((N,N))\n",
      "psi = zeros((N,N),dtype=np.complex_)\n",
      "\n",
      "for i in range(0,N):\n",
      "    psi[:,i] = sin(resp *pi* (i+1))\n",
      "    \n",
      "\n",
      "#phi is defined as phi(A+B) = Lambda_k psi   \n",
      "#phi = zeros((N,N))\n",
      "phi = zeros((N,N),dtype=np.complex_)\n",
      "\n",
      "for i in range(0,N):\n",
      "    #phi[:,i] = dot( transpose(a2b2), psi[:,i])/esp \n",
      "    phi[:,i] = 2*(-sin(resp *pi* (i)) + l*sin(resp *pi* (i+1)))/esp\n",
      "\n",
      "    \n",
      "#With phi and psi defined we can get the matrices g and h\n",
      "g = (phi + psi)/2\n",
      "h = (phi - psi)/2\n",
      "\n",
      "#Result and result2 probe that the conditions for the  bogoliuvov trans\n",
      "result = dot(g,conjugate(transpose(g))) + dot(h,conjugate(transpose(h))) \n",
      "result2 = dot(g,transpose(h)) + dot(h,transpose(g)) \n",
      "\n",
      "\n",
      "\n",
      "g[:,:] = g[:,:]/(result[1,1])**(1/2)\n",
      "h[:,:] = h[:,:]/(result[1,1])**(1/2)\n",
      "\n",
      "\n",
      "\n",
      "result = dot(g,conjugate(transpose(g))) + dot(h,conjugate(transpose(h))) \n",
      "result2 = dot(g,transpose(h)) + dot(h,transpose(g)) \n",
      "result\n",
      "\n",
      "\n"
     ],
     "language": "python",
     "metadata": {},
     "outputs": [
      {
       "metadata": {},
       "output_type": "pyout",
       "prompt_number": 69,
       "text": [
        "array([[  6.75669223e+23   +0.j        ,   0.00000000e+00 +688.09062195j,\n",
        "          0.00000000e+00-1327.14591599j, ...,\n",
        "          0.00000000e+00 +137.99602699j,   0.00000000e+00 -168.49607134j,\n",
        "          0.00000000e+00 +107.64043617j],\n",
        "       [  0.00000000e+00 -688.09062195j,   1.00000000e+00   +0.j        ,\n",
        "         -1.90468911e-16   +0.j        , ...,\n",
        "         -1.28613483e-17   +0.j        ,   3.59267331e-16   +0.j        ,\n",
        "         -7.51555393e-17   +0.j        ],\n",
        "       [  0.00000000e+00+1327.14591599j,  -1.90468911e-16   +0.j        ,\n",
        "          1.00112549e+00   +0.j        , ...,\n",
        "         -4.60521649e-16   +0.j        ,  -1.52330405e-17   +0.j        ,\n",
        "          1.03742901e-16   +0.j        ],\n",
        "       ..., \n",
        "       [  0.00000000e+00 -137.99602699j,  -1.28613483e-17   +0.j        ,\n",
        "         -4.60521649e-16   +0.j        , ...,\n",
        "          1.03190189e+00   +0.j        ,   3.59572940e-15   +0.j        ,\n",
        "          1.28490155e-15   +0.j        ],\n",
        "       [  0.00000000e+00 +168.49607134j,   3.59267331e-16   +0.j        ,\n",
        "         -1.52330405e-17   +0.j        , ...,\n",
        "          3.59572940e-15   +0.j        ,   1.03191524e+00   +0.j        ,\n",
        "         -4.55912435e-15   +0.j        ],\n",
        "       [  0.00000000e+00 -107.64043617j,  -7.51555393e-17   +0.j        ,\n",
        "          1.03742901e-16   +0.j        , ...,\n",
        "          1.28490155e-15   +0.j        ,  -4.55912435e-15   +0.j        ,\n",
        "          1.03192321e+00   +0.j        ]])"
       ]
      }
     ],
     "prompt_number": 69
    },
    {
     "cell_type": "code",
     "collapsed": false,
     "input": [
      "M = zeros((2*N,2*N),dtype=np.complex_)\n",
      "M[:N,:N] = g\n",
      "M[N:,:N] = conjugate(h)\n",
      "M[:N,N:] = h\n",
      "M[N:,N:] = conjugate(g)\n",
      "\n",
      "Minv =inv(M)\n",
      "\n",
      "gcon1 = Minv[:N,:N]\n",
      "hcon1 = Minv[N:,:N]\n",
      "h1 = Minv[:N,N:]\n",
      "g1 = Minv[N:,N:]"
     ],
     "language": "python",
     "metadata": {},
     "outputs": [],
     "prompt_number": 70
    },
    {
     "cell_type": "code",
     "collapsed": false,
     "input": [
      "i = 3\n",
      "number = 0\n",
      "correlation = []\n",
      "for k in range(0,len(g[0])):\n",
      "    dens = gcon1[k,i]*g1[k,i] - hcon1[k,i]*h1[k,i] + dot(conjugate(hcon1[k,:]), h1[k,:])\n",
      "    correlation.append(dens)\n",
      "    number = number + dens\n",
      "\n",
      "plot(linspace(0,len(g[0]),len(g[0])),correlation)\n",
      "abs(number)"
     ],
     "language": "python",
     "metadata": {},
     "outputs": [
      {
       "metadata": {},
       "output_type": "pyout",
       "prompt_number": 72,
       "text": [
        "15.839788304809273"
       ]
      },
      {
       "metadata": {},
       "output_type": "display_data",
       "png": "[encoded data removed]",
       "text": [
        "<matplotlib.figure.Figure at 0x7f4677a51650>"
       ]
      }
     ],
     "prompt_number": 72
    },
    {
     "cell_type": "code",
     "collapsed": false,
     "input": [
      "correlation"
     ],
     "language": "python",
     "metadata": {},
     "outputs": [
      {
       "metadata": {},
       "output_type": "pyout",
       "prompt_number": 55,
       "text": [
        "[(0.059713667452821043+0j),\n",
        " (0.27504644452507199+0j),\n",
        " (0.32889037524110171+0j),\n",
        " (0.34435839461022688+0j),\n",
        " (0.34891303971046367+0j),\n",
        " (0.35027485658101648+0j),\n",
        " (0.35069225466595594+0j),\n",
        " (0.35082029559666478+0j),\n",
        " (0.35085896852364301+0j),\n",
        " (0.35087151938072852+0j),\n",
        " (0.35087514575730749+0j),\n",
        " (0.35087625921195242+0j),\n",
        " (0.35087668614266648+0j),\n",
        " (0.35087677910486736+0j),\n",
        " (0.35087682673960263+0j),\n",
        " (0.35087681569908535+0j),\n",
        " (0.35087682912819496+0j),\n",
        " (0.35087683366147154+0j),\n",
        " (0.35087683206163167+0j),\n",
        " (0.35087683182685309+0j),\n",
        " (0.35087683220742816+0j),\n",
        " (0.350876832096087+0j),\n",
        " (0.35087683212984849+0j),\n",
        " (0.35087683216718496+0j),\n",
        " (0.35087683224472871+0j),\n",
        " (0.35087683226270205+0j),\n",
        " (0.35087683227728267+0j),\n",
        " (0.35087683219070648+0j),\n",
        " (0.35087683225036936+0j),\n",
        " (0.35087683242333362+0j),\n",
        " (0.3508768321089476+0j),\n",
        " (0.35087683134751224+0j),\n",
        " (0.35087683169211653+0j),\n",
        " (0.35087683027675909+0j),\n",
        " (0.35087682697694561+0j),\n",
        " (0.35087681326108511+0j),\n",
        " (0.35087677603395456+0j),\n",
        " (0.35087668335230765+0j),\n",
        " (0.35087636978853254+0j),\n",
        " (0.35087523630823053+0j),\n",
        " (0.35087158854975753+0j),\n",
        " (0.35086000388932542+0j),\n",
        " (0.35082140130377298+0j),\n",
        " (0.35069448630555061+0j),\n",
        " (0.35027858001291984+0j),\n",
        " (0.34890820223164931+0j),\n",
        " (0.34434039446818188+0j),\n",
        " (0.32892557920767934+0j),\n",
        " (0.27505348286865328+0j),\n",
        " (0.059686751960598791+0j)]"
       ]
      }
     ],
     "prompt_number": 55
    },
    {
     "cell_type": "code",
     "collapsed": false,
     "input": [
      "dot(conjugate(h[:,0]), h[:,0])\n",
      "#abs(h[0,0])**(2)\n",
      "#dot(conjugate(h[:,0]), h[:,0])- abs(h[0,0])**(2)\n",
      "#g[0,-1]**(2)\n",
      "#g[0,0]**2 - h[0,0]**2 + dot(h[:,0], h[:,0])"
     ],
     "language": "python",
     "metadata": {},
     "outputs": [
      {
       "metadata": {},
       "output_type": "pyout",
       "prompt_number": 56,
       "text": [
        "(2806308890527.5215+0j)"
       ]
      }
     ],
     "prompt_number": 56
    },
    {
     "cell_type": "code",
     "collapsed": false,
     "input": [
      "i = 0\n",
      "number = 0\n",
      "correlation = []\n",
      "for k in range(0,len(g[0])):\n",
      "    dens = abs(g[i,k])**2 -abs(h[i,k])**2 + dot(conjugate(h[:,k]),h[:,k])\n",
      "    \n",
      "    correlation.append(dens)\n",
      "    \n",
      "    number = number + dens\n",
      "\n",
      "plot(linspace(0,len(g[0]),len(g[0])),correlation)\n",
      "abs(number)\n",
      "\n",
      "plt.xlabel('Position in the chain')\n",
      "plt.ylabel('Density of States')\n",
      "plt.title('(c) '+ 'State '+repr(i)+ '. Approximate number of particles: ' +repr(round(number, 2)) )"
     ],
     "language": "python",
     "metadata": {},
     "outputs": [
      {
       "output_type": "stream",
       "stream": "stderr",
       "text": [
        "-c:16: ComplexWarning: Casting complex values to real discards the imaginary part\n"
       ]
      },
      {
       "metadata": {},
       "output_type": "pyout",
       "prompt_number": 57,
       "text": [
        "<matplotlib.text.Text at 0x7f467851ac50>"
       ]
      },
      {
       "metadata": {},
       "output_type": "display_data",
       "png": "[encoded data removed]",
       "text": [
        "<matplotlib.figure.Figure at 0x7f4678784910>"
       ]
      }
     ],
     "prompt_number": 57
    },
    {
     "cell_type": "code",
     "collapsed": false,
     "input": [
      "N = 50\n",
      "vec1 = zeros(N)\n",
      "vec2 = zeros(N)\n",
      "vec1[1] = 1\n",
      "vec2 = -vec1\n",
      "from scipy.linalg import toeplitz\n",
      "B = toeplitz(vec1, vec2)\n",
      "A = toeplitz(vec2, vec2) + 2*l*identity(N)\n",
      "matrix = dot((A+B),(A-B))\n",
      "eigen = eig(matrix)\n",
      "eigen[0]\n"
     ],
     "language": "python",
     "metadata": {},
     "outputs": [
      {
       "metadata": {},
       "output_type": "pyout",
       "prompt_number": 58,
       "text": [
        "array([  9.60143949e+00,   9.57579108e+00,   9.53315405e+00,\n",
        "         9.47369343e+00,   9.39763938e+00,   9.30528627e+00,\n",
        "         9.19699159e+00,   9.07317452e+00,   8.93431435e+00,\n",
        "         8.78094860e+00,   8.61367096e+00,   8.43312902e+00,\n",
        "         8.24002171e+00,   8.03509666e+00,   7.81914730e+00,\n",
        "         7.59300979e+00,   7.35755979e+00,   7.11370912e+00,\n",
        "         6.86240224e+00,   6.60461256e+00,   6.34133879e+00,\n",
        "         6.07360104e+00,   5.80243695e+00,   5.52889766e+00,\n",
        "         5.25404389e+00,   4.97894182e+00,   4.70465909e+00,\n",
        "         4.43226075e+00,   4.16280531e+00,   3.89734075e+00,\n",
        "         3.63690072e+00,   3.38250078e+00,   3.13513479e+00,\n",
        "         2.89577153e+00,   2.66535144e+00,   2.44478376e+00,\n",
        "         2.23494381e+00,   2.03667083e+00,   1.85076613e+00,\n",
        "         1.67799178e+00,   1.51906977e+00,   1.37468168e+00,\n",
        "         1.24546847e+00,   1.13203011e+00,   1.03492395e+00,\n",
        "         9.54660601e-01,   8.19120402e-01,   8.46415873e-01,\n",
        "         8.91695650e-01,   2.11662179e-17])"
       ]
      }
     ],
     "prompt_number": 58
    },
    {
     "cell_type": "code",
     "collapsed": false,
     "input": [
      "diag(eigen[0]**(-0.5))"
     ],
     "language": "python",
     "metadata": {},
     "outputs": [
      {
       "metadata": {},
       "output_type": "pyout",
       "prompt_number": 138,
       "text": [
        "array([[ 0.16673789,  0.        ,  0.        , ...,  0.        ,\n",
        "         0.        ,  0.        ],\n",
        "       [ 0.        ,  0.16695182,  0.        , ...,  0.        ,\n",
        "         0.        ,  0.        ],\n",
        "       [ 0.        ,  0.        ,  0.16730928, ...,  0.        ,\n",
        "         0.        ,  0.        ],\n",
        "       ..., \n",
        "       [ 0.        ,  0.        ,  0.        , ...,  0.3380725 ,\n",
        "         0.        ,  0.        ],\n",
        "       [ 0.        ,  0.        ,  0.        , ...,  0.        ,\n",
        "         0.31267336,  0.        ],\n",
        "       [ 0.        ,  0.        ,  0.        , ...,  0.        ,\n",
        "         0.        ,  0.32497663]])"
       ]
      }
     ],
     "prompt_number": 138
    },
    {
     "cell_type": "code",
     "collapsed": false,
     "input": [
      "psi = transpose(eigen[1])\n",
      "phi = dot(diag(eigen[0]**(-0.5)),dot( psi, A-B))\n",
      "#phi = dot(dot( psi, A-B),diag(eigen[0]**(-1))) \n",
      "phi = dot(diag(eigen[0]**(-1)),dot( A-B, psi))\n",
      "    \n",
      "#With phi and psi defined we can get the matrices g and h\n",
      "g = (phi + psi)/2\n",
      "h = (phi - psi)/2\n",
      "\n",
      "#Result and result2 probe that the conditions for the  bogoliuvov trans\n",
      "result = dot(g,conjugate(transpose(g))) + dot(h,conjugate(transpose(h))) \n",
      "result2 = dot(g,transpose(h)) + dot(h,transpose(g)) \n",
      "\n",
      "result[:,:]/result[0,0]\n",
      "#result"
     ],
     "language": "python",
     "metadata": {},
     "outputs": [
      {
       "metadata": {},
       "output_type": "pyout",
       "prompt_number": 150,
       "text": [
        "array([[  1.00000000e+00,  -6.12354596e-03,   1.74865062e-14, ...,\n",
        "          1.63588813e-16,  -1.91915648e-16,  -3.46401319e-16],\n",
        "       [ -6.12354596e-03,   1.00313245e+00,  -6.16558743e-03, ...,\n",
        "          1.32477487e-16,   2.14191571e-17,  -1.52290207e-16],\n",
        "       [  1.74865062e-14,  -6.16558743e-03,   1.00326432e+00, ...,\n",
        "         -3.91863480e-16,   2.98583050e-16,   1.44793502e-16],\n",
        "       ..., \n",
        "       [  1.63588813e-16,   1.32477487e-16,  -3.91863480e-16, ...,\n",
        "          1.24585070e+00,  -8.82985460e-02,  -1.77950357e-15],\n",
        "       [ -1.91915648e-16,   2.14191571e-17,   2.98583050e-16, ...,\n",
        "         -8.82985460e-02,   1.17660759e+00,  -8.15902216e-02],\n",
        "       [ -3.46401319e-16,  -1.52290207e-16,   1.44793502e-16, ...,\n",
        "         -1.77950357e-15,  -8.15902216e-02,   1.20812797e+00]])"
       ]
      }
     ],
     "prompt_number": 150
    },
    {
     "cell_type": "code",
     "collapsed": false,
     "input": [
      "i = -1\n",
      "number = 0\n",
      "correlation = []\n",
      "for k in range(0,len(g[0])):\n",
      "    dens = abs(g[i,k])**2 -abs(h[i,k])**2 + dot(conjugate(h[:,k]),h[:,k])\n",
      "    \n",
      "    correlation.append(dens)\n",
      "    \n",
      "    number = number + dens\n",
      "\n",
      "plot(linspace(0,len(g[0]),len(g[0])),correlation)\n",
      "abs(number)\n",
      "\n",
      "plt.xlabel('Position in the chain')\n",
      "plt.ylabel('Density of States')\n",
      "plt.title('(c) '+ 'State '+repr(i)+ '. Approximate number of particles: ' +repr(round(number, 2)) )"
     ],
     "language": "python",
     "metadata": {},
     "outputs": [
      {
       "metadata": {},
       "output_type": "pyout",
       "prompt_number": 151,
       "text": [
        "<matplotlib.text.Text at 0x7f61ad159c90>"
       ]
      },
      {
       "metadata": {},
       "output_type": "display_data",
       "png": "[encoded data removed]",
       "text": [
        "<matplotlib.figure.Figure at 0x7f61ad4e2210>"
       ]
      }
     ],
     "prompt_number": 151
    },
    {
     "cell_type": "code",
     "collapsed": false,
     "input": [],
     "language": "python",
     "metadata": {},
     "outputs": [],
     "prompt_number": 139
    },
    {
     "cell_type": "code",
     "collapsed": false,
     "input": [],
     "language": "python",
     "metadata": {},
     "outputs": [],
     "prompt_number": 139
    },
    {
     "cell_type": "code",
     "collapsed": false,
     "input": [
      "h[0]/(result[0,0]**(1/2))"
     ],
     "language": "python",
     "metadata": {},
     "outputs": [
      {
       "metadata": {},
       "output_type": "pyout",
       "prompt_number": 140,
       "text": [
        "array([ 0.00863998,  0.01389786, -0.02482759, -0.02806201,  0.04063251,\n",
        "        0.04179361, -0.04843073,  0.05488107, -0.06111976,  0.07689681,\n",
        "        0.08336749,  0.07833022, -0.09532093, -0.08833101,  0.10580619,\n",
        "        0.09697144, -0.10073923,  0.11843597,  0.12175361,  0.12460256,\n",
        "        0.126972  ,  0.11352331, -0.13023859, -0.11563779,  0.11603021,\n",
        "       -0.11597723,  0.13075436,  0.11453896, -0.12800161, -0.11134854,\n",
        "        0.12329364,  0.10645956, -0.1167089 , -0.11274573, -0.10177929,\n",
        "        0.00831212,  0.01614006,  0.02025133, -0.03164142, -0.03926592,\n",
        "       -0.0467705 , -0.05412644, -0.0613042 , -0.06827402, -0.06545568,\n",
        "        0.07119298, -0.08764549, -0.08157166,  0.1035602 ,  0.09289057])"
       ]
      }
     ],
     "prompt_number": 140
    },
    {
     "cell_type": "code",
     "collapsed": false,
     "input": [
      "dot(phi,transpose(phi))"
     ],
     "language": "python",
     "metadata": {},
     "outputs": [
      {
       "metadata": {},
       "output_type": "pyout",
       "prompt_number": 141,
       "text": [
        "array([[ 0.01475694, -0.0009434 , -0.00060792, ...,  0.00116042,\n",
        "         0.00032969,  0.00119808],\n",
        "       [-0.0009434 ,  0.01421613, -0.00269143, ..., -0.00080167,\n",
        "         0.00096573,  0.00271514],\n",
        "       [-0.00060792, -0.00269143,  0.01543407, ..., -0.00068879,\n",
        "         0.00184171,  0.00092025],\n",
        "       ..., \n",
        "       [ 0.00116042, -0.00080167, -0.00068879, ...,  0.27083279,\n",
        "         0.03376264,  0.02076835],\n",
        "       [ 0.00032969,  0.00096573,  0.00184171, ...,  0.03376264,\n",
        "         0.22308451,  0.03102654],\n",
        "       [ 0.00119808,  0.00271514,  0.00092025, ...,  0.02076835,\n",
        "         0.03102654,  0.25777318]])"
       ]
      }
     ],
     "prompt_number": 141
    },
    {
     "cell_type": "code",
     "collapsed": false,
     "input": [
      "dot(psi,transpose(psi))"
     ],
     "language": "python",
     "metadata": {},
     "outputs": [
      {
       "metadata": {},
       "output_type": "pyout",
       "prompt_number": 142,
       "text": [
        "array([[  1.00000000e+00,  -7.18869408e-15,   5.98132655e-15, ...,\n",
        "          1.28803218e-16,   2.60208521e-16,  -1.17961196e-16],\n",
        "       [ -7.18869408e-15,   1.00000000e+00,  -2.37657116e-15, ...,\n",
        "          2.72785267e-16,   2.60208521e-16,   1.17961196e-16],\n",
        "       [  5.98132655e-15,  -2.37657116e-15,   1.00000000e+00, ...,\n",
        "          4.71194264e-16,   4.37150316e-16,   5.89805982e-17],\n",
        "       ..., \n",
        "       [  1.28803218e-16,   2.72785267e-16,   4.71194264e-16, ...,\n",
        "          1.00000000e+00,   6.18038606e-15,  -5.10355647e-15],\n",
        "       [  2.60208521e-16,   2.60208521e-16,   4.37150316e-16, ...,\n",
        "          6.18038606e-15,   1.00000000e+00,   4.70457007e-15],\n",
        "       [ -1.17961196e-16,   1.17961196e-16,   5.89805982e-17, ...,\n",
        "         -5.10355647e-15,   4.70457007e-15,   1.00000000e+00]])"
       ]
      }
     ],
     "prompt_number": 142
    },
    {
     "cell_type": "code",
     "collapsed": false,
     "input": [
      "transpose(g)"
     ],
     "language": "python",
     "metadata": {},
     "outputs": [
      {
       "metadata": {},
       "output_type": "pyout",
       "prompt_number": 109,
       "text": [
        "array([[-0.02618313,  0.05317909, -0.07918056,  0.10371513, -0.12634883,\n",
        "         0.14669727, -0.16443513,  0.17930369, -0.19111514,  0.1997523 ,\n",
        "        -0.20516076,  0.20732858, -0.20624425,  0.20181756, -0.29482856,\n",
        "         0.23916073, -0.17956768,  0.12350514, -0.07372948,  0.03024199],\n",
        "       [-0.05175704,  0.10156221, -0.14246985,  0.17087515, -0.1842223 ,\n",
        "         0.18120423, -0.16184996,  0.12749338, -0.08062851,  0.02466932,\n",
        "         0.03635571, -0.09813084,  0.15634381, -0.20686382,  0.36850954,\n",
        "        -0.35200814,  0.29811489, -0.22350875,  0.14129396, -0.05980108],\n",
        "       [-0.0761269 ,  0.14079542, -0.17721051,  0.17792794, -0.14249504,\n",
        "         0.07753663,  0.0045198 , -0.08781303,  0.15603271, -0.19543012,\n",
        "         0.19727864, -0.15934591,  0.08618067,  0.01167864, -0.16857219,\n",
        "         0.28061288, -0.31617675,  0.28129523, -0.19712647,  0.0880214 ],\n",
        "       [ 0.09872636, -0.16736759,  0.17654852, -0.12266812,  0.02425676,\n",
        "         0.08439658, -0.16505108,  0.18867526, -0.14546682,  0.04837747,\n",
        "         0.07093713, -0.17224341,  0.21947807, -0.19204004,  0.15103235,\n",
        "         0.06581336, -0.22946309,  0.28667022, -0.23678682,  0.11429948],\n",
        "       [ 0.11903093, -0.1789329 ,  0.14081112, -0.02494153, -0.10600347,\n",
        "         0.18061943, -0.15722379,  0.046566  ,  0.09327404, -0.18708974,\n",
        "         0.18199788, -0.075685  , -0.08085671,  0.20718005, -0.35054183,\n",
        "         0.17669963,  0.06965786, -0.23984449,  0.25736086, -0.13810639],\n",
        "       [-0.13657046,  0.17452487, -0.07741209, -0.08051895,  0.17775795,\n",
        "        -0.13842146, -0.00925198,  0.15333528, -0.18240605,  0.07030919,\n",
        "         0.10208638, -0.20476408,  0.15406512,  0.02313131, -0.28713742,\n",
        "         0.32023778, -0.10760451, -0.15110147,  0.25768763, -0.15900514],\n",
        "       [-0.15094041,  0.15464202,  0.00069228, -0.15652812,  0.15286165,\n",
        "         0.00841204, -0.16401429,  0.1538991 ,  0.01566886, -0.17527067,\n",
        "         0.16027438,  0.02246707, -0.19493413,  0.17817351,  0.018184  ,\n",
        "        -0.29473275,  0.24282525,  0.03839594, -0.23839433,  0.17666192],\n",
        "       [ 0.16181166, -0.12119722, -0.07767457,  0.17667321, -0.04598272,\n",
        "        -0.14662729,  0.15085068,  0.04241773, -0.18553386,  0.0899215 ,\n",
        "         0.1283782 , -0.18919279,  0.00326099,  0.20326711, -0.25037805,\n",
        "        -0.12119282,  0.29323248, -0.07650886, -0.20174458,  0.19084998],\n",
        "       [-0.16893862,  0.07733541,  0.13808085, -0.13458737, -0.0839797 ,\n",
        "         0.17115526,  0.01415163, -0.18078011,  0.06176394,  0.16061152,\n",
        "        -0.13352024, -0.11092997,  0.19158301,  0.03379425, -0.32399753,\n",
        "         0.10399044,  0.24650105, -0.17246118, -0.15132977,  0.20144482],\n",
        "       [ 0.17216566, -0.0271365 , -0.16997748,  0.04598102,  0.16649096,\n",
        "        -0.06528705, -0.16173512,  0.085399  ,  0.15578575, -0.10703216,\n",
        "        -0.14873841,  0.13160114,  0.14061947, -0.16177439, -0.16162455,\n",
        "         0.26356525,  0.12316473, -0.23292714, -0.09165362,  0.20840944],\n",
        "       [ 0.17143172,  0.02476907, -0.16735107, -0.0572295 ,  0.15786198,\n",
        "         0.08808705, -0.14353352, -0.11688259,  0.12513796,  0.14364246,\n",
        "        -0.103596  , -0.16924577,  0.07980047,  0.19601764, -0.10461901,\n",
        "        -0.28121052,  0.03231573,  0.24878323,  0.02767348, -0.21176819],\n",
        "       [-0.16677308, -0.07363658,  0.13126878,  0.13850375, -0.0644796 ,\n",
        "        -0.17162905, -0.01854585,  0.16568758,  0.09978081, -0.12184991,\n",
        "        -0.16257275,  0.04853897,  0.19531186,  0.04219759, -0.27756637,\n",
        "        -0.15759803,  0.16781276,  0.21944555, -0.03563285, -0.21156721],\n",
        "       [ 0.1583247 ,  0.11505495, -0.06956465, -0.16973532, -0.0616701 ,\n",
        "         0.12363515,  0.1584722 , -0.00272775, -0.16397598, -0.12449061,\n",
        "         0.07283506,  0.18634651,  0.06813837, -0.14590315, -0.24141509,\n",
        "         0.03572065,  0.24093134,  0.15231851, -0.09361037, -0.20781896],\n",
        "       [-0.14632007, -0.14536507, -0.00487597,  0.14105952,  0.15219948,\n",
        "         0.01652728, -0.13683999, -0.15984102, -0.0276373 ,  0.13490675,\n",
        "         0.16992453,  0.03815856, -0.1382839 , -0.18651283, -0.03748731,\n",
        "         0.19745952,  0.23171579,  0.06093871, -0.14212959, -0.20042879],\n",
        "       [ 0.02390434,  0.04617576,  0.06759142,  0.08775166,  0.1062832 ,\n",
        "         0.12284711,  0.13714607,  0.1489304 ,  0.15800265,  0.16422025,\n",
        "         0.16749516,  0.16778898,  0.1651008 ,  0.15944282,  0.18278655,\n",
        "         0.15726738,  0.12909597,  0.10073677,  0.07319918,  0.04666784],\n",
        "       [-0.04760066, -0.08903347, -0.12334917, -0.14777259, -0.16029916,\n",
        "        -0.15985056, -0.14635554, -0.12074985, -0.08489597, -0.04143041,\n",
        "         0.00644623,  0.05521463,  0.10128865,  0.14123761,  0.21631385,\n",
        "         0.21981883,  0.20403667,  0.17421016,  0.13471877,  0.08890597],\n",
        "       [ 0.07072419,  0.12508333,  0.15667736,  0.15964957,  0.13328965,\n",
        "         0.08218295,  0.01541417, -0.05502981, -0.1163695 , -0.15727624,\n",
        "        -0.16985119, -0.15099741, -0.10296577, -0.03302647,  0.073266  ,\n",
        "         0.15196641,  0.19630574,  0.20343872,  0.17701424,  0.12414846],\n",
        "       [-0.09274455, -0.15092157, -0.1602465 , -0.11747016, -0.03613934,\n",
        "         0.05765037,  0.13353878,  0.16659785,  0.14536656,  0.07567939,\n",
        "        -0.02092069, -0.11368675, -0.17206951, -0.17515387, -0.13550492,\n",
        "        -0.00690107,  0.11151534,  0.1847901 ,  0.19753012,  0.1519878 ],\n",
        "       [ 0.11306045,  0.16377885,  0.13213249,  0.03364322, -0.08250152,\n",
        "        -0.15783986, -0.15384447, -0.07144888,  0.04888635,  0.14677427,\n",
        "         0.1716868 ,  0.10840623, -0.01431613, -0.13629152, -0.24976888,\n",
        "        -0.16982523, -0.01809921,  0.12507748,  0.19700361,  0.17326372],\n",
        "       [-0.13109011, -0.16200956, -0.07686863,  0.06391371,  0.15968662,\n",
        "         0.14119167,  0.02042769, -0.11693193, -0.17180111, -0.1024738 ,\n",
        "         0.04412198,  0.16354537,  0.16674068,  0.04467699, -0.17749845,\n",
        "        -0.24871096, -0.14726806,  0.03756643,  0.17762593,  0.18910457]])"
       ]
      }
     ],
     "prompt_number": 109
    },
    {
     "cell_type": "code",
     "collapsed": false,
     "input": [
      "phi"
     ],
     "language": "python",
     "metadata": {},
     "outputs": [
      {
       "metadata": {},
       "output_type": "pyout",
       "prompt_number": 110,
       "text": [
        "array([[ -5.26089146e-03,  -1.03993748e-02,  -1.52959340e-02,\n",
        "          1.98367709e-02,   2.39165018e-02,  -2.74406629e-02,\n",
        "         -3.03279720e-02,   3.25122963e-02,  -3.39442928e-02,\n",
        "          3.45926926e-02,   3.44452234e-02,  -3.35091795e-02,\n",
        "          3.18116730e-02,  -2.93996218e-02,   4.80302238e-03,\n",
        "         -9.56424813e-03,   1.42103836e-02,  -1.86348635e-02,\n",
        "          2.27168721e-02,  -2.63395143e-02],\n",
        "       [  1.32338236e-02,   2.54347080e-02,   3.56610828e-02,\n",
        "         -4.31457054e-02,  -4.73625854e-02,   4.80717320e-02,\n",
        "          4.53376419e-02,  -3.95198793e-02,   3.12366814e-02,\n",
        "         -2.13050146e-02,  -1.06626745e-02,   2.79663375e-04,\n",
        "          8.93295366e-03,  -1.62082852e-02,   7.21724901e-03,\n",
        "         -1.37775509e-02,   1.90033307e-02,  -2.22497132e-02,\n",
        "          2.30075801e-02,  -2.09949711e-02],\n",
        "       [ -2.13654958e-02,  -3.89711301e-02,  -4.97727011e-02,\n",
        "          5.20149246e-02,   4.55488771e-02,  -3.18322389e-02,\n",
        "         -1.36152933e-02,  -5.62090154e-03,   2.23581980e-02,\n",
        "         -3.37253873e-02,  -3.80346562e-02,   3.50644110e-02,\n",
        "         -2.60358094e-02,   1.32942079e-02,   9.65620099e-03,\n",
        "         -1.71565189e-02,   2.06200054e-02,  -1.88395648e-02,\n",
        "          1.16761739e-02,  -2.32000679e-04],\n",
        "       [  2.97228346e-02,   5.00609778e-02,   5.47408997e-02,\n",
        "         -4.26437054e-02,  -1.80882299e-02,  -1.07226078e-02,\n",
        "         -3.45301513e-02,   4.61266269e-02,  -4.26651615e-02,\n",
        "          2.63995541e-02,   3.64896991e-03,   1.75874635e-02,\n",
        "         -3.04764201e-02,   3.16309824e-02,   1.21442976e-02,\n",
        "         -1.94729141e-02,   1.86281240e-02,  -9.06067434e-03,\n",
        "         -6.35630876e-03,   2.20372619e-02],\n",
        "       [ -3.83768635e-02,  -5.77857690e-02,  -4.89383171e-02,\n",
        "          1.68383112e-02,  -2.20349522e-02,   4.83906705e-02,\n",
        "          4.99988630e-02,  -2.75929536e-02,  -6.14663372e-03,\n",
        "          3.37306795e-02,   4.21102143e-02,  -2.90641888e-02,\n",
        "          3.50080458e-03,   2.01299259e-02,   1.47065069e-02,\n",
        "         -2.05127688e-02,   1.30612036e-02,   4.56870377e-03,\n",
        "         -2.26770796e-02,   2.99416041e-02],\n",
        "       [  4.74031696e-02,   6.12710371e-02,   3.23195757e-02,\n",
        "          1.81013342e-02,   5.39913553e-02,  -5.09358024e-02,\n",
        "         -1.31406702e-02,  -3.08958039e-02,   5.00850722e-02,\n",
        "         -3.31598837e-02,   4.65886438e-03,  -3.47114732e-02,\n",
        "          3.67683109e-02,  -1.29089301e-02,   1.73686339e-02,\n",
        "         -2.00780033e-02,   4.45053679e-03,   1.81923246e-02,\n",
        "         -2.89370262e-02,   1.62920882e-02],\n",
        "       [ -5.68815697e-02,  -5.97016539e-02,  -6.58829295e-03,\n",
        "         -5.10384176e-02,  -5.89215293e-02,   1.18894579e-02,\n",
        "         -4.31787391e-02,   5.44916845e-02,  -1.48300342e-02,\n",
        "         -3.45876004e-02,  -4.69317331e-02,   1.47510005e-02,\n",
        "          2.66482875e-02,  -3.73442265e-02,   2.01573260e-02,\n",
        "         -1.79884074e-02,  -6.18447619e-03,   2.75080509e-02,\n",
        "         -2.06845486e-02,  -1.16050463e-02],\n",
        "       [  6.68941624e-02,   5.23392769e-02,  -2.48099917e-02,\n",
        "          6.99075885e-02,   2.98757307e-02,   4.35320778e-02,\n",
        "          6.08920203e-02,  -5.24350180e-03,  -5.18173503e-02,\n",
        "          4.26356589e-02,  -1.53774237e-02,   4.83238298e-02,\n",
        "         -2.03689126e-02,  -2.72544980e-02,   2.30995561e-02,\n",
        "         -1.40845627e-02,  -1.73883682e-02,   2.88635182e-02,\n",
        "          8.17505388e-05,  -3.51773448e-02],\n",
        "       [ -7.75202345e-02,  -3.85454018e-02,   5.68789574e-02,\n",
        "         -6.52729083e-02,   2.27413907e-02,  -7.28660326e-02,\n",
        "         -1.35220256e-02,  -6.10822329e-02,   4.08674785e-02,\n",
        "          3.63302109e-02,   5.27681756e-02,   8.51935798e-03,\n",
        "         -4.92361366e-02,   1.33493675e-02,   2.62211142e-02,\n",
        "         -8.23287509e-03,  -2.73629841e-02,   2.03408743e-02,\n",
        "          2.48467923e-02,  -3.58558626e-02],\n",
        "       [  8.88251432e-02,   1.78169414e-02,  -8.34482201e-02,\n",
        "          3.37340230e-02,  -7.34092907e-02,   4.61286204e-02,\n",
        "         -6.00319722e-02,   5.38938368e-02,   4.50504440e-02,\n",
        "         -5.66058233e-02,   3.03452136e-02,  -5.45996635e-02,\n",
        "         -1.76445328e-02,   4.89508347e-02,   2.95432271e-02,\n",
        "         -3.34996172e-04,  -3.41008681e-02,   2.60147818e-03,\n",
        "          4.13794802e-02,  -8.22073878e-03],\n",
        "       [ -1.00837788e-01,   1.01523120e-02,   9.77363366e-02,\n",
        "          1.96740405e-02,   9.16962749e-02,   2.79748010e-02,\n",
        "          8.30366056e-02,   3.45445799e-02,  -7.22200596e-02,\n",
        "         -3.89951064e-02,  -5.98368709e-02,  -4.11071703e-02,\n",
        "          4.65875884e-02,   4.08972275e-02,   3.30756486e-02,\n",
        "          9.65402376e-03,  -3.55597569e-02,  -2.07180025e-02,\n",
        "          3.87351067e-02,   3.32656274e-02],\n",
        "       [  1.13506691e-01,  -4.53591447e-02,  -9.31143761e-02,\n",
        "         -8.08516148e-02,  -5.73155444e-02,  -9.91993436e-02,\n",
        "         -1.47160144e-02,  -9.75775439e-02,  -2.48083946e-02,\n",
        "          7.82314658e-02,  -5.27892693e-02,   4.76627445e-02,\n",
        "          6.44185967e-02,  -1.45838197e-02,   3.68031490e-02,\n",
        "          2.16907069e-02,  -2.98864592e-02,  -4.32202924e-02,\n",
        "          1.28563809e-02,   5.97239938e-02],\n",
        "       [ -1.26616624e-01,   8.72811234e-02,   6.41219389e-02,\n",
        "          1.28350379e-01,  -2.57895829e-02,   1.04181465e-01,\n",
        "         -9.43767984e-02,   3.30393759e-02,   1.08318447e-01,\n",
        "          4.24451680e-02,   6.80126586e-02,   8.22838709e-02,\n",
        "         -4.01630166e-03,  -7.24125242e-02,   4.06598439e-02,\n",
        "          3.55763746e-02,  -1.57133836e-02,  -5.66814913e-02,\n",
        "         -2.93704474e-02,   4.49287429e-02],\n",
        "       [  1.39634834e-01,  -1.34489540e-01,  -7.85900537e-03,\n",
        "         -1.37798458e-01,   1.23220856e-01,  -1.42329220e-02,\n",
        "          1.28782716e-01,   1.07246281e-01,  -1.78411170e-02,\n",
        "         -1.13161211e-01,   8.84556973e-02,  -1.78256500e-02,\n",
        "         -9.24696237e-02,  -6.92202439e-02,   4.44818383e-02,\n",
        "          5.08329268e-02,   7.42309703e-03,  -5.27756086e-02,\n",
        "         -6.97322439e-02,  -1.40312404e-02],\n",
        "       [ -3.53616978e-01,   4.29558657e-01,  -1.72851145e-01,\n",
        "          2.08353597e-01,  -4.14865874e-01,  -2.96220198e-01,\n",
        "         -3.79334612e-02,  -3.18700469e-01,  -3.38452542e-01,\n",
        "         -1.06848596e-01,  -1.76906093e-01,  -2.97063279e-01,\n",
        "         -1.87751919e-01,   3.76952841e-02,   1.11903445e-01,\n",
        "          1.55237369e-01,   8.98035525e-02,  -5.99002875e-02,\n",
        "         -1.95077768e-01,  -1.99280630e-01],\n",
        "       [  2.75685189e-01,  -3.96531168e-01,   2.97427277e-01,\n",
        "          3.91892116e-02,   2.29532804e-01,   3.60359608e-01,\n",
        "         -2.89681004e-01,  -6.99718315e-02,   1.67698185e-01,\n",
        "          2.93709679e-01,  -2.52530513e-01,  -8.60612895e-02,\n",
        "          1.01233371e-01,   2.08612073e-01,   8.67725740e-02,\n",
        "          1.39123951e-01,   1.27393749e-01,   4.24167084e-02,\n",
        "         -8.66433797e-02,  -1.93961874e-01],\n",
        "       [ -1.94576311e-01,   3.16919839e-01,  -3.22954387e-01,\n",
        "         -2.13461809e-01,   3.26999388e-02,  -1.50127089e-01,\n",
        "          2.68564711e-01,   2.84254568e-01,   1.99819305e-01,\n",
        "          5.47738189e-02,   9.27877128e-02,   1.90240438e-01,\n",
        "          2.09918000e-01,   1.56470408e-01,   6.09822113e-02,\n",
        "          1.08946899e-01,   1.28607412e-01,   1.06125624e-01,\n",
        "          3.81607157e-02,  -6.03463414e-02],\n",
        "       [  1.24323623e-01,  -2.21498646e-01,   2.70813400e-01,\n",
        "          2.62802762e-01,  -2.01233379e-01,  -1.01811085e-01,\n",
        "         -1.19876158e-02,  -1.14821844e-01,  -1.85571396e-01,\n",
        "         -2.12044632e-01,   1.93171809e-01,   1.38258551e-01,\n",
        "          6.36794776e-02,  -1.19317994e-02,   3.88381445e-02,\n",
        "          7.50786536e-02,   1.03779419e-01,   1.17466493e-01,\n",
        "          1.08483377e-01,   7.25757380e-02],\n",
        "       [ -6.94741781e-02,   1.31542771e-01,  -1.79719703e-01,\n",
        "         -2.09232931e-01,   2.17586719e-01,   2.04817209e-01,\n",
        "         -1.73410176e-01,  -1.27897371e-01,  -7.41928375e-02,\n",
        "         -1.87666123e-02,  -3.22247370e-02,  -7.37263285e-02,\n",
        "         -1.02379963e-01,  -1.16841709e-01,   2.16541023e-02,\n",
        "          4.41750823e-02,   6.73704074e-02,   8.95047164e-02,\n",
        "          1.07527888e-01,   1.17776504e-01],\n",
        "       [  2.89996223e-02,  -5.68832942e-02,   8.25911358e-02,\n",
        "          1.05172454e-01,  -1.23833105e-01,  -1.37974584e-01,\n",
        "          1.47222788e-01,   1.51444846e-01,   1.50753101e-01,\n",
        "          1.45495838e-01,  -1.36235053e-01,  -1.23711965e-01,\n",
        "         -1.08801392e-01,  -9.24560917e-02,   9.02657997e-03,\n",
        "          1.90016595e-02,   3.06005235e-02,   4.40776058e-02,\n",
        "          5.92630086e-02,   7.56418283e-02]])"
       ]
      }
     ],
     "prompt_number": 110
    },
    {
     "cell_type": "code",
     "collapsed": false,
     "input": [
      "psi"
     ],
     "language": "python",
     "metadata": {},
     "outputs": [
      {
       "metadata": {},
       "output_type": "pyout",
       "prompt_number": 111,
       "text": [
        "array([[-0.04710536, -0.0931147 , -0.13695787,  0.17761596,  0.21414536,\n",
        "        -0.24570025, -0.27155286,  0.29111102, -0.30393294,  0.30973863,\n",
        "         0.30841821, -0.30003699,  0.28483773, -0.26324053,  0.04300566,\n",
        "        -0.08563708,  0.12723799, -0.16685423,  0.20340402, -0.23584071],\n",
        "       [ 0.09312435,  0.17768972,  0.24592975, -0.29158947, -0.31050322,\n",
        "         0.30097801,  0.26394639, -0.20287456,  0.12343415, -0.03296799,\n",
        "         0.06020081, -0.14755282,  0.22117694, -0.27452186,  0.08513426,\n",
        "        -0.16428938,  0.23116333, -0.27959343,  0.30455012, -0.30302414],\n",
        "       [-0.13699563, -0.24596858, -0.30464831,  0.30108211,  0.23607336,\n",
        "        -0.12299193,  0.01499986, -0.14972824,  0.2538035 , -0.30622958,\n",
        "        -0.29666748,  0.22747315, -0.11309349, -0.02304614,  0.12552664,\n",
        "        -0.22954183,  0.29273472, -0.30165344,  0.2525888 , -0.15350526],\n",
        "       [ 0.17770742,  0.29168932,  0.30111498, -0.20269254, -0.03179483,\n",
        "        -0.1503153 , -0.27852609,  0.3072198 , -0.22650957,  0.06556249,\n",
        "        -0.11810797,  0.25942005, -0.30899421,  0.25048806,  0.16335903,\n",
        "        -0.27607227,  0.30067101, -0.22587964,  0.07364274,  0.10579017],\n",
        "       [-0.2143208 , -0.31065884, -0.23605176,  0.0316752 , -0.18997198,\n",
        "         0.30712524,  0.25572444, -0.06437249, -0.16181276,  0.29925123,\n",
        "         0.27361374, -0.09989502, -0.126841  ,  0.28426903,  0.19785988,\n",
        "        -0.30008556,  0.25351809, -0.07684738, -0.14232596,  0.28943164],\n",
        "       [ 0.24599136,  0.30113741,  0.12275369,  0.15069183,  0.3072475 ,\n",
        "        -0.22590712,  0.02996474, -0.26235877,  0.29222545, -0.09741422,\n",
        "         0.17151523, -0.30854663,  0.21050198,  0.04596349,  0.22832559,\n",
        "        -0.29962312,  0.15991537,  0.09710842, -0.28674269,  0.26609124],\n",
        "       [-0.27198869, -0.26399827,  0.01562789, -0.27906373, -0.25552606,\n",
        "        -0.03039343, -0.28484984,  0.24720967,  0.04313329, -0.28888265,\n",
        "        -0.24013531, -0.05184269,  0.29029611, -0.23633574,  0.25413482,\n",
        "        -0.27472267,  0.03701282,  0.23956951, -0.2870044 ,  0.05246043],\n",
        "       [ 0.29171322,  0.20264748, -0.15081606,  0.30744293,  0.06325627,\n",
        "         0.26313847,  0.24690618,  0.09007896, -0.30974287,  0.12816234,\n",
        "        -0.21838775,  0.28305132,  0.0149134 , -0.29242755,  0.27476124,\n",
        "        -0.22741514, -0.09267125,  0.30433218, -0.1429795 , -0.19868652],\n",
        "       [-0.30471006, -0.12271162,  0.25518646, -0.22566073,  0.16380669,\n",
        "        -0.29194606,  0.04485975, -0.30998548,  0.0826604 ,  0.27524129,\n",
        "         0.19750774,  0.19104226, -0.27871583, -0.06862397,  0.28978418,\n",
        "        -0.16155907, -0.20537602,  0.27039225,  0.07292592, -0.30774635],\n",
        "       [ 0.31067945,  0.0315217 , -0.30741201,  0.06302092, -0.3007702 ,\n",
        "         0.09448976, -0.29050936,  0.12594916,  0.27617259, -0.1574585 ,\n",
        "         0.25693971, -0.18910015, -0.23133668,  0.22086266,  0.29889728,\n",
        "        -0.08252583, -0.28045161,  0.14875731,  0.25216907, -0.19672687],\n",
        "       [-0.30948373,  0.06255911,  0.29682095,  0.12220023,  0.27229949,\n",
        "         0.17619796,  0.23751216,  0.22221182, -0.19482043, -0.25848171,\n",
        "        -0.14735512, -0.28403834,  0.09908254,  0.29895183,  0.30191467,\n",
        "         0.00323843, -0.30414262, -0.02112338,  0.30463849,  0.05497832],\n",
        "       [ 0.30115047, -0.15090254, -0.22557744, -0.26363521, -0.09405446,\n",
        "        -0.31032882,  0.05965015, -0.28080803, -0.19705154,  0.18497081,\n",
        "        -0.28570227,  0.04941519,  0.30827443,  0.09090094,  0.29877482,\n",
        "         0.08873855, -0.27210836, -0.18415322,  0.20395607,  0.26736675],\n",
        "       [-0.28587187,  0.22540649,  0.1082394 ,  0.31060575, -0.13592384,\n",
        "         0.20394878, -0.29549145, -0.02651739,  0.27484758,  0.23879377,\n",
        "         0.09158829,  0.30833984,  0.14029303, -0.20415528,  0.28954177,\n",
        "         0.16700092, -0.19021816, -0.28745753,  0.0007382 ,  0.28855261],\n",
        "       [ 0.26400029, -0.27923811,  0.03121629, -0.24628162,  0.29113924,\n",
        "         0.06049554,  0.22756429,  0.29928794,  0.08542962, -0.21038756,\n",
        "         0.30357959,  0.10222083, -0.19933667, -0.30380542,  0.2744038 ,\n",
        "         0.23164229, -0.07347603, -0.29753213, -0.2028508 ,  0.10338522],\n",
        "       [-0.23604014,  0.30746042, -0.16429324,  0.0937111 , -0.28621778,\n",
        "        -0.27805464,  0.07430146, -0.18205564, -0.30954251, -0.21640051,\n",
        "        -0.03233194, -0.25806947, -0.29507827, -0.11266991,  0.25366966,\n",
        "         0.27739033,  0.05672844, -0.21110956, -0.30445999, -0.15571627],\n",
        "       [ 0.20263627, -0.30748512,  0.26379849,  0.0924375 ,  0.12386646,\n",
        "         0.28011596, -0.2997845 , -0.17241381,  0.0402827 ,  0.23342082,\n",
        "        -0.30989053, -0.22913477, -0.02979207,  0.18630697,  0.22776218,\n",
        "         0.30051371,  0.17653908, -0.05621885, -0.25300708, -0.30346004],\n",
        "       [-0.16455906,  0.27930993, -0.30939911, -0.24546437,  0.10661579,\n",
        "        -0.06508194,  0.21708578,  0.3022104 ,  0.29318279,  0.19155564,\n",
        "        -0.02815626,  0.14538509,  0.27194468,  0.30696118,  0.19720973,\n",
        "         0.29912645,  0.26400407,  0.11690506, -0.07435914, -0.23418978],\n",
        "       [ 0.12268666, -0.22551886,  0.29177706,  0.31053769, -0.27845559,\n",
        "        -0.20039185,  0.0887795 , -0.03819588, -0.15935096, -0.25380964,\n",
        "         0.30439465,  0.30063256,  0.24095754,  0.13380922,  0.16263539,\n",
        "         0.27334167,  0.30309801,  0.25211371,  0.14167159,  0.00255713],\n",
        "       [-0.07798478,  0.15104514, -0.21453324, -0.26434071,  0.297135  ,\n",
        "         0.31055805, -0.30337848, -0.27559178, -0.2284667 , -0.16454063,\n",
        "         0.0875717 ,  0.00246062, -0.08484078, -0.16741748,  0.12474426,\n",
        "         0.22526247,  0.28665808,  0.30555553,  0.28647933,  0.23747535],\n",
        "       [ 0.03148436, -0.06271887,  0.09345167,  0.12342651, -0.15237968,\n",
        "        -0.18003569,  0.20610105,  0.23025512,  0.25213653,  0.27132303,\n",
        "        -0.28730134, -0.29942246, -0.30683653, -0.30840148,  0.08430911,\n",
        "         0.15881029,  0.2176964 ,  0.259898  ,  0.28726444,  0.30256731]])"
       ]
      }
     ],
     "prompt_number": 111
    },
    {
     "cell_type": "code",
     "collapsed": false,
     "input": [
      "psi[0,4]"
     ],
     "language": "python",
     "metadata": {},
     "outputs": [
      {
       "metadata": {},
       "output_type": "pyout",
       "prompt_number": 112,
       "text": [
        "0.21414535708643598"
       ]
      }
     ],
     "prompt_number": 112
    },
    {
     "cell_type": "code",
     "collapsed": false,
     "input": [
      "sin(resp *pi* N) - l*sin(resp *pi* (N+1))"
     ],
     "language": "python",
     "metadata": {},
     "outputs": [
      {
       "metadata": {},
       "output_type": "pyout",
       "prompt_number": 113,
       "text": [
        "array([-0.9744483 , -0.47235327,  0.77040441,  0.87414015, -0.37083274,\n",
        "       -1.11769249, -0.18196502,  1.10679744,  0.78453012, -0.77654976,\n",
        "       -1.27183316,  0.14535033,  1.45840046,  0.65315536, -1.21096959,\n",
        "       -1.38484958,  0.52193417,  1.78255432,  0.4536149 , -1.64607535,\n",
        "       -1.42308762,  0.9356807 ,  2.04470414,  0.18335084, -2.05151375,\n",
        "       -1.37190665,  1.36444942,  2.22171763, -0.14664313, -2.40027731,\n",
        "       -1.229739  ,  1.78273148,  2.30017342, -0.51768845, -2.67021026,\n",
        "       -1.00431357,  2.16481349,  2.27507763, -0.90670697, -2.84482697,\n",
        "       -0.71035118,  2.4868398 ,  2.14904863, -1.28855475, -2.91394075,\n",
        "       -0.3677724 ,  2.7284408 ,  1.93155825, -1.63800694, -2.8740558 ])"
       ]
      }
     ],
     "prompt_number": 113
    },
    {
     "cell_type": "code",
     "collapsed": false,
     "input": [],
     "language": "python",
     "metadata": {},
     "outputs": [],
     "prompt_number": 27
    },
    {
     "cell_type": "code",
     "collapsed": false,
     "input": [],
     "language": "python",
     "metadata": {},
     "outputs": [],
     "prompt_number": 27
    },
    {
     "cell_type": "code",
     "collapsed": false,
     "input": [
      "ls = linspace(0.11, 2,200)\n",
      "for l in ls:\n",
      "    k1 = linspace(0,pi,N)\n",
      "    esp = ((-cos(k1)*2*l+ l**2 +1)*4)**(0.5)\n",
      "    str1 = '\\t'.join(str(e) for e in esp)\n",
      "    fh.write(str1)\n",
      "    fh.write('\\n')\n",
      "    \n",
      "fh.close()  "
     ],
     "language": "python",
     "metadata": {},
     "outputs": [
      {
       "ename": "ValueError",
       "evalue": "I/O operation on closed file",
       "output_type": "pyerr",
       "traceback": [
        "\u001b[0;31m---------------------------------------------------------------------------\u001b[0m\n\u001b[0;31mValueError\u001b[0m                                Traceback (most recent call last)",
        "\u001b[0;32m<ipython-input-27-9f967d67eee6>\u001b[0m in \u001b[0;36m<module>\u001b[0;34m()\u001b[0m\n\u001b[1;32m      4\u001b[0m     \u001b[0mesp\u001b[0m \u001b[0;34m=\u001b[0m \u001b[0;34m(\u001b[0m\u001b[0;34m(\u001b[0m\u001b[0;34m-\u001b[0m\u001b[0mcos\u001b[0m\u001b[0;34m(\u001b[0m\u001b[0mk1\u001b[0m\u001b[0;34m)\u001b[0m\u001b[0;34m*\u001b[0m\u001b[0;36m2\u001b[0m\u001b[0;34m*\u001b[0m\u001b[0ml\u001b[0m\u001b[0;34m+\u001b[0m \u001b[0ml\u001b[0m\u001b[0;34m**\u001b[0m\u001b[0;36m2\u001b[0m \u001b[0;34m+\u001b[0m\u001b[0;36m1\u001b[0m\u001b[0;34m)\u001b[0m\u001b[0;34m*\u001b[0m\u001b[0;36m4\u001b[0m\u001b[0;34m)\u001b[0m\u001b[0;34m**\u001b[0m\u001b[0;34m(\u001b[0m\u001b[0;36m0.5\u001b[0m\u001b[0;34m)\u001b[0m\u001b[0;34m\u001b[0m\u001b[0m\n\u001b[1;32m      5\u001b[0m     \u001b[0mstr1\u001b[0m \u001b[0;34m=\u001b[0m \u001b[0;34m'\\t'\u001b[0m\u001b[0;34m.\u001b[0m\u001b[0mjoin\u001b[0m\u001b[0;34m(\u001b[0m\u001b[0mstr\u001b[0m\u001b[0;34m(\u001b[0m\u001b[0me\u001b[0m\u001b[0;34m)\u001b[0m \u001b[0;32mfor\u001b[0m \u001b[0me\u001b[0m \u001b[0;32min\u001b[0m \u001b[0mesp\u001b[0m\u001b[0;34m)\u001b[0m\u001b[0;34m\u001b[0m\u001b[0m\n\u001b[0;32m----> 6\u001b[0;31m     \u001b[0mfh\u001b[0m\u001b[0;34m.\u001b[0m\u001b[0mwrite\u001b[0m\u001b[0;34m(\u001b[0m\u001b[0mstr1\u001b[0m\u001b[0;34m)\u001b[0m\u001b[0;34m\u001b[0m\u001b[0m\n\u001b[0m\u001b[1;32m      7\u001b[0m     \u001b[0mfh\u001b[0m\u001b[0;34m.\u001b[0m\u001b[0mwrite\u001b[0m\u001b[0;34m(\u001b[0m\u001b[0;34m'\\n'\u001b[0m\u001b[0;34m)\u001b[0m\u001b[0;34m\u001b[0m\u001b[0m\n\u001b[1;32m      8\u001b[0m \u001b[0;34m\u001b[0m\u001b[0m\n",
        "\u001b[0;31mValueError\u001b[0m: I/O operation on closed file"
       ]
      }
     ],
     "prompt_number": 27
    }
   ],
   "metadata": {}
  }
 ]
}