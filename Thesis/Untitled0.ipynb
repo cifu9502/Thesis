{
 "metadata": {
  "name": ""
 },
 "nbformat": 3,
 "nbformat_minor": 0,
 "worksheets": [
  {
   "cells": [
    {
     "cell_type": "code",
     "collapsed": false,
     "input": [
      "from __future__ import division \n",
      "%pylab inline\n",
      "N = 100\n",
      "l = 0.00005\n",
      "vec1 = zeros(N)\n",
      "vec2 = zeros(N)\n",
      "vec1[1] = 1\n",
      "vec2 = -vec1\n",
      "from scipy.linalg import toeplitz\n",
      "B = toeplitz(vec1, vec2)\n",
      "A = toeplitz(vec2, vec2) + 2*l*identity(N)\n",
      "\n",
      "\n",
      "M = zeros((2*N,2*N))\n",
      "M[:N,:N] = A/2 \n",
      "M[:N,N:] = B/2\n",
      "M[N:,:N] = -B/2\n",
      "M[N:,N:] = -A/2\n",
      "print(M)\n"
     ],
     "language": "python",
     "metadata": {},
     "outputs": [
      {
       "output_type": "stream",
       "stream": "stdout",
       "text": [
        "Populating the interactive namespace from numpy and matplotlib\n",
        "[[  5.00000000e-05  -5.00000000e-01   0.00000000e+00 ...,  -0.00000000e+00\n",
        "   -0.00000000e+00  -0.00000000e+00]\n",
        " [ -5.00000000e-01   5.00000000e-05  -5.00000000e-01 ...,  -0.00000000e+00\n",
        "   -0.00000000e+00  -0.00000000e+00]\n",
        " [  0.00000000e+00  -5.00000000e-01   5.00000000e-05 ...,  -0.00000000e+00\n",
        "   -0.00000000e+00  -0.00000000e+00]\n",
        " ..., \n",
        " [ -0.00000000e+00  -0.00000000e+00  -0.00000000e+00 ...,  -5.00000000e-05\n",
        "    5.00000000e-01  -0.00000000e+00]\n",
        " [ -0.00000000e+00  -0.00000000e+00  -0.00000000e+00 ...,   5.00000000e-01\n",
        "   -5.00000000e-05   5.00000000e-01]\n",
        " [ -0.00000000e+00  -0.00000000e+00  -0.00000000e+00 ...,  -0.00000000e+00\n",
        "    5.00000000e-01  -5.00000000e-05]]\n"
       ]
      },
      {
       "output_type": "stream",
       "stream": "stderr",
       "text": [
        "WARNING: pylab import has clobbered these variables: ['number', 'diff']\n",
        "`%pylab --no-import-all` prevents importing * from pylab and numpy\n"
       ]
      }
     ],
     "prompt_number": 214
    },
    {
     "cell_type": "code",
     "collapsed": false,
     "input": [
      "transpose(M)-M"
     ],
     "language": "python",
     "metadata": {},
     "outputs": [
      {
       "metadata": {},
       "output_type": "pyout",
       "prompt_number": 215,
       "text": [
        "array([[ 0.,  0.,  0., ...,  0.,  0.,  0.],\n",
        "       [ 0.,  0.,  0., ...,  0.,  0.,  0.],\n",
        "       [ 0.,  0.,  0., ...,  0.,  0.,  0.],\n",
        "       ..., \n",
        "       [ 0.,  0.,  0., ...,  0.,  0.,  0.],\n",
        "       [ 0.,  0.,  0., ...,  0.,  0.,  0.],\n",
        "       [ 0.,  0.,  0., ...,  0.,  0.,  0.]])"
       ]
      }
     ],
     "prompt_number": 215
    },
    {
     "cell_type": "code",
     "collapsed": false,
     "input": [
      "eigen = eig(M)[0]\n",
      "vecs = eig(M)[1]\n",
      "orden = argsort(eigen)\n",
      "orden = orden[eigen[orden]>(-10**(-9))]\n",
      "if len(orden)>N:\n",
      "    new = orden[0]\n",
      "    orden = orden[1:]\n",
      "    #orden[0] = new\n",
      "\n",
      "#orden[:N] = orden[:N][::-1]\n",
      "#orden = argsort(abs(eigen)+0.000001*(eigen-abs(eigen)))\n",
      "vecs= vecs[:,orden]"
     ],
     "language": "python",
     "metadata": {},
     "outputs": [],
     "prompt_number": 216
    },
    {
     "cell_type": "code",
     "collapsed": false,
     "input": [
      "eigen[orden]"
     ],
     "language": "python",
     "metadata": {},
     "outputs": [
      {
       "metadata": {},
       "output_type": "pyout",
       "prompt_number": 217,
       "text": [
        "array([  3.51581858e-17,   9.99950025e-01,   9.99950099e-01,\n",
        "         9.99950222e-01,   9.99950394e-01,   9.99950616e-01,\n",
        "         9.99950886e-01,   9.99951204e-01,   9.99951571e-01,\n",
        "         9.99951985e-01,   9.99952447e-01,   9.99952956e-01,\n",
        "         9.99953511e-01,   9.99954112e-01,   9.99954759e-01,\n",
        "         9.99955450e-01,   9.99956185e-01,   9.99956963e-01,\n",
        "         9.99957784e-01,   9.99958646e-01,   9.99959550e-01,\n",
        "         9.99960493e-01,   9.99961475e-01,   9.99962495e-01,\n",
        "         9.99963552e-01,   9.99964645e-01,   9.99965773e-01,\n",
        "         9.99966935e-01,   9.99968130e-01,   9.99969355e-01,\n",
        "         9.99970612e-01,   9.99971897e-01,   9.99973210e-01,\n",
        "         9.99974549e-01,   9.99975913e-01,   9.99977301e-01,\n",
        "         9.99978712e-01,   9.99980144e-01,   9.99981595e-01,\n",
        "         9.99983064e-01,   9.99984550e-01,   9.99986052e-01,\n",
        "         9.99987567e-01,   9.99989094e-01,   9.99990632e-01,\n",
        "         9.99992180e-01,   9.99993735e-01,   9.99995296e-01,\n",
        "         9.99996862e-01,   9.99998431e-01,   1.00000000e+00,\n",
        "         1.00000157e+00,   1.00000314e+00,   1.00000471e+00,\n",
        "         1.00000627e+00,   1.00000782e+00,   1.00000937e+00,\n",
        "         1.00001091e+00,   1.00001244e+00,   1.00001395e+00,\n",
        "         1.00001545e+00,   1.00001694e+00,   1.00001841e+00,\n",
        "         1.00001986e+00,   1.00002129e+00,   1.00002270e+00,\n",
        "         1.00002409e+00,   1.00002545e+00,   1.00002679e+00,\n",
        "         1.00002811e+00,   1.00002939e+00,   1.00003065e+00,\n",
        "         1.00003187e+00,   1.00003307e+00,   1.00003423e+00,\n",
        "         1.00003536e+00,   1.00003645e+00,   1.00003751e+00,\n",
        "         1.00003853e+00,   1.00003951e+00,   1.00004045e+00,\n",
        "         1.00004135e+00,   1.00004222e+00,   1.00004304e+00,\n",
        "         1.00004382e+00,   1.00004455e+00,   1.00004524e+00,\n",
        "         1.00004589e+00,   1.00004649e+00,   1.00004704e+00,\n",
        "         1.00004755e+00,   1.00004801e+00,   1.00004843e+00,\n",
        "         1.00004880e+00,   1.00004911e+00,   1.00004938e+00,\n",
        "         1.00004961e+00,   1.00004978e+00,   1.00004990e+00,\n",
        "         1.00004998e+00])"
       ]
      }
     ],
     "prompt_number": 217
    },
    {
     "cell_type": "code",
     "collapsed": false,
     "input": [
      "g = transpose(vecs)[:,:N]\n",
      "h = transpose(vecs)[:,N:]\n",
      "result = dot(g,conjugate(transpose(g))) + dot(h,conjugate(transpose(h))) \n",
      "result2 = dot(g,transpose(h)) + dot(h,transpose(g)) \n",
      "\n",
      "diff = result- identity(N)\n",
      "diff2 = result[1:-1,1:-1]-identity(N-2)\n",
      "print(trace(dot(diff,transpose(diff))))\n",
      "print(trace(dot(diff2,transpose(diff2))))\n",
      "\n",
      "result\n",
      "\n",
      "\n"
     ],
     "language": "python",
     "metadata": {},
     "outputs": [
      {
       "output_type": "stream",
       "stream": "stdout",
       "text": [
        "1.10129464394e-16\n",
        "9.87411864644e-17\n"
       ]
      },
      {
       "metadata": {},
       "output_type": "pyout",
       "prompt_number": 218,
       "text": [
        "array([[  1.00000000e+00,  -1.16009632e-16,  -1.12323345e-16, ...,\n",
        "         -3.66026653e-16,   1.82579646e-16,  -1.46800974e-16],\n",
        "       [ -1.16009632e-16,   1.00000000e+00,   4.89373315e-09, ...,\n",
        "         -8.72711773e-13,   9.19698677e-13,  -7.16129650e-13],\n",
        "       [ -1.12323345e-16,   4.89373315e-09,   1.00000000e+00, ...,\n",
        "         -6.10237670e-13,  -1.66381512e-12,   9.36027441e-13],\n",
        "       ..., \n",
        "       [ -3.66026653e-16,  -8.72711773e-13,  -6.10237670e-13, ...,\n",
        "          1.00000000e+00,  -3.98371629e-10,  -3.05820963e-10],\n",
        "       [  1.82579646e-16,   9.19698677e-13,  -1.66381512e-12, ...,\n",
        "         -3.98371629e-10,   1.00000000e+00,  -2.35470296e-09],\n",
        "       [ -1.46800974e-16,  -7.16129650e-13,   9.36027441e-13, ...,\n",
        "         -3.05820963e-10,  -2.35470296e-09,   1.00000000e+00]])"
       ]
      }
     ],
     "prompt_number": 218
    },
    {
     "cell_type": "code",
     "collapsed": false,
     "input": [
      "i = 0\n",
      "number = 0\n",
      "correlation = []\n",
      "for k in range(0,len(g[0])):\n",
      "    dens = abs(g[i,k])**2 -abs(h[i,k])**2 + dot(conjugate(h[:,k]),h[:,k])\n",
      "    #dens = abs(g[k,i])**2 -abs(h[k,i])**2 + dot(conjugate(h[k,:]),h[k,:])\n",
      "    #dens = dot(conjugate(h[:,k]),h[:,k])\n",
      "    correlation.append(dens)\n",
      "    \n",
      "    number = number + dens\n",
      "    \n",
      "ylim([0,1])\n",
      "plot(linspace(0,N,N),correlation)\n",
      "abs(number)"
     ],
     "language": "python",
     "metadata": {},
     "outputs": [
      {
       "metadata": {},
       "output_type": "pyout",
       "prompt_number": 219,
       "text": [
        "49.998724999999595"
       ]
      },
      {
       "metadata": {},
       "output_type": "display_data",
       "png": "[encoded data removed]",
       "text": [
        "<matplotlib.figure.Figure at 0x7fa47d7667d0>"
       ]
      }
     ],
     "prompt_number": 219
    },
    {
     "cell_type": "code",
     "collapsed": false,
     "input": [
      "plot(linspace(0,N,N),correlation)"
     ],
     "language": "python",
     "metadata": {},
     "outputs": [
      {
       "metadata": {},
       "output_type": "pyout",
       "prompt_number": 220,
       "text": [
        "[<matplotlib.lines.Line2D at 0x7fa47d5f4890>]"
       ]
      },
      {
       "metadata": {},
       "output_type": "display_data",
       "png": "[encoded data removed]",
       "text": [
        "<matplotlib.figure.Figure at 0x7fa47d79d9d0>"
       ]
      }
     ],
     "prompt_number": 220
    },
    {
     "cell_type": "code",
     "collapsed": false,
     "input": [
      "correlation-correlation[1]"
     ],
     "language": "python",
     "metadata": {},
     "outputs": [
      {
       "metadata": {},
       "output_type": "pyout",
       "prompt_number": 221,
       "text": [
        "array([ -2.50012499e-01,   0.00000000e+00,   6.00764660e-10,\n",
        "         6.21147467e-10,   6.06694195e-10,   6.33909869e-10,\n",
        "         6.18643081e-10,   6.45961729e-10,   6.32109975e-10,\n",
        "         6.50154097e-10,   6.52761900e-10,   6.39098829e-10,\n",
        "         6.74559686e-10,   6.49185927e-10,   6.15088980e-10,\n",
        "         6.26583452e-10,   6.24969909e-10,   5.75995807e-10,\n",
        "         5.53289803e-10,   5.71761805e-10,   5.03092901e-10,\n",
        "         4.69523975e-10,   4.70581352e-10,   4.78730111e-10,\n",
        "         5.38396772e-10,   5.75435588e-10,   5.12714815e-10,\n",
        "         5.06183151e-10,   5.09173814e-10,   4.86805318e-10,\n",
        "         5.26768129e-10,   5.32324462e-10,   4.83403984e-10,\n",
        "         5.20552379e-10,   5.44499057e-10,   5.02186959e-10,\n",
        "         5.53660007e-10,   5.60135105e-10,   5.86847404e-10,\n",
        "         5.60500868e-10,   6.14661044e-10,   6.43041398e-10,\n",
        "         6.86796009e-10,   7.33302419e-10,   7.47928885e-10,\n",
        "         7.73735354e-10,   7.79560638e-10,   7.44534323e-10,\n",
        "         6.75061340e-10,   7.05910275e-10,   7.29574623e-10,\n",
        "         7.39296457e-10,   6.68564815e-10,   6.68342548e-10,\n",
        "         6.56930954e-10,   7.27445049e-10,   7.43735740e-10,\n",
        "         7.87853116e-10,   8.07473755e-10,   7.99997235e-10,\n",
        "         8.05323752e-10,   8.33730196e-10,   8.60951810e-10,\n",
        "         8.45753967e-10,   9.13078779e-10,   8.60339633e-10,\n",
        "         9.08454645e-10,   1.00200648e-09,   9.55898194e-10,\n",
        "         8.81514084e-10,   9.27930732e-10,   9.25739485e-10,\n",
        "         9.00387820e-10,   9.00313546e-10,   8.58758509e-10,\n",
        "         8.82327322e-10,   9.25031773e-10,   9.45733880e-10,\n",
        "         9.09062381e-10,   8.58700500e-10,   8.07340972e-10,\n",
        "         7.93862531e-10,   7.56978535e-10,   7.26816274e-10,\n",
        "         7.00922043e-10,   7.02896408e-10,   6.73813561e-10,\n",
        "         6.60623722e-10,   6.61606381e-10,   6.86987078e-10,\n",
        "         6.88135771e-10,   7.24112936e-10,   7.42097273e-10,\n",
        "         7.40499051e-10,   7.17226722e-10,   7.21280702e-10,\n",
        "         7.48741624e-10,   7.33732852e-10,   1.44036066e-09,\n",
        "         2.49987500e-01])"
       ]
      }
     ],
     "prompt_number": 221
    },
    {
     "cell_type": "code",
     "collapsed": false,
     "input": [],
     "language": "python",
     "metadata": {},
     "outputs": [],
     "prompt_number": 178
    },
    {
     "cell_type": "code",
     "collapsed": false,
     "input": [],
     "language": "python",
     "metadata": {},
     "outputs": []
    }
   ],
   "metadata": {}
  }
 ]
}