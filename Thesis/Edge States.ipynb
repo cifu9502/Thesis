{
 "metadata": {
  "name": ""
 },
 "nbformat": 3,
 "nbformat_minor": 0,
 "worksheets": [
  {
   "cells": [
    {
     "cell_type": "code",
     "collapsed": false,
     "input": [
      "from __future__ import division \n",
      "%pylab inline\n",
      "N = 99\n",
      "l = 10\n",
      "vec1 = zeros(N)\n",
      "vec2 = zeros(N)\n",
      "vec1[1] = 1\n",
      "vec2 = -vec1\n",
      "from scipy.linalg import toeplitz\n",
      "B = toeplitz(vec1, vec2)\n",
      "A = toeplitz(vec2, vec2) + 2*l*identity(N)\n",
      "\n",
      "\n",
      "M = zeros((2*N,2*N))\n",
      "M[:N,:N] = A/2 \n",
      "M[:N,N:] = B/2\n",
      "M[N:,:N] = -B/2\n",
      "M[N:,N:] = -A/2\n",
      "print(M)\n"
     ],
     "language": "python",
     "metadata": {},
     "outputs": [
      {
       "output_type": "stream",
       "stream": "stdout",
       "text": [
        "Populating the interactive namespace from numpy and matplotlib\n",
        "[[ 10.   -0.5   0.  ...,  -0.   -0.   -0. ]\n",
        " [ -0.5  10.   -0.5 ...,  -0.   -0.   -0. ]\n",
        " [  0.   -0.5  10.  ...,  -0.   -0.   -0. ]\n",
        " ..., \n",
        " [ -0.   -0.   -0.  ..., -10.    0.5  -0. ]\n",
        " [ -0.   -0.   -0.  ...,   0.5 -10.    0.5]\n",
        " [ -0.   -0.   -0.  ...,  -0.    0.5 -10. ]]"
       ]
      },
      {
       "output_type": "stream",
       "stream": "stdout",
       "text": [
        "\n"
       ]
      }
     ],
     "prompt_number": 1
    },
    {
     "cell_type": "code",
     "collapsed": false,
     "input": [
      "transpose(M)-M"
     ],
     "language": "python",
     "metadata": {},
     "outputs": [
      {
       "metadata": {},
       "output_type": "pyout",
       "prompt_number": 2,
       "text": [
        "array([[ 0.,  0.,  0., ...,  0.,  0.,  0.],\n",
        "       [ 0.,  0.,  0., ...,  0.,  0.,  0.],\n",
        "       [ 0.,  0.,  0., ...,  0.,  0.,  0.],\n",
        "       ..., \n",
        "       [ 0.,  0.,  0., ...,  0.,  0.,  0.],\n",
        "       [ 0.,  0.,  0., ...,  0.,  0.,  0.],\n",
        "       [ 0.,  0.,  0., ...,  0.,  0.,  0.]])"
       ]
      }
     ],
     "prompt_number": 2
    },
    {
     "cell_type": "code",
     "collapsed": false,
     "input": [
      "eigen = eig(M)[0]\n",
      "vecs = eig(M)[1]\n",
      "orden = argsort(eigen)\n",
      "orden = orden[eigen[orden]>(-10**(-9))]\n",
      "\n",
      "if len(orden)>N:\n",
      "#    new = orden[0]\n",
      "     orden = orden[:-1]\n",
      "#    orden = orden[1:]\n",
      "    #orden[0] = new\n",
      "\n",
      "#orden[:N] = orden[:N][::-1]\n",
      "#orden = argsort(abs(eigen)+0.000001*(eigen-abs(eigen)))\n",
      "vecs= vecs[:,orden]"
     ],
     "language": "python",
     "metadata": {},
     "outputs": [],
     "prompt_number": 3
    },
    {
     "cell_type": "code",
     "collapsed": false,
     "input": [
      "eigen[orden]"
     ],
     "language": "python",
     "metadata": {},
     "outputs": [
      {
       "metadata": {},
       "output_type": "pyout",
       "prompt_number": 4,
       "text": [
        "array([  9.00054703,   9.0021874 ,   9.0049189 ,   9.00873786,\n",
        "         9.01363917,   9.01961627,   9.02666118,   9.03476451,\n",
        "         9.04391549,   9.05410201,   9.06531061,   9.07752655,\n",
        "         9.09073383,   9.10491522,   9.12005232,   9.13612559,\n",
        "         9.15311436,   9.17099696,   9.18975068,   9.20935187,\n",
        "         9.22977595,   9.25099752,   9.27299033,   9.29572741,\n",
        "         9.31918107,   9.34332296,   9.36812416,   9.39355516,\n",
        "         9.41958598,   9.44618618,   9.47332492,   9.50097102,\n",
        "         9.52909299,   9.55765908,   9.58663734,   9.61599564,\n",
        "         9.64570176,   9.67572336,   9.70602808,   9.73658358,\n",
        "         9.76735752,   9.79831766,   9.82943187,   9.86066815,\n",
        "         9.89199469,   9.92337987,   9.95479233,   9.98620095,\n",
        "        10.01757492,  10.04888373,  10.08009723,  10.1111856 ,\n",
        "        10.14211945,  10.17286975,  10.20340793,  10.23370583,\n",
        "        10.26373577,  10.29347055,  10.32288344,  10.35194823,\n",
        "        10.38063922,  10.40893124,  10.43679966,  10.46422041,\n",
        "        10.49116997,  10.5176254 ,  10.54356433,  10.56896499,\n",
        "        10.5938062 ,  10.61806737,  10.64172853,  10.66477034,\n",
        "        10.68717405,  10.70892154,  10.72999534,  10.75037859,\n",
        "        10.77005508,  10.78900924,  10.80722614,  10.8246915 ,\n",
        "        10.84139169,  10.85731373,  10.87244529,  10.8867747 ,\n",
        "        10.90029096,  10.91298372,  10.92484328,  10.93586063,\n",
        "        10.9460274 ,  10.95533589,  10.96377908,  10.97135061,\n",
        "        10.97804478,  10.98385655,  10.98878159,  10.99281619,\n",
        "        10.99595735,  10.99820271,  10.99955059])"
       ]
      }
     ],
     "prompt_number": 4
    },
    {
     "cell_type": "code",
     "collapsed": false,
     "input": [
      "g = transpose(vecs)[:,:N]\n",
      "h = transpose(vecs)[:,N:]\n",
      "result = dot(g,conjugate(transpose(g))) + dot(h,conjugate(transpose(h))) \n",
      "result2 = dot(g,transpose(h)) + dot(h,transpose(g)) \n",
      "\n",
      "diff = result- identity(N)\n",
      "diff2 = result[1:-1,1:-1]-identity(N-2)\n",
      "print(trace(dot(diff,transpose(diff))))\n",
      "print(trace(dot(diff2,transpose(diff2))))\n",
      "\n",
      "result\n",
      "\n",
      "\n"
     ],
     "language": "python",
     "metadata": {},
     "outputs": [
      {
       "output_type": "stream",
       "stream": "stdout",
       "text": [
        "9.62512683949e-23\n",
        "5.47959967785e-23\n"
       ]
      },
      {
       "metadata": {},
       "output_type": "pyout",
       "prompt_number": 5,
       "text": [
        "array([[  1.00000000e+00,   2.94551817e-12,  -3.10227761e-13, ...,\n",
        "          5.28539480e-16,  -1.01483223e-15,   6.82267185e-16],\n",
        "       [  2.94551817e-12,   1.00000000e+00,  -2.23285445e-12, ...,\n",
        "         -5.74771253e-16,   3.21744856e-16,  -1.47419317e-15],\n",
        "       [ -3.10227761e-13,  -2.23285445e-12,   1.00000000e+00, ...,\n",
        "         -4.19853533e-16,  -4.24527196e-16,   1.16363023e-15],\n",
        "       ..., \n",
        "       [  5.28539480e-16,  -5.74771253e-16,  -4.19853533e-16, ...,\n",
        "          1.00000000e+00,   2.77545335e-12,   1.16779968e-12],\n",
        "       [ -1.01483223e-15,   3.21744856e-16,  -4.24527196e-16, ...,\n",
        "          2.77545335e-12,   1.00000000e+00,   3.18917022e-12],\n",
        "       [  6.82267185e-16,  -1.47419317e-15,   1.16363023e-15, ...,\n",
        "          1.16779968e-12,   3.18917022e-12,   1.00000000e+00]])"
       ]
      }
     ],
     "prompt_number": 5
    },
    {
     "cell_type": "code",
     "collapsed": false,
     "input": [
      "i = 0\n",
      "number = 0\n",
      "correlation = []\n",
      "for k in range(0,len(g[0])):\n",
      "    dens = abs(g[i,k])**2 -abs(h[i,k])**2 + dot(conjugate(h[:,k]),h[:,k])\n",
      "    #dens = abs(g[k,i])**2 -abs(h[k,i])**2 + dot(conjugate(h[k,:]),h[k,:])\n",
      "    #dens = dot(conjugate(h[:,k]),h[:,k])\n",
      "    correlation.append(dens)\n",
      "    \n",
      "    number = number + dens\n",
      "    \n",
      "ylim([0,1])\n",
      "xlabel('Position in the chain')\n",
      "ylabel('Occupation number')\n",
      "title('Occupation number $\\lambda =$'+ repr(l)+'. (' + repr(round(number, 2))+' Particles)')\n",
      "#plot(linspace(0,N,N),correlation)\n",
      "bar(linspace(0,N,N), correlation)\n",
      "abs(number)"
     ],
     "language": "python",
     "metadata": {},
     "outputs": [
      {
       "metadata": {},
       "output_type": "pyout",
       "prompt_number": 6,
       "text": [
        "1.1227199816590567"
       ]
      },
      {
       "metadata": {},
       "output_type": "display_data",
       "png": "[encoded data removed]",
       "text": [
        "<matplotlib.figure.Figure at 0x7f701c72a2d0>"
       ]
      }
     ],
     "prompt_number": 6
    },
    {
     "cell_type": "code",
     "collapsed": false,
     "input": [
      "xlabel('Position in the chain')\n",
      "ylabel('Occupation number')\n",
      "title('Occupation number $\\lambda =$'+ repr(l)+'. (' + repr(round(number, 2))+' Particles)')\n",
      "bar(linspace(0,N,N),correlation)"
     ],
     "language": "python",
     "metadata": {},
     "outputs": [
      {
       "metadata": {},
       "output_type": "pyout",
       "prompt_number": 7,
       "text": [
        "<Container object of 99 artists>"
       ]
      },
      {
       "metadata": {},
       "output_type": "display_data",
       "png": "[encoded data removed]",
       "text": [
        "<matplotlib.figure.Figure at 0x7f701c713550>"
       ]
      }
     ],
     "prompt_number": 7
    },
    {
     "cell_type": "code",
     "collapsed": false,
     "input": [
      "correlation-correlation[1]"
     ],
     "language": "python",
     "metadata": {},
     "outputs": [
      {
       "metadata": {},
       "output_type": "pyout",
       "prompt_number": 146,
       "text": [
        "array([ -1.54669043e-02,   0.00000000e+00,   1.28092487e-03,\n",
        "         1.58269166e-03,   1.79480257e-03,   2.02350848e-03,\n",
        "         2.28406403e-03,   2.57820748e-03,   2.90530466e-03,\n",
        "         3.26418734e-03,   3.65348656e-03,   4.07170016e-03,\n",
        "         4.51721098e-03,   4.98829557e-03,   5.48313140e-03,\n",
        "         5.99980401e-03,   6.53631447e-03,   7.09058708e-03,\n",
        "         7.66047743e-03,   8.24378068e-03,   8.83824009e-03,\n",
        "         9.44155578e-03,   1.00513936e-02,   1.06653941e-02,\n",
        "         1.12811819e-02,   1.18963745e-02,   1.25085919e-02,\n",
        "         1.31154653e-02,   1.37146470e-02,   1.43038187e-02,\n",
        "         1.48807011e-02,   1.54430621e-02,   1.59887262e-02,\n",
        "         1.65155822e-02,   1.70215917e-02,   1.75047971e-02,\n",
        "         1.79633289e-02,   1.83954132e-02,   1.87993781e-02,\n",
        "         1.91736609e-02,   1.95168134e-02,   1.98275082e-02,\n",
        "         2.01045430e-02,   2.03468462e-02,   2.05534802e-02,\n",
        "         2.07236456e-02,   2.08566841e-02,   2.09520810e-02,\n",
        "         2.10094672e-02,   2.10286206e-02,   2.10094672e-02,\n",
        "         2.09520810e-02,   2.08566841e-02,   2.07236456e-02,\n",
        "         2.05534802e-02,   2.03468462e-02,   2.01045430e-02,\n",
        "         1.98275082e-02,   1.95168134e-02,   1.91736609e-02,\n",
        "         1.87993781e-02,   1.83954132e-02,   1.79633289e-02,\n",
        "         1.75047971e-02,   1.70215917e-02,   1.65155822e-02,\n",
        "         1.59887262e-02,   1.54430621e-02,   1.48807011e-02,\n",
        "         1.43038187e-02,   1.37146470e-02,   1.31154653e-02,\n",
        "         1.25085919e-02,   1.18963745e-02,   1.12811819e-02,\n",
        "         1.06653941e-02,   1.00513936e-02,   9.44155578e-03,\n",
        "         8.83824009e-03,   8.24378068e-03,   7.66047743e-03,\n",
        "         7.09058708e-03,   6.53631447e-03,   5.99980401e-03,\n",
        "         5.48313140e-03,   4.98829557e-03,   4.51721098e-03,\n",
        "         4.07170016e-03,   3.65348656e-03,   3.26418734e-03,\n",
        "         2.90530466e-03,   2.57820748e-03,   2.28406403e-03,\n",
        "         2.02350848e-03,   1.79480257e-03,   1.58269166e-03,\n",
        "         1.28092487e-03,  -6.52256027e-16,  -1.54669043e-02])"
       ]
      }
     ],
     "prompt_number": 146
    },
    {
     "cell_type": "code",
     "collapsed": false,
     "input": [],
     "language": "python",
     "metadata": {},
     "outputs": [],
     "prompt_number": 146
    },
    {
     "cell_type": "code",
     "collapsed": false,
     "input": [],
     "language": "python",
     "metadata": {},
     "outputs": [],
     "prompt_number": 8
    },
    {
     "cell_type": "code",
     "collapsed": false,
     "input": [],
     "language": "python",
     "metadata": {},
     "outputs": [],
     "prompt_number": 8
    },
    {
     "cell_type": "code",
     "collapsed": false,
     "input": [],
     "language": "python",
     "metadata": {},
     "outputs": []
    }
   ],
   "metadata": {}
  }
 ]
}